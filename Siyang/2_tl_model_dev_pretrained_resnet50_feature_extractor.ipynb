{
  "cells": [
    {
      "cell_type": "markdown",
      "metadata": {
        "id": "mSpWa5KJKNFW"
      },
      "source": [
        "## 0. Execute Once - Load Dataset From Kaggle"
      ]
    },
    {
      "cell_type": "markdown",
      "metadata": {
        "id": "cthzEvh_7tIY"
      },
      "source": [
        "### Set up the notebook\n",
        "- **Create new API Token** under Kaggle profile\n",
        "- Upload downloaded kaggle.json file to the designated folder on Google Drive"
      ]
    },
    {
      "cell_type": "code",
      "execution_count": null,
      "metadata": {
        "colab": {
          "base_uri": "https://localhost:8080/"
        },
        "id": "EYw4HzZp7COu",
        "outputId": "ccdc64ba-cfbf-4acc-ef2a-33cc35f066ee"
      },
      "outputs": [
        {
          "name": "stdout",
          "output_type": "stream",
          "text": [
            "Looking in indexes: https://pypi.org/simple, https://us-python.pkg.dev/colab-wheels/public/simple/\n",
            "Requirement already satisfied: kaggle in /usr/local/lib/python3.9/dist-packages (1.5.13)\n",
            "Requirement already satisfied: certifi in /usr/local/lib/python3.9/dist-packages (from kaggle) (2022.12.7)\n",
            "Requirement already satisfied: requests in /usr/local/lib/python3.9/dist-packages (from kaggle) (2.25.1)\n",
            "Requirement already satisfied: tqdm in /usr/local/lib/python3.9/dist-packages (from kaggle) (4.65.0)\n",
            "Requirement already satisfied: python-slugify in /usr/local/lib/python3.9/dist-packages (from kaggle) (8.0.1)\n",
            "Requirement already satisfied: urllib3 in /usr/local/lib/python3.9/dist-packages (from kaggle) (1.26.15)\n",
            "Requirement already satisfied: six>=1.10 in /usr/local/lib/python3.9/dist-packages (from kaggle) (1.15.0)\n",
            "Requirement already satisfied: python-dateutil in /usr/local/lib/python3.9/dist-packages (from kaggle) (2.8.2)\n",
            "Requirement already satisfied: text-unidecode>=1.3 in /usr/local/lib/python3.9/dist-packages (from python-slugify->kaggle) (1.3)\n",
            "Requirement already satisfied: chardet<5,>=3.0.2 in /usr/local/lib/python3.9/dist-packages (from requests->kaggle) (4.0.0)\n",
            "Requirement already satisfied: idna<3,>=2.5 in /usr/local/lib/python3.9/dist-packages (from requests->kaggle) (2.10)\n"
          ]
        }
      ],
      "source": [
        "# ! pip install kaggle"
      ]
    },
    {
      "cell_type": "code",
      "execution_count": 1,
      "metadata": {
        "colab": {
          "base_uri": "https://localhost:8080/"
        },
        "id": "JvOT5b6b-M0A",
        "outputId": "e0d18272-08df-4541-91c4-725c5efb7d89"
      },
      "outputs": [
        {
          "output_type": "stream",
          "name": "stdout",
          "text": [
            "Mounted at /content/gdrive\n"
          ]
        }
      ],
      "source": [
        "# mount Google Drive to Google Colab notebook\n",
        "from google.colab import drive\n",
        "drive.mount('/content/gdrive', force_remount=True)"
      ]
    },
    {
      "cell_type": "markdown",
      "metadata": {
        "id": "LhzBmFnJ_ezu"
      },
      "source": [
        "### Config Kaggle"
      ]
    },
    {
      "cell_type": "code",
      "execution_count": 2,
      "metadata": {
        "id": "_XG6D8Gi_hUO"
      },
      "outputs": [],
      "source": [
        "# set the Kaggle configuration path to kaggle.json\n",
        "import os\n",
        "os.environ['KAGGLE_CONFIG_DIR'] = \"/content/gdrive/MyDrive/deep_learning\""
      ]
    },
    {
      "cell_type": "code",
      "execution_count": 3,
      "metadata": {
        "colab": {
          "base_uri": "https://localhost:8080/"
        },
        "id": "BIpgUzLfAFKZ",
        "outputId": "66f6612f-6b8a-4b01-a838-7ba056aab7c1"
      },
      "outputs": [
        {
          "output_type": "stream",
          "name": "stdout",
          "text": [
            "/content/gdrive/MyDrive/deep_learning/data\n"
          ]
        }
      ],
      "source": [
        "# change the working directory\n",
        "%cd /content/gdrive/MyDrive/deep_learning/data"
      ]
    },
    {
      "cell_type": "markdown",
      "metadata": {
        "id": "PHyKVqJn70pJ"
      },
      "source": [
        "### Download Dataset\n",
        "\n",
        "Go to Kaggle datasets Dashboard and click on `Copy API Command`.\n",
        "\n",
        "Note: The dataset is downloaded as a zip file. We use a keyword `--unzip` used to instantly unzip the file after download and delete the zip file."
      ]
    },
    {
      "cell_type": "code",
      "execution_count": 4,
      "metadata": {
        "colab": {
          "base_uri": "https://localhost:8080/"
        },
        "id": "TGyiK4sZAdwV",
        "outputId": "6e284306-b6b2-473c-96ca-32e75430fb6a"
      },
      "outputs": [
        {
          "output_type": "stream",
          "name": "stdout",
          "text": [
            "tomato-disease-multiple-sources.zip: Skipping, found more recently modified local copy (use --force to force download)\n"
          ]
        }
      ],
      "source": [
        "!kaggle datasets download -d cookiefinder/tomato-disease-multiple-sources"
      ]
    },
    {
      "cell_type": "code",
      "execution_count": 5,
      "metadata": {
        "colab": {
          "base_uri": "https://localhost:8080/"
        },
        "id": "nsIkIn5MAqRr",
        "outputId": "6159e547-61c0-432d-d9a8-b1a36e8c0396"
      },
      "outputs": [
        {
          "output_type": "stream",
          "name": "stdout",
          "text": [
            "tomato-disease-multiple-sources.zip\n"
          ]
        }
      ],
      "source": [
        "# check the file using 'ls' command\n",
        "%ls"
      ]
    },
    {
      "cell_type": "code",
      "execution_count": 6,
      "metadata": {
        "id": "g-pBcdoeBc08"
      },
      "outputs": [],
      "source": [
        "# [Alternative] download zipped datasets and manually unzip using python library\n",
        "import zipfile\n",
        "\n",
        "with zipfile.ZipFile('tomato-disease-multiple-sources.zip','r') as zip_ref:\n",
        "  zip_ref.extractall('./')"
      ]
    },
    {
      "cell_type": "code",
      "execution_count": 7,
      "metadata": {
        "colab": {
          "base_uri": "https://localhost:8080/"
        },
        "id": "2AcTRxbOQzQH",
        "outputId": "12143564-8bed-4c02-d8fc-3c45f3880dff"
      },
      "outputs": [
        {
          "output_type": "stream",
          "name": "stdout",
          "text": [
            "25851\n",
            "6684\n"
          ]
        }
      ],
      "source": [
        "# audit: make sure we have 25,851 images in train and 6684 images in valid\n",
        "train_len, test_len = 0, 0\n",
        "TRAIN_DATA_PATH = '/content/gdrive/MyDrive/deep_learning/data/train'\n",
        "VALID_DATA_PATH = '/content/gdrive/MyDrive/deep_learning/data/valid'\n",
        "\n",
        "for f in os.listdir(TRAIN_DATA_PATH):\n",
        "  train_len += len(os.listdir(os.path.join(TRAIN_DATA_PATH, f)))\n",
        "  test_len += len(os.listdir(os.path.join(VALID_DATA_PATH, f)))\n",
        "\n",
        "assert train_len == 25851, \"Missing images in training set. It should include 25,851 images\"\n",
        "assert test_len == 6684, \"Missing images in valid set. It should include 6,684 images\"\n",
        "print(train_len); print(test_len)"
      ]
    },
    {
      "cell_type": "markdown",
      "metadata": {
        "id": "bLHxXRe4wTDv"
      },
      "source": [
        "## 1. Set-up"
      ]
    },
    {
      "cell_type": "code",
      "execution_count": 129,
      "metadata": {
        "id": "S5ZFmCLzwGcd",
        "colab": {
          "base_uri": "https://localhost:8080/"
        },
        "outputId": "44f00eec-ebce-4e01-f32c-c1df39093400"
      },
      "outputs": [
        {
          "output_type": "stream",
          "name": "stdout",
          "text": [
            "Drive already mounted at /content/gdrive; to attempt to forcibly remount, call drive.mount(\"/content/gdrive\", force_remount=True).\n"
          ]
        }
      ],
      "source": [
        "# # mount Google Drive to Google Colab notebook\n",
        "# from google.colab import drive\n",
        "# drive.mount('/content/gdrive')"
      ]
    },
    {
      "cell_type": "code",
      "execution_count": 8,
      "metadata": {
        "id": "Rhna09NawY3I"
      },
      "outputs": [],
      "source": [
        "# data manipulation\n",
        "import numpy as np\n",
        "import pandas as pd\n",
        "\n",
        "# image processing\n",
        "import cv2\n",
        "import matplotlib.pyplot as plt\n",
        "import seaborn as sns\n",
        "import plotly.express as px\n",
        "sns.set_style('darkgrid')\n",
        "\n",
        "# data preprocessing and modeling\n",
        "import tensorflow as tf\n",
        "from tensorflow import keras\n",
        "from tensorflow.keras import layers\n",
        "from keras.preprocessing.image import ImageDataGenerator\n",
        "from tensorflow.keras.layers import Conv2D, MaxPooling2D, Flatten, Dense, Activation, Dropout, BatchNormalization\n",
        "from tensorflow.keras.models import Model, load_model, Sequential\n",
        "from tensorflow.python.keras.callbacks import EarlyStopping, ModelCheckpoint, LearningRateScheduler\n",
        "\n",
        "# pre-trained model\n",
        "from tensorflow.keras.applications.resnet50 import ResNet50\n",
        "from tensorflow.keras.applications.resnet50 import preprocess_input, decode_predictions\n",
        "\n",
        "# sklearn utility functions\n",
        "from sklearn.model_selection import train_test_split\n",
        "from sklearn.metrics import confusion_matrix, classification_report\n",
        "\n",
        "# others\n",
        "import os, gc, time, pathlib\n",
        "import tqdm, re, json\n",
        "import imghdr\n",
        "\n",
        "# set up random seed\n",
        "import random\n",
        "seed = 24\n",
        "tf.random.set_seed(seed)\n",
        "\n",
        "# customize printing\n",
        "from IPython.core.interactiveshell import InteractiveShell\n",
        "InteractiveShell.ast_node_interactivity = \"all\"\n",
        "pd.set_option('display.max_columns', None)\n",
        "pd.set_option('display.max_rows', 200)\n",
        "pd.set_option('max_colwidth', 200)"
      ]
    },
    {
      "cell_type": "code",
      "execution_count": 9,
      "metadata": {
        "colab": {
          "base_uri": "https://localhost:8080/"
        },
        "id": "PFEDWWNJwmoE",
        "outputId": "5e9943f0-c13b-422b-d225-4af71b16b40a"
      },
      "outputs": [
        {
          "output_type": "stream",
          "name": "stdout",
          "text": [
            "['Bacterial_spot', 'Early_blight', 'Late_blight', 'Leaf_Mold', 'Septoria_leaf_spot', 'Spider_mites Two-spotted_spider_mite', 'Target_Spot', 'Tomato_Yellow_Leaf_Curl_Virus', 'Tomato_mosaic_virus', 'healthy', 'powdery_mildew']\n",
            "11 classes of images\n"
          ]
        }
      ],
      "source": [
        "# environmental variables\n",
        "TRAIN_DATA_PATH = '/content/gdrive/MyDrive/deep_learning/data/train'\n",
        "VALID_DATA_PATH = '/content/gdrive/MyDrive/deep_learning/data/valid'\n",
        "\n",
        "CLASSES = sorted(os.listdir(TRAIN_DATA_PATH))\n",
        "NUM_CLASSES = len(CLASSES)\n",
        "\n",
        "print(CLASSES)\n",
        "print('{} classes of images'.format(NUM_CLASSES))"
      ]
    },
    {
      "cell_type": "markdown",
      "metadata": {
        "id": "S9mNL3OyxWvW"
      },
      "source": [
        "Define utility functions\n",
        "- training history plot\n",
        "- confusion matrix"
      ]
    },
    {
      "cell_type": "code",
      "execution_count": 10,
      "metadata": {
        "id": "RAYeIE0LxdNk"
      },
      "outputs": [],
      "source": [
        "def plot_training(hist):\n",
        "  '''\n",
        "  This function plots training history. (ie training loss vs validation loss)\n",
        "  '''\n",
        "  tr_acc = hist.history['accuracy']\n",
        "  tr_loss = hist.history['loss']\n",
        "  val_acc = hist.history['val_accuracy']\n",
        "  val_loss = hist.history['val_loss']\n",
        "  index_loss = np.argmin(val_loss)\n",
        "  val_lowest = val_loss[index_loss]\n",
        "  index_acc = np.argmax(val_acc)\n",
        "  acc_highest = val_acc[index_acc]\n",
        "\n",
        "  plt.figure(figsize= (20, 8))\n",
        "  plt.style.use('fivethirtyeight')\n",
        "  Epochs = [i+1 for i in range(len(tr_acc))]\n",
        "  loss_label = f'best epoch= {str(index_loss + 1)}'\n",
        "  acc_label = f'best epoch= {str(index_acc + 1)}'\n",
        "\n",
        "  plt.subplot(1, 2, 1)\n",
        "  plt.plot(Epochs, tr_loss, 'r', label= 'Training loss')\n",
        "  plt.plot(Epochs, val_loss, 'g', label= 'Validation loss')\n",
        "  plt.scatter(index_loss + 1, val_lowest, s= 150, c= 'blue', label= loss_label)\n",
        "  plt.title('Training and Validation Loss')\n",
        "  plt.xlabel('Epochs')\n",
        "  plt.ylabel('Loss')\n",
        "  plt.legend()\n",
        "\n",
        "  plt.subplot(1, 2, 2)\n",
        "  plt.plot(Epochs, tr_acc, 'r', label= 'Training Accuracy')\n",
        "  plt.plot(Epochs, val_acc, 'g', label= 'Validation Accuracy')\n",
        "  plt.scatter(index_acc + 1 , acc_highest, s= 150, c= 'blue', label= acc_label)\n",
        "  plt.title('Training and Validation Accuracy')\n",
        "  plt.xlabel('Epochs')\n",
        "  plt.ylabel('Accuracy')\n",
        "  plt.legend()\n",
        "  plt.tight_layout\n",
        "  plt.show()"
      ]
    },
    {
      "cell_type": "code",
      "execution_count": 11,
      "metadata": {
        "id": "EzJ4sr4Ixh1m"
      },
      "outputs": [],
      "source": [
        "# source: https://github.com/DTrimarchi10/confusion_matrix\n",
        "def make_confusion_matrix(cf, group_names=None,categories='auto', count=True,percent=False,cbar=True, \n",
        "                          xyticks=True,xyplotlabels=True,sum_stats=True,figsize=None,\n",
        "                          cmap='Blues',title=None):\n",
        "    '''\n",
        "    This function will make a pretty plot of an sklearn Confusion Matrix cm using a Seaborn heatmap visualization.\n",
        "    Arguments\n",
        "    ---------\n",
        "    cf:            confusion matrix to be passed in\n",
        "    group_names:   List of strings that represent the labels row by row to be shown in each square.\n",
        "    categories:    List of strings containing the categories to be displayed on the x,y axis. Default is 'auto'\n",
        "    count:         If True, show the raw number in the confusion matrix. Default is True.\n",
        "    normalize:     If True, show the proportions for each category. Default is True.\n",
        "    cbar:          If True, show the color bar. The cbar values are based off the values in the confusion matrix.\n",
        "                   Default is True.\n",
        "    xyticks:       If True, show x and y ticks. Default is True.\n",
        "    xyplotlabels:  If True, show 'True Label' and 'Predicted Label' on the figure. Default is True.\n",
        "    sum_stats:     If True, display summary statistics below the figure. Default is True.\n",
        "    figsize:       Tuple representing the figure size. Default will be the matplotlib rcParams value.\n",
        "    cmap:          Colormap of the values displayed from matplotlib.pyplot.cm. Default is 'Blues'\n",
        "                   See http://matplotlib.org/examples/color/colormaps_reference.html\n",
        "                   \n",
        "    title:         Title for the heatmap. Default is None.\n",
        "    '''\n",
        "\n",
        "\n",
        "    # CODE TO GENERATE TEXT INSIDE EACH SQUARE\n",
        "    blanks = ['' for i in range(cf.size)]\n",
        "\n",
        "    if group_names and len(group_names)==cf.size:\n",
        "        group_labels = [\"{}\\n\".format(value) for value in group_names]\n",
        "    else:\n",
        "        group_labels = blanks\n",
        "\n",
        "    if count:\n",
        "        group_counts = [\"{0:0.0f}\\n\".format(value) for value in cf.flatten()]\n",
        "    else:\n",
        "        group_counts = blanks\n",
        "\n",
        "    if percent:\n",
        "        group_percentages = [\"{0:.2%}\".format(value) for value in cf.flatten()/np.sum(cf)]\n",
        "    else:\n",
        "        group_percentages = blanks\n",
        "\n",
        "    box_labels = [f\"{v1}{v2}{v3}\".strip() for v1, v2, v3 in zip(group_labels,group_counts,group_percentages)]\n",
        "    box_labels = np.asarray(box_labels).reshape(cf.shape[0],cf.shape[1])\n",
        "\n",
        "\n",
        "    # CODE TO GENERATE SUMMARY STATISTICS & TEXT FOR SUMMARY STATS\n",
        "    if sum_stats:\n",
        "        #Accuracy is sum of diagonal divided by total observations\n",
        "        accuracy  = np.trace(cf) / float(np.sum(cf))\n",
        "\n",
        "        #if it is a binary confusion matrix, show some more stats\n",
        "        if len(cf)==2:\n",
        "            #Metrics for Binary Confusion Matrices\n",
        "            precision = cf[1,1] / sum(cf[:,1])\n",
        "            recall    = cf[1,1] / sum(cf[1,:])\n",
        "            f1_score  = 2*precision*recall / (precision + recall)\n",
        "            stats_text = \"\\n\\nAccuracy={:0.3f}\\nPrecision={:0.3f}\\nRecall={:0.3f}\\nF1 Score={:0.3f}\".format(\n",
        "                accuracy,precision,recall,f1_score)\n",
        "        else:\n",
        "            stats_text = \"\\n\\nAccuracy={:0.3f}\".format(accuracy)\n",
        "    else:\n",
        "        stats_text = \"\"\n",
        "\n",
        "\n",
        "    # SET FIGURE PARAMETERS ACCORDING TO OTHER ARGUMENTS\n",
        "    if figsize==None:\n",
        "        #Get default figure size if not set\n",
        "        figsize = plt.rcParams.get('figure.figsize')\n",
        "\n",
        "    if xyticks==False:\n",
        "        #Do not show categories if xyticks is False\n",
        "        categories=False\n",
        "\n",
        "\n",
        "    # MAKE THE HEATMAP VISUALIZATION\n",
        "    plt.figure(figsize=figsize)\n",
        "    sns.heatmap(cf,annot=box_labels,fmt=\"\",cmap=cmap,cbar=cbar,xticklabels=categories,yticklabels=categories)\n",
        "\n",
        "    if xyplotlabels:\n",
        "        plt.ylabel('True label')\n",
        "        plt.xlabel('Predicted label' + stats_text)\n",
        "    else:\n",
        "        plt.xlabel(stats_text)\n",
        "    \n",
        "    if title:\n",
        "        plt.title(title)"
      ]
    },
    {
      "cell_type": "code",
      "execution_count": 12,
      "metadata": {
        "id": "fdS89EcHdQEj"
      },
      "outputs": [],
      "source": [
        "def error_analysis(model, test_data, class_names):\n",
        "  plt.figure(figsize=(18,12))\n",
        "  for image_batch,label_batch in test_data.take(4):\n",
        "      predictions = model.predict(image_batch)\n",
        "      predictions = np.argmax(predictions, axis=-1)\n",
        "      for i in range(0,len(predictions) if len(predictions)<12 else 12):\n",
        "          plt.subplot(3,4,i+1)\n",
        "          plt.imshow(image_batch[i].numpy().astype(\"uint32\"))\n",
        "          true_class = class_names[np.argmax(label_batch[i])]\n",
        "          predict_class = class_names[predictions[i]]\n",
        "          title = f\"\"\"True: {true_class}\\n Predict: {predict_class}\"\"\"\n",
        "          plt.title(title, color='g' if true_class==predict_class else 'r')\n",
        "          plt.axis(\"off\")"
      ]
    },
    {
      "cell_type": "markdown",
      "metadata": {
        "id": "CpX1p7cPwyVH"
      },
      "source": [
        "## 2. Load Data and Data Cleaning\n",
        "\n",
        "TensorFlow has some strictness when dealing with image formats. Some times your data set may even run well with, for instance Torch but will generate a format error with Tf. Nonetheless, it is best practice to always carryout preprocessing on the images to ensure a robust, safe and standard model.\n",
        "\n",
        "*Reference*:\n",
        "- [Unknown image file format. One of JPEG, PNG, GIF, BMP required](https://stackoverflow.com/questions/68191448/unknown-image-file-format-one-of-jpeg-png-gif-bmp-required)"
      ]
    },
    {
      "cell_type": "code",
      "execution_count": 13,
      "metadata": {
        "id": "gtp3S-xfzGFc"
      },
      "outputs": [],
      "source": [
        "def image_quality_check(image_dir):\n",
        "  '''\n",
        "  This functions checks whether file formats accepted by Tensorflow ( JPEG, PNG, GIF, BMP), or may be corrupted.\n",
        "  '''\n",
        "  from pathlib import Path\n",
        "  import imghdr\n",
        "\n",
        "  image_extensions = ['.jpg', '.png', '.jpeg', '.PNG', '.JPG', '.JPEG']\n",
        "  img_type_accepted_by_tf = [\"bmp\", \"gif\", \"jpeg\", \"png\"]\n",
        "  bad_images = []\n",
        "\n",
        "  for filepath in Path(image_dir).rglob(\"*\"):\n",
        "    if filepath.suffix.lower() in image_extensions:\n",
        "        img_type = imghdr.what(filepath)\n",
        "        if img_type is None:\n",
        "            print(f\"{filepath} is not an image\")\n",
        "            bad_images.append(filepath)\n",
        "        elif img_type not in img_type_accepted_by_tf:\n",
        "            print(f\"{filepath} is a {img_type}, not accepted by TensorFlow\")\n",
        "            bad_images.append(filepath)\n",
        "  return bad_images"
      ]
    },
    {
      "cell_type": "code",
      "execution_count": 14,
      "metadata": {
        "id": "hzIsC34OzH3P"
      },
      "outputs": [],
      "source": [
        "def image_quality_check2(image_dir):\n",
        "  '''\n",
        "  This function captures corrupted image files (jpg and png) that may missed by first QA function.\n",
        "  '''\n",
        "  import os, glob\n",
        "\n",
        "  # validate directory\n",
        "  assert os.path.exists(image_dir), \"Error: directory does not exist\"\n",
        "\n",
        "  bad_images = []\n",
        "  classes = sorted([c for c in os.listdir(image_dir) if os.path.isdir(os.path.join(image_dir, c))])\n",
        "\n",
        "  def is_valid_jpg(jpg_file):\n",
        "    with open(jpg_file, 'rb') as f:\n",
        "      f.seek(-2,2)\n",
        "      buf = f.read()\n",
        "      return buf == b'\\xff\\xd9'\n",
        "\n",
        "  def is_valid_png(png_file):\n",
        "    with open(png_file, 'rb') as f:\n",
        "      f.seek(-2,2)\n",
        "      but = f.read()\n",
        "      return but == b'\\x60\\x82'\n",
        "\n",
        "  for f_class in classes:\n",
        "    class_path = os.path.join(image_dir, f_class)\n",
        "    file_list = os.listdir(class_path)\n",
        "    desc = f'{f_class:23s}'\n",
        "    for file in tqdm.tqdm(file_list, ncols=110, desc=desc, unit='file', colour='blue'):\n",
        "      fpath = os.path.join(class_path, file)\n",
        "      index = file.rfind('.')\n",
        "      if file[index:] in ['.jpg', '.jpeg','.JPG', '.JPEG']:\n",
        "        if not is_valid_jpg(fpath):\n",
        "          print(fpath)\n",
        "          bad_images.append(fpath)\n",
        "      \n",
        "      if file[index:] in ['.png', '.PNG']:\n",
        "        if not is_valid_png(fpath):\n",
        "          print(fpath)\n",
        "          bad_images.append(fpath)\n",
        "\n",
        "  return bad_images"
      ]
    },
    {
      "cell_type": "code",
      "execution_count": 15,
      "metadata": {
        "id": "VIYPktJ5kRe9"
      },
      "outputs": [],
      "source": [
        "def image_quality_check3(image_dir):\n",
        "  '''\n",
        "  This function focuses on identifying corrupted png images that may be missed by the QA1 and QA2.\n",
        "  '''\n",
        "  assert os.path.exists(image_dir), \"Error: directory does not exist\"\n",
        "\n",
        "  bad_images = []\n",
        "  classes = sorted([c for c in os.listdir(image_dir) if os.path.isdir(os.path.join(image_dir, c))])\n",
        "\n",
        "  for f_class in classes:\n",
        "    class_path = os.path.join(image_dir, f_class)\n",
        "    file_list = os.listdir(class_path)\n",
        "    desc = f'{f_class:23s}'\n",
        "    for file in tqdm.tqdm(file_list, ncols=110, desc=desc, unit='file', colour='blue'):\n",
        "      fpath = os.path.join(class_path, file)\n",
        "      index = file.rfind('.')\n",
        "      if file[index:] in ['.png', '.PNG']:\n",
        "        try:\n",
        "          image = tf.io.read_file(fpath)\n",
        "          image = tf.image.decode_png(image, channels=3)\n",
        "        except:\n",
        "          bad_images.append(fpath)\n",
        "          print('defective image file: ', fpath)\n",
        "  return bad_images"
      ]
    },
    {
      "cell_type": "code",
      "execution_count": 16,
      "metadata": {
        "colab": {
          "base_uri": "https://localhost:8080/"
        },
        "id": "Xr2PCIZPwkS3",
        "outputId": "f542ff8c-1166-4354-ed32-7dfb0d2824aa"
      },
      "outputs": [
        {
          "output_type": "stream",
          "name": "stdout",
          "text": [
            "CPU times: user 4 µs, sys: 0 ns, total: 4 µs\n",
            "Wall time: 7.87 µs\n",
            "-------------------- check training set image quality. --------------------\n",
            "/content/gdrive/MyDrive/deep_learning/data/train/Early_blight/220px-Alternaria_solani_-_leaf_lesions.jpg is not an image\n",
            "/content/gdrive/MyDrive/deep_learning/data/train/Early_blight/EB_(976).jpg is not an image\n",
            "/content/gdrive/MyDrive/deep_learning/data/train/Early_blight/early-blight-tomato-causal-agents-260nw-1746486380.jpg is not an image\n",
            "/content/gdrive/MyDrive/deep_learning/data/train/Leaf_Mold/607-155-1.jpg is not an image\n",
            "/content/gdrive/MyDrive/deep_learning/data/train/Leaf_Mold/BM_(6).jpg is not an image\n",
            "/content/gdrive/MyDrive/deep_learning/data/train/Leaf_Mold/BM_(7).jpg is not an image\n",
            "/content/gdrive/MyDrive/deep_learning/data/train/Leaf_Mold/BM_(975).jpg is not an image\n",
            "/content/gdrive/MyDrive/deep_learning/data/train/Leaf_Mold/BM_(976).jpg is not an image\n",
            "/content/gdrive/MyDrive/deep_learning/data/train/Leaf_Mold/BM_(98).jpg is not an image\n",
            "/content/gdrive/MyDrive/deep_learning/data/train/Septoria_leaf_spot/SS_ (51).jpg is not an image\n",
            "/content/gdrive/MyDrive/deep_learning/data/train/healthy/branch-tomato-leaves-iaolsted-on-260nw-1025727106.jpg is not an image\n",
            "/content/gdrive/MyDrive/deep_learning/data/train/healthy/edible-tomato-leaves.jpg is a webp, not accepted by TensorFlow\n",
            "/content/gdrive/MyDrive/deep_learning/data/train/healthy/tomato-leaf-isolated-on-white-260nw-580281301.jpg is not an image\n",
            "-------------------- check test and validation set image quality. --------------------\n",
            "/content/gdrive/MyDrive/deep_learning/data/valid/Leaf_Mold/607-155-0.jpg is not an image\n",
            "/content/gdrive/MyDrive/deep_learning/data/valid/healthy/2013-08-20-05.jpg is a webp, not accepted by TensorFlow\n",
            "/content/gdrive/MyDrive/deep_learning/data/valid/healthy/tomato-leaf-isolated-on-white-260nw-1167806389.jpg is not an image\n",
            "/content/gdrive/MyDrive/deep_learning/data/valid/healthy/tomato-leaves-isolated-on-white-260nw-1251320371.jpg is not an image\n",
            "/content/gdrive/MyDrive/deep_learning/data/valid/healthy/tomato-leaves-isolated-on-white-260nw-1313938871.jpg is not an image\n"
          ]
        }
      ],
      "source": [
        "# check image quality\n",
        "%time\n",
        "print(\"-\"*20, \"check training set image quality.\",\"-\"*20)\n",
        "bad_images_train = image_quality_check(TRAIN_DATA_PATH)\n",
        "print(\"-\"*20, \"check test and validation set image quality.\",\"-\"*20)\n",
        "bad_images_val_test = image_quality_check(VALID_DATA_PATH)"
      ]
    },
    {
      "cell_type": "code",
      "execution_count": 17,
      "metadata": {
        "colab": {
          "base_uri": "https://localhost:8080/"
        },
        "id": "yPClNjE1RHfI",
        "outputId": "7c79082c-ad6c-4cfa-c5d1-3c66b246bf70"
      },
      "outputs": [
        {
          "output_type": "stream",
          "name": "stdout",
          "text": [
            "CPU times: user 3 µs, sys: 0 ns, total: 3 µs\n",
            "Wall time: 5.96 µs\n",
            "-------------------- check training set image quality. --------------------\n"
          ]
        },
        {
          "output_type": "stream",
          "name": "stderr",
          "text": [
            "Bacterial_spot         :  89%|\u001b[34m███████████████████████████████████▊    \u001b[0m| 2526/2826 [00:01<00:00, 1493.57file/s]\u001b[0m"
          ]
        },
        {
          "output_type": "stream",
          "name": "stdout",
          "text": [
            "/content/gdrive/MyDrive/deep_learning/data/train/Bacterial_spot/bacterialspotontomatoXant.JPG\n"
          ]
        },
        {
          "output_type": "stream",
          "name": "stderr",
          "text": [
            "Bacterial_spot         : 100%|\u001b[34m████████████████████████████████████████\u001b[0m| 2826/2826 [00:01<00:00, 1454.93file/s]\u001b[0m\n",
            "Early_blight           : 100%|\u001b[34m████████████████████████████████████████\u001b[0m| 2455/2455 [00:01<00:00, 1477.91file/s]\u001b[0m"
          ]
        },
        {
          "output_type": "stream",
          "name": "stdout",
          "text": [
            "/content/gdrive/MyDrive/deep_learning/data/train/Early_blight/earlyblighthttp___wwwlsuagcenter.jpg\n"
          ]
        },
        {
          "output_type": "stream",
          "name": "stderr",
          "text": [
            "\n",
            "Late_blight            : 100%|\u001b[34m████████████████████████████████████████\u001b[0m| 3113/3113 [00:02<00:00, 1522.54file/s]\u001b[0m\n",
            "Leaf_Mold              : 100%|\u001b[34m████████████████████████████████████████\u001b[0m| 2754/2754 [00:01<00:00, 1540.38file/s]\u001b[0m\n",
            "Septoria_leaf_spot     : 100%|\u001b[34m████████████████████████████████████████\u001b[0m| 2882/2882 [00:02<00:00, 1327.62file/s]\u001b[0m\n",
            "Spider_mites Two-spotted_spider_mite: 100%|\u001b[34m███████████████████████████\u001b[0m| 1747/1747 [00:01<00:00, 1275.16file/s]\u001b[0m\n",
            "Target_Spot            : 100%|\u001b[34m████████████████████████████████████████\u001b[0m| 1785/1785 [00:01<00:00, 1422.68file/s]\u001b[0m\n",
            "Tomato_Yellow_Leaf_Curl_Virus: 100%|\u001b[34m██████████████████████████████████\u001b[0m| 2039/2039 [00:01<00:00, 1409.85file/s]\u001b[0m\n",
            "Tomato_mosaic_virus    : 100%|\u001b[34m████████████████████████████████████████\u001b[0m| 2153/2153 [00:01<00:00, 1411.39file/s]\u001b[0m\n",
            "healthy                :  57%|\u001b[34m██████████████████████▋                 \u001b[0m| 1730/3051 [00:01<00:00, 1501.96file/s]\u001b[0m"
          ]
        },
        {
          "output_type": "stream",
          "name": "stdout",
          "text": [
            "/content/gdrive/MyDrive/deep_learning/data/train/healthy/A-Healthy-leaves-of-tomato-plants-and-B-Leaves-of-tomato-plants-inoculated-with.png\n"
          ]
        },
        {
          "output_type": "stream",
          "name": "stderr",
          "text": [
            "healthy                :  82%|\u001b[34m████████████████████████████████▊       \u001b[0m| 2507/3051 [00:01<00:00, 1495.24file/s]\u001b[0m"
          ]
        },
        {
          "output_type": "stream",
          "name": "stdout",
          "text": [
            "/content/gdrive/MyDrive/deep_learning/data/train/healthy/edible-tomato-leaves.jpg\n"
          ]
        },
        {
          "output_type": "stream",
          "name": "stderr",
          "text": [
            "healthy                : 100%|\u001b[34m████████████████████████████████████████\u001b[0m| 3051/3051 [00:02<00:00, 1509.11file/s]\u001b[0m\n",
            "powdery_mildew         : 100%|\u001b[34m████████████████████████████████████████\u001b[0m| 1004/1004 [00:00<00:00, 1569.52file/s]\u001b[0m\n"
          ]
        },
        {
          "output_type": "stream",
          "name": "stdout",
          "text": [
            "-------------------- check test and validation set image quality. --------------------\n"
          ]
        },
        {
          "output_type": "stream",
          "name": "stderr",
          "text": [
            "Bacterial_spot         : 100%|\u001b[34m██████████████████████████████████████████\u001b[0m| 732/732 [00:00<00:00, 1503.68file/s]\u001b[0m\n",
            "Early_blight           : 100%|\u001b[34m██████████████████████████████████████████\u001b[0m| 643/643 [00:00<00:00, 1548.88file/s]\u001b[0m\n",
            "Late_blight            : 100%|\u001b[34m██████████████████████████████████████████\u001b[0m| 792/792 [00:00<00:00, 1389.90file/s]\u001b[0m\n",
            "Leaf_Mold              :  75%|\u001b[34m███████████████████████████████▍          \u001b[0m| 553/739 [00:00<00:00, 1385.36file/s]\u001b[0m"
          ]
        },
        {
          "output_type": "stream",
          "name": "stdout",
          "text": [
            "/content/gdrive/MyDrive/deep_learning/data/valid/Leaf_Mold/BM_(9).jpg\n"
          ]
        },
        {
          "output_type": "stream",
          "name": "stderr",
          "text": [
            "Leaf_Mold              : 100%|\u001b[34m██████████████████████████████████████████\u001b[0m| 739/739 [00:00<00:00, 1412.35file/s]\u001b[0m\n",
            "Septoria_leaf_spot     : 100%|\u001b[34m██████████████████████████████████████████\u001b[0m| 746/746 [00:00<00:00, 1532.64file/s]\u001b[0m\n",
            "Spider_mites Two-spotted_spider_mite: 100%|\u001b[34m█████████████████████████████\u001b[0m| 435/435 [00:00<00:00, 1506.82file/s]\u001b[0m\n",
            "Target_Spot            : 100%|\u001b[34m██████████████████████████████████████████\u001b[0m| 457/457 [00:00<00:00, 1572.47file/s]\u001b[0m\n",
            "Tomato_Yellow_Leaf_Curl_Virus: 100%|\u001b[34m████████████████████████████████████\u001b[0m| 498/498 [00:00<00:00, 1600.38file/s]\u001b[0m\n",
            "Tomato_mosaic_virus    : 100%|\u001b[34m██████████████████████████████████████████\u001b[0m| 584/584 [00:00<00:00, 1447.08file/s]\u001b[0m\n",
            "healthy                :  36%|\u001b[34m███████████████▏                          \u001b[0m| 292/806 [00:00<00:00, 1473.62file/s]\u001b[0m"
          ]
        },
        {
          "output_type": "stream",
          "name": "stdout",
          "text": [
            "/content/gdrive/MyDrive/deep_learning/data/valid/healthy/2013-08-20-05.jpg\n"
          ]
        },
        {
          "output_type": "stream",
          "name": "stderr",
          "text": [
            "healthy                :  92%|\u001b[34m██████████████████████████████████████▍   \u001b[0m| 738/806 [00:00<00:00, 1459.75file/s]\u001b[0m"
          ]
        },
        {
          "output_type": "stream",
          "name": "stdout",
          "text": [
            "/content/gdrive/MyDrive/deep_learning/data/valid/healthy/HL_(336).png\n"
          ]
        },
        {
          "output_type": "stream",
          "name": "stderr",
          "text": [
            "healthy                : 100%|\u001b[34m██████████████████████████████████████████\u001b[0m| 806/806 [00:00<00:00, 1460.15file/s]\u001b[0m\n",
            "powdery_mildew         : 100%|\u001b[34m██████████████████████████████████████████\u001b[0m| 252/252 [00:00<00:00, 1575.37file/s]\u001b[0m\n"
          ]
        }
      ],
      "source": [
        "# check image quality 2\n",
        "%time\n",
        "print(\"-\"*20, \"check training set image quality.\",\"-\"*20)\n",
        "bad_images_train2 = image_quality_check2(TRAIN_DATA_PATH)\n",
        "print(\"-\"*20, \"check test and validation set image quality.\",\"-\"*20)\n",
        "bad_images_val_test2 = image_quality_check2(VALID_DATA_PATH)"
      ]
    },
    {
      "cell_type": "code",
      "execution_count": 18,
      "metadata": {
        "colab": {
          "base_uri": "https://localhost:8080/"
        },
        "id": "zMA7S8Fkk1Fk",
        "outputId": "3f502fce-4a6e-460a-ea4f-351a5029b881"
      },
      "outputs": [
        {
          "output_type": "stream",
          "name": "stdout",
          "text": [
            "CPU times: user 2 µs, sys: 1 µs, total: 3 µs\n",
            "Wall time: 5.96 µs\n",
            "-------------------- check training set image quality. --------------------\n"
          ]
        },
        {
          "output_type": "stream",
          "name": "stderr",
          "text": [
            "Bacterial_spot         : 100%|\u001b[34m██████████████████████████████████████\u001b[0m| 2820/2820 [00:00<00:00, 640872.20file/s]\u001b[0m\n",
            "Early_blight           : 100%|\u001b[34m██████████████████████████████████████\u001b[0m| 2455/2455 [00:00<00:00, 636522.00file/s]\u001b[0m\n",
            "Late_blight            : 100%|\u001b[34m█████████████████████████████████████████\u001b[0m| 3113/3113 [00:06<00:00, 480.60file/s]\u001b[0m\n",
            "Leaf_Mold              : 100%|\u001b[34m██████████████████████████████████████\u001b[0m| 2754/2754 [00:00<00:00, 624317.00file/s]\u001b[0m\n",
            "Septoria_leaf_spot     : 100%|\u001b[34m██████████████████████████████████████\u001b[0m| 2882/2882 [00:00<00:00, 628045.10file/s]\u001b[0m\n",
            "Spider_mites Two-spotted_spider_mite: 100%|\u001b[34m█████████████████████████\u001b[0m| 1747/1747 [00:00<00:00, 495533.18file/s]\u001b[0m\n",
            "Target_Spot            : 100%|\u001b[34m██████████████████████████████████████\u001b[0m| 1785/1785 [00:00<00:00, 660098.10file/s]\u001b[0m\n",
            "Tomato_Yellow_Leaf_Curl_Virus: 100%|\u001b[34m████████████████████████████████\u001b[0m| 2039/2039 [00:00<00:00, 650851.28file/s]\u001b[0m\n",
            "Tomato_mosaic_virus    : 100%|\u001b[34m████████████████████████████████████████\u001b[0m| 2153/2153 [00:00<00:00, 6992.10file/s]\u001b[0m\n",
            "healthy                : 100%|\u001b[34m████████████████████████████████████████\u001b[0m| 3051/3051 [00:02<00:00, 1094.25file/s]\u001b[0m\n",
            "powdery_mildew         : 100%|\u001b[34m██████████████████████████████████████\u001b[0m| 1004/1004 [00:00<00:00, 527572.19file/s]\u001b[0m\n"
          ]
        },
        {
          "output_type": "stream",
          "name": "stdout",
          "text": [
            "-------------------- check test and validation set image quality. --------------------\n"
          ]
        },
        {
          "output_type": "stream",
          "name": "stderr",
          "text": [
            "Bacterial_spot         : 100%|\u001b[34m████████████████████████████████████████\u001b[0m| 732/732 [00:00<00:00, 583361.30file/s]\u001b[0m\n",
            "Early_blight           : 100%|\u001b[34m█████████████████████████████████████████\u001b[0m| 643/643 [00:00<00:00, 27685.89file/s]\u001b[0m\n",
            "Late_blight            : 100%|\u001b[34m███████████████████████████████████████████\u001b[0m| 792/792 [00:01<00:00, 628.73file/s]\u001b[0m\n",
            "Leaf_Mold              : 100%|\u001b[34m████████████████████████████████████████\u001b[0m| 739/739 [00:00<00:00, 606811.01file/s]\u001b[0m\n",
            "Septoria_leaf_spot     : 100%|\u001b[34m████████████████████████████████████████\u001b[0m| 746/746 [00:00<00:00, 537712.80file/s]\u001b[0m\n",
            "Spider_mites Two-spotted_spider_mite: 100%|\u001b[34m███████████████████████████\u001b[0m| 435/435 [00:00<00:00, 599580.10file/s]\u001b[0m\n",
            "Target_Spot            : 100%|\u001b[34m████████████████████████████████████████\u001b[0m| 457/457 [00:00<00:00, 573547.85file/s]\u001b[0m\n",
            "Tomato_Yellow_Leaf_Curl_Virus: 100%|\u001b[34m██████████████████████████████████\u001b[0m| 498/498 [00:00<00:00, 576369.59file/s]\u001b[0m\n",
            "Tomato_mosaic_virus    : 100%|\u001b[34m████████████████████████████████████████\u001b[0m| 584/584 [00:00<00:00, 616840.48file/s]\u001b[0m\n",
            "healthy                :  46%|\u001b[34m███████████████████▎                      \u001b[0m| 370/806 [00:00<00:00, 3610.46file/s]\u001b[0m"
          ]
        },
        {
          "output_type": "stream",
          "name": "stdout",
          "text": [
            "defective image file:  /content/gdrive/MyDrive/deep_learning/data/valid/healthy/HL_(336).png\n"
          ]
        },
        {
          "output_type": "stream",
          "name": "stderr",
          "text": [
            "healthy                : 100%|\u001b[34m███████████████████████████████████████████\u001b[0m| 806/806 [00:01<00:00, 634.51file/s]\u001b[0m\n",
            "powdery_mildew         : 100%|\u001b[34m████████████████████████████████████████\u001b[0m| 252/252 [00:00<00:00, 559536.58file/s]\u001b[0m\n"
          ]
        }
      ],
      "source": [
        "# check image quality 3\n",
        "%time\n",
        "print(\"-\"*20, \"check training set image quality.\",\"-\"*20)\n",
        "bad_images_train3 = image_quality_check3(TRAIN_DATA_PATH)\n",
        "print(\"-\"*20, \"check test and validation set image quality.\",\"-\"*20)\n",
        "bad_images_val_test3 = image_quality_check3(VALID_DATA_PATH)"
      ]
    },
    {
      "cell_type": "code",
      "execution_count": 19,
      "metadata": {
        "colab": {
          "base_uri": "https://localhost:8080/"
        },
        "id": "sQmpl7TAgijP",
        "outputId": "74a02f0b-cb6c-446a-9841-257b458b8de5"
      },
      "outputs": [
        {
          "output_type": "execute_result",
          "data": {
            "text/plain": [
              "{'/content/gdrive/MyDrive/deep_learning/data/train/Bacterial_spot/bacterialspotontomatoXant.JPG',\n",
              " PosixPath('/content/gdrive/MyDrive/deep_learning/data/train/Early_blight/220px-Alternaria_solani_-_leaf_lesions.jpg'),\n",
              " PosixPath('/content/gdrive/MyDrive/deep_learning/data/train/Early_blight/EB_(976).jpg'),\n",
              " PosixPath('/content/gdrive/MyDrive/deep_learning/data/train/Early_blight/early-blight-tomato-causal-agents-260nw-1746486380.jpg'),\n",
              " '/content/gdrive/MyDrive/deep_learning/data/train/Early_blight/earlyblighthttp___wwwlsuagcenter.jpg',\n",
              " PosixPath('/content/gdrive/MyDrive/deep_learning/data/train/Leaf_Mold/607-155-1.jpg'),\n",
              " PosixPath('/content/gdrive/MyDrive/deep_learning/data/train/Leaf_Mold/BM_(6).jpg'),\n",
              " PosixPath('/content/gdrive/MyDrive/deep_learning/data/train/Leaf_Mold/BM_(7).jpg'),\n",
              " PosixPath('/content/gdrive/MyDrive/deep_learning/data/train/Leaf_Mold/BM_(975).jpg'),\n",
              " PosixPath('/content/gdrive/MyDrive/deep_learning/data/train/Leaf_Mold/BM_(976).jpg'),\n",
              " PosixPath('/content/gdrive/MyDrive/deep_learning/data/train/Leaf_Mold/BM_(98).jpg'),\n",
              " PosixPath('/content/gdrive/MyDrive/deep_learning/data/train/Septoria_leaf_spot/SS_ (51).jpg'),\n",
              " '/content/gdrive/MyDrive/deep_learning/data/train/healthy/A-Healthy-leaves-of-tomato-plants-and-B-Leaves-of-tomato-plants-inoculated-with.png',\n",
              " PosixPath('/content/gdrive/MyDrive/deep_learning/data/train/healthy/branch-tomato-leaves-iaolsted-on-260nw-1025727106.jpg'),\n",
              " '/content/gdrive/MyDrive/deep_learning/data/train/healthy/edible-tomato-leaves.jpg',\n",
              " PosixPath('/content/gdrive/MyDrive/deep_learning/data/train/healthy/edible-tomato-leaves.jpg'),\n",
              " PosixPath('/content/gdrive/MyDrive/deep_learning/data/train/healthy/tomato-leaf-isolated-on-white-260nw-580281301.jpg'),\n",
              " PosixPath('/content/gdrive/MyDrive/deep_learning/data/valid/Leaf_Mold/607-155-0.jpg'),\n",
              " '/content/gdrive/MyDrive/deep_learning/data/valid/Leaf_Mold/BM_(9).jpg',\n",
              " '/content/gdrive/MyDrive/deep_learning/data/valid/healthy/2013-08-20-05.jpg',\n",
              " PosixPath('/content/gdrive/MyDrive/deep_learning/data/valid/healthy/2013-08-20-05.jpg'),\n",
              " '/content/gdrive/MyDrive/deep_learning/data/valid/healthy/HL_(336).png',\n",
              " PosixPath('/content/gdrive/MyDrive/deep_learning/data/valid/healthy/tomato-leaf-isolated-on-white-260nw-1167806389.jpg'),\n",
              " PosixPath('/content/gdrive/MyDrive/deep_learning/data/valid/healthy/tomato-leaves-isolated-on-white-260nw-1251320371.jpg'),\n",
              " PosixPath('/content/gdrive/MyDrive/deep_learning/data/valid/healthy/tomato-leaves-isolated-on-white-260nw-1313938871.jpg')}"
            ]
          },
          "metadata": {},
          "execution_count": 19
        },
        {
          "output_type": "stream",
          "name": "stdout",
          "text": [
            "Move 25 images with bad quality.\n"
          ]
        }
      ],
      "source": [
        "move_bad_images = True\n",
        "bad_images = set(bad_images_train + bad_images_val_test + bad_images_train2 + bad_images_val_test2 + bad_images_train3 + bad_images_val_test3)\n",
        "bad_images\n",
        "\n",
        "if move_bad_images:\n",
        "  for link in bad_images:\n",
        "    if os.path.exists(link):\n",
        "      os.remove(str(link))\n",
        "\n",
        "print('Move {} images with bad quality.'.format(len(bad_images)))"
      ]
    },
    {
      "cell_type": "code",
      "execution_count": 20,
      "metadata": {
        "colab": {
          "base_uri": "https://localhost:8080/"
        },
        "id": "GmrgjjEnMsLV",
        "outputId": "b82189d5-eb9c-489b-fb0f-3abaf36a4484"
      },
      "outputs": [
        {
          "output_type": "stream",
          "name": "stdout",
          "text": [
            "25787\n",
            "6677\n"
          ]
        }
      ],
      "source": [
        "# check number of images remained\n",
        "train_len, test_len = 0, 0\n",
        "for f in os.listdir(TRAIN_DATA_PATH):\n",
        "  train_len += len(os.listdir(os.path.join(TRAIN_DATA_PATH, f)))\n",
        "  test_len += len(os.listdir(os.path.join(VALID_DATA_PATH, f)))\n",
        "print(train_len);print(test_len)"
      ]
    },
    {
      "cell_type": "markdown",
      "source": [
        "Copy files from a mounted Google Drive to a local Google Colab session"
      ],
      "metadata": {
        "id": "KI4Ct6L5gveo"
      }
    },
    {
      "cell_type": "code",
      "source": [
        "#!rm /content/data -r\n",
        "!mkdir /content/data"
      ],
      "metadata": {
        "id": "q5zU1PrphQX8"
      },
      "execution_count": 29,
      "outputs": []
    },
    {
      "cell_type": "code",
      "source": [
        "!cp -r /content/gdrive/MyDrive/deep_learning/data/train /content/data\n",
        "!cp -r /content/gdrive/MyDrive/deep_learning/data/valid /content/data"
      ],
      "metadata": {
        "id": "TfX3jh6dfZ2M"
      },
      "execution_count": 30,
      "outputs": []
    },
    {
      "cell_type": "code",
      "source": [
        "# update file path\n",
        "TRAIN_DATA_PATH = '/content/data/train'\n",
        "VALID_DATA_PATH = '/content/data/valid'"
      ],
      "metadata": {
        "id": "xTToPDMxg3Tw"
      },
      "execution_count": 31,
      "outputs": []
    },
    {
      "cell_type": "code",
      "source": [
        "# check number of images remained\n",
        "train_len, test_len = 0, 0\n",
        "for f in os.listdir(TRAIN_DATA_PATH):\n",
        "  train_len += len(os.listdir(os.path.join(TRAIN_DATA_PATH, f)))\n",
        "  test_len += len(os.listdir(os.path.join(VALID_DATA_PATH, f)))\n",
        "print(train_len);print(test_len)"
      ],
      "metadata": {
        "colab": {
          "base_uri": "https://localhost:8080/"
        },
        "id": "oB90aKWohBJz",
        "outputId": "b126b5ec-106b-449f-faf0-ea9782adc642"
      },
      "execution_count": 32,
      "outputs": [
        {
          "output_type": "stream",
          "name": "stdout",
          "text": [
            "25787\n",
            "6677\n"
          ]
        }
      ]
    },
    {
      "cell_type": "markdown",
      "metadata": {
        "id": "6ZbJvYwQA1bS"
      },
      "source": [
        "#### Load Data\n",
        "\n",
        "We will use high-level Keras preprocessing utilities (such as `tf.keras.utils.image_dataset_from_directory`) and layers (such as `tf.keras.layers.Rescaling`) to read a directory of images on disk. \n",
        "  - `image_dataset_from_directory` returns a `tf.data.Dataset` object, a tuple `(images, labels)`, where `images` has shape  is `(batch_size, image_size[0], image_size[1], num_channels)`. \n",
        "  - supported image formats: jpeg, png, bmp, gif\n",
        "\n",
        "*Reference*:\n",
        "- [tf.keras.utils.image_dataset_from_directory](https://www.tensorflow.org/api_docs/python/tf/keras/utils/image_dataset_from_directory)"
      ]
    },
    {
      "cell_type": "code",
      "execution_count": 33,
      "metadata": {
        "id": "9dc4jBUH2TFX"
      },
      "outputs": [],
      "source": [
        "IMG_HEIGHT, IMG_WIDTH = 224, 224   # ResNet50 works best with input images of 224 x 224\n",
        "BATCH_SIZE = 32\n",
        "LABEL_MODE = 'categorical'  # labels: one-hot encoded, a float32 tensor of shape (batch_size, num_classes). loss: categorical_crossentropy\n",
        "COLOR_MODE = 'rgb'\n",
        "VALID_TEST_RATIO = 0.5\n",
        "AUTOTUNE = tf.data.AUTOTUNE"
      ]
    },
    {
      "cell_type": "code",
      "execution_count": 34,
      "metadata": {
        "colab": {
          "base_uri": "https://localhost:8080/"
        },
        "id": "PMyjQ3P42TIK",
        "outputId": "76f9b19b-9fa2-4f47-f78d-801f2fda40b6"
      },
      "outputs": [
        {
          "output_type": "stream",
          "name": "stdout",
          "text": [
            "Found 25787 files belonging to 11 classes.\n"
          ]
        }
      ],
      "source": [
        "# training set - expect 25,851 (25,787) images\n",
        "train_ds = keras.utils.image_dataset_from_directory(\n",
        "        directory=TRAIN_DATA_PATH,\n",
        "        batch_size = BATCH_SIZE, \n",
        "        image_size = (IMG_HEIGHT, IMG_WIDTH), \n",
        "        label_mode=LABEL_MODE,\n",
        "        color_mode=COLOR_MODE,\n",
        "        shuffle=True,\n",
        "        seed = seed\n",
        "        )"
      ]
    },
    {
      "cell_type": "code",
      "execution_count": 35,
      "metadata": {
        "colab": {
          "base_uri": "https://localhost:8080/"
        },
        "id": "oU7wQKsz5LI-",
        "outputId": "4fd1546d-e259-4360-b7dc-e189fb6670a5"
      },
      "outputs": [
        {
          "output_type": "stream",
          "name": "stdout",
          "text": [
            "Found 6677 files belonging to 11 classes.\n",
            "Using 3339 files for training.\n",
            "Using 3338 files for validation.\n"
          ]
        }
      ],
      "source": [
        "# validation and test sets - expect 6684 (6,677) images\n",
        "val_test_ds = keras.utils.image_dataset_from_directory(\n",
        "        directory=VALID_DATA_PATH,\n",
        "        batch_size = BATCH_SIZE, \n",
        "        image_size = (IMG_HEIGHT, IMG_WIDTH), \n",
        "        label_mode=LABEL_MODE,\n",
        "        color_mode=COLOR_MODE,\n",
        "        shuffle=True,\n",
        "        seed = seed,\n",
        "        validation_split = VALID_TEST_RATIO, \n",
        "        subset = 'both',\n",
        "        )\n",
        "\n",
        "valid_ds = val_test_ds[0]\n",
        "test_ds = val_test_ds[1]"
      ]
    },
    {
      "cell_type": "code",
      "execution_count": 36,
      "metadata": {
        "id": "EY7lr1X6wpz4"
      },
      "outputs": [],
      "source": [
        "# audit - make sure validation and test sets are approximately follow same distribution\n",
        "assert((train_ds.class_names == valid_ds.class_names) and (train_ds.class_names == test_ds.class_names)), 'Labels in training, validation, and test does not match'"
      ]
    },
    {
      "cell_type": "code",
      "execution_count": 37,
      "metadata": {
        "colab": {
          "base_uri": "https://localhost:8080/"
        },
        "id": "HCitKVBm6dOq",
        "outputId": "29312b4d-e1b4-42e7-dfc1-fd6c46336735"
      },
      "outputs": [
        {
          "output_type": "execute_result",
          "data": {
            "text/plain": [
              "['Bacterial_spot',\n",
              " 'Early_blight',\n",
              " 'Late_blight',\n",
              " 'Leaf_Mold',\n",
              " 'Septoria_leaf_spot',\n",
              " 'Spider_mites Two-spotted_spider_mite',\n",
              " 'Target_Spot',\n",
              " 'Tomato_Yellow_Leaf_Curl_Virus',\n",
              " 'Tomato_mosaic_virus',\n",
              " 'healthy',\n",
              " 'powdery_mildew']"
            ]
          },
          "metadata": {},
          "execution_count": 37
        }
      ],
      "source": [
        "CLASS_NAMES = test_ds.class_names\n",
        "CLASS_NAMES"
      ]
    },
    {
      "cell_type": "code",
      "execution_count": 38,
      "metadata": {
        "colab": {
          "base_uri": "https://localhost:8080/"
        },
        "id": "d-GwA3hStoBL",
        "outputId": "6e8ac2fd-81c6-4de1-a777-0af7f3daf539"
      },
      "outputs": [
        {
          "output_type": "stream",
          "name": "stdout",
          "text": [
            "train dataset size: 806\n",
            "valid dataset size: 105\n",
            "test dataset size: 105\n"
          ]
        }
      ],
      "source": [
        "print('train dataset size: ' + str(train_ds.cardinality().numpy()))\n",
        "print('valid dataset size: ' + str(valid_ds.cardinality().numpy()))\n",
        "print('test dataset size: ' + str(test_ds.cardinality().numpy()))"
      ]
    },
    {
      "cell_type": "markdown",
      "metadata": {
        "id": "yS1s-up6rnLy"
      },
      "source": [
        "## 3. Data Preprocessing"
      ]
    },
    {
      "cell_type": "markdown",
      "metadata": {
        "id": "2HK1Rvb4zlX9"
      },
      "source": [
        "#### Data Augmentation\n",
        "\n",
        "Note: Data augmentation is inactive at test time so input images will only be augmented during calls to `Model.fit` during training (not `Model.evaluate` or `Model.predict`).\n",
        "\n",
        "1) Using Keras preprocessing layers, such as`tf.keras.layers.RandomCrop`,`tf.keras.layers.RandomFlip`, `tf.keras.layers.RandomTranslation`, `tf.keras.layers.RandomRotation`, `tf.keras.layers.RandomZoom`, `tf.keras.layers.RandomHeight`, `tf.keras.layers.RandomWidth`, `tf.keras.layers.RandomContrast`\n",
        "\n",
        "2) Using `tf.image` methods, such as `tf.image.flip_left_right`, `tf.image.rgb_to_grayscale`, `tf.image.adjust_brightness`, `tf.image.central_crop`, and `tf.image.stateless_random*`.\n",
        "\n",
        "*Reference*:\n",
        "- [keras documentation: data_augmentation](https://www.tensorflow.org/tutorials/images/data_augmentation)\n",
        "- [image classification](https://www.tensorflow.org/tutorials/images/classification#setup)"
      ]
    },
    {
      "cell_type": "code",
      "execution_count": 39,
      "metadata": {
        "colab": {
          "base_uri": "https://localhost:8080/"
        },
        "id": "_ek2K8hjHal4",
        "outputId": "aab47b5e-a38b-40f9-c2a1-b6dc4ca749c6"
      },
      "outputs": [
        {
          "output_type": "stream",
          "name": "stderr",
          "text": [
            "WARNING:tensorflow:Using a while_loop for converting RngReadAndSkip cause there is no registered converter for this op.\n",
            "WARNING:tensorflow:Using a while_loop for converting Bitcast cause there is no registered converter for this op.\n",
            "WARNING:tensorflow:Using a while_loop for converting Bitcast cause there is no registered converter for this op.\n",
            "WARNING:tensorflow:Using a while_loop for converting StatelessRandomUniformV2 cause there is no registered converter for this op.\n",
            "WARNING:tensorflow:Using a while_loop for converting ImageProjectiveTransformV3 cause there is no registered converter for this op.\n",
            "WARNING:tensorflow:Using a while_loop for converting RngReadAndSkip cause there is no registered converter for this op.\n",
            "WARNING:tensorflow:Using a while_loop for converting Bitcast cause there is no registered converter for this op.\n",
            "WARNING:tensorflow:Using a while_loop for converting Bitcast cause there is no registered converter for this op.\n",
            "WARNING:tensorflow:Using a while_loop for converting StatelessRandomUniformV2 cause there is no registered converter for this op.\n",
            "WARNING:tensorflow:Using a while_loop for converting ImageProjectiveTransformV3 cause there is no registered converter for this op.\n",
            "WARNING:tensorflow:Using a while_loop for converting RngReadAndSkip cause there is no registered converter for this op.\n",
            "WARNING:tensorflow:Using a while_loop for converting Bitcast cause there is no registered converter for this op.\n",
            "WARNING:tensorflow:Using a while_loop for converting Bitcast cause there is no registered converter for this op.\n",
            "WARNING:tensorflow:Using a while_loop for converting StatelessRandomUniformFullIntV2 cause there is no registered converter for this op.\n",
            "WARNING:tensorflow:Using a while_loop for converting StatelessRandomGetKeyCounter cause there is no registered converter for this op.\n",
            "WARNING:tensorflow:Using a while_loop for converting StatelessRandomUniformV2 cause there is no registered converter for this op.\n"
          ]
        }
      ],
      "source": [
        "data_augmentation = keras.Sequential(\n",
        "    [\n",
        "      # make model more tolerate to variations in position \n",
        "      layers.RandomFlip(\"horizontal\", input_shape=(IMG_HEIGHT, IMG_WIDTH, 3), seed=seed),\n",
        "      layers.RandomRotation(0.1, seed = seed),\n",
        "      layers.RandomZoom(0.1, seed = seed),\n",
        "     \n",
        "      # make model more tolerate to different lighting conditions \n",
        "      layers.RandomContrast(0.15, seed = seed),\n",
        "    ], name = 'data_augmentation'\n",
        ")"
      ]
    },
    {
      "cell_type": "code",
      "execution_count": 40,
      "metadata": {
        "id": "IRxCjfH-MejP"
      },
      "outputs": [],
      "source": [
        "# # Visualize a few augmented examples by applying data augmentation to the same image several times:\n",
        "# plt.figure(figsize=(10, 10))\n",
        "# for images, _ in train_ds.take(1):\n",
        "#   for i in range(9):\n",
        "#     augmented_images = data_augmentation(images)\n",
        "#     ax = plt.subplot(3, 3, i + 1)\n",
        "#     plt.imshow(augmented_images[0].numpy().astype(\"uint8\"))\n",
        "#     plt.axis(\"off\")"
      ]
    },
    {
      "cell_type": "markdown",
      "metadata": {
        "id": "fpKVc0ttAtAS"
      },
      "source": [
        "#### Data Preprocessing for Pre-trained Model\n",
        "\n",
        "Each Keras Application expects a specific kind of input preprocessing. For ResNet, call `tf.keras.applications.resnet.preprocess_input` on your inputs before passing them to the model. `resnet.preprocess_input` will convert the input images from RGB to BGR, then will zero-center each color channel with respect to the ImageNet dataset, without scaling.\n",
        "\n",
        "Some pre-trained models use images with values ranging from 0 to 1. Others from -1 to +1. Others use the \"caffe\" style, that is not normalized, but is centered.\n",
        "\n",
        "From the [source](https://github.com/keras-team/keras/blob/master/keras/applications/imagenet_utils.py#L72) code, Resnet is using the caffe style.\n",
        "\n",
        "*Reference*:\n",
        "- [working with preprocessing layers](https://www.tensorflow.org/guide/keras/preprocessing_layers)\n",
        "- [apply the preprocessing layers to the datasets](https://www.tensorflow.org/tutorials/images/data_augmentation#apply_the_preprocessing_layers_to_the_datasets)\n",
        "- [tf.keras.applications.resnet50.preprocess_input](https://www.tensorflow.org/api_docs/python/tf/keras/applications/resnet50/preprocess_input)\n",
        "- [Better performance with the tf.data API](https://www.tensorflow.org/guide/data_performance)\n",
        "- [how to apply `preprocessing_input` to `tf.data.Dataset`](https://stackoverflow.com/questions/74818306/issues-with-using-tensorflows-preprocessing-function-for-inceptionv3)"
      ]
    },
    {
      "cell_type": "code",
      "execution_count": 41,
      "metadata": {
        "id": "42lT3SizAn4f"
      },
      "outputs": [],
      "source": [
        "# def prepare(ds, ds_type='not train', shuffle=False, augment=False):\n",
        "  \n",
        "#   # step 1 - use pre-trained model `preprocess_input` function\n",
        "#   def preprocess(images, labels):\n",
        "#     return preprocess_input(images), labels\n",
        "\n",
        "#   ds = ds.map(preprocess)\n",
        "\n",
        "#   # step 2 - [optional] data augmentation (only on the training set)\n",
        "#   if ds_type == 'train' and augment:\n",
        "#     ds = ds.map(lambda x, y: (data_augmentation(x, training=True), y), \n",
        "#                 num_parallel_calls=AUTOTUNE)\n",
        "\n",
        "#   # Use buffered prefetching on all datasets.\n",
        "#   return ds.prefetch(buffer_size=AUTOTUNE)\n",
        "\n",
        "\n",
        "# train_ds = prepare(train_ds, ds_type='train', shuffle=True, augment=True)\n",
        "# valid_ds = prepare(valid_ds)\n",
        "# test_ds = prepare(test_ds)"
      ]
    },
    {
      "cell_type": "code",
      "execution_count": 42,
      "metadata": {
        "colab": {
          "base_uri": "https://localhost:8080/"
        },
        "id": "5MV9psJRMzDi",
        "outputId": "6068b7ce-74b2-4dbe-9ddb-68256ab15262"
      },
      "outputs": [
        {
          "output_type": "stream",
          "name": "stderr",
          "text": [
            "WARNING:tensorflow:From /usr/local/lib/python3.9/dist-packages/tensorflow/python/autograph/pyct/static_analysis/liveness.py:83: Analyzer.lamba_check (from tensorflow.python.autograph.pyct.static_analysis.liveness) is deprecated and will be removed after 2023-09-23.\n",
            "Instructions for updating:\n",
            "Lambda fuctions will be no more assumed to be used in the statement where they are used, or at least in the same block. https://github.com/tensorflow/tensorflow/issues/56089\n",
            "WARNING:tensorflow:Using a while_loop for converting RngReadAndSkip cause there is no registered converter for this op.\n",
            "WARNING:tensorflow:Using a while_loop for converting Bitcast cause there is no registered converter for this op.\n",
            "WARNING:tensorflow:Using a while_loop for converting Bitcast cause there is no registered converter for this op.\n",
            "WARNING:tensorflow:Using a while_loop for converting StatelessRandomUniformV2 cause there is no registered converter for this op.\n",
            "WARNING:tensorflow:Using a while_loop for converting ImageProjectiveTransformV3 cause there is no registered converter for this op.\n",
            "WARNING:tensorflow:Using a while_loop for converting RngReadAndSkip cause there is no registered converter for this op.\n",
            "WARNING:tensorflow:Using a while_loop for converting Bitcast cause there is no registered converter for this op.\n",
            "WARNING:tensorflow:Using a while_loop for converting Bitcast cause there is no registered converter for this op.\n",
            "WARNING:tensorflow:Using a while_loop for converting StatelessRandomUniformV2 cause there is no registered converter for this op.\n",
            "WARNING:tensorflow:Using a while_loop for converting ImageProjectiveTransformV3 cause there is no registered converter for this op.\n",
            "WARNING:tensorflow:Using a while_loop for converting RngReadAndSkip cause there is no registered converter for this op.\n",
            "WARNING:tensorflow:Using a while_loop for converting Bitcast cause there is no registered converter for this op.\n",
            "WARNING:tensorflow:Using a while_loop for converting Bitcast cause there is no registered converter for this op.\n",
            "WARNING:tensorflow:Using a while_loop for converting StatelessRandomUniformFullIntV2 cause there is no registered converter for this op.\n",
            "WARNING:tensorflow:Using a while_loop for converting StatelessRandomGetKeyCounter cause there is no registered converter for this op.\n",
            "WARNING:tensorflow:Using a while_loop for converting StatelessRandomUniformV2 cause there is no registered converter for this op.\n"
          ]
        }
      ],
      "source": [
        "augment = True\n",
        "\n",
        "if augment:\n",
        "  train_ds = train_ds.map(lambda x, y: (data_augmentation(x, training=True), y))"
      ]
    },
    {
      "cell_type": "code",
      "execution_count": 43,
      "metadata": {
        "id": "APMLU3oSsBfA"
      },
      "outputs": [],
      "source": [
        "def preprocess(images, labels):\n",
        "  return preprocess_input(images), labels\n",
        "\n",
        "train_ds = train_ds.map(preprocess)\n",
        "valid_ds = valid_ds.map(preprocess)\n",
        "test_ds = test_ds.map(preprocess)"
      ]
    },
    {
      "cell_type": "markdown",
      "metadata": {
        "id": "kYM3CT1fmO1C"
      },
      "source": [
        "## 4. Pre-trained Model as Feature Extractor\n",
        "\n",
        "<font color='red'>**Issue with Pre-trained models with BatchNorm**</font> \n",
        "\n",
        "Below are from Stackover flow and github discussion:\n",
        "\n",
        "*I implemented various architectures for transfer learning and observed that models containing BatchNorm layers (e.g. Inception, ResNet, MobileNet) perform a lot worse (~30 % compared to >95 % test accuracy) during evaluation (validation/test) than models without BatchNorm layers (e.g. VGG) on my custom dataset. Furthermore, this problem does not occurr when saving bottleneck features and using them for classification.\n",
        "\n",
        "After some digging on the internet, I found a discussion on github taking place which connects this problem to the implementation of **Batch Normalization layers in Keras**. The above mentioned problem is encountered when applying transfer learning and fine-tuning the network.*\n",
        "\n",
        "----------------\n",
        "What you showed on your [post](https://github.com/keras-team/keras/issues/9214) is exactly what I've been observing on real-world non-opensource datasets for the last year (close to 100% accuracy on training mode and 50% during inference on the same dataset and on similar validation sets). Based on the code you provided, I'm 100% certain you are being bitten by the behaviour of the BN layer that I'm trying to fix in this PR. \n",
        "\n",
        "Assume you are building a Computer Vision model but you don’t have enough data, so you decide to use one of the pre-trained CNNs of Keras and fine-tune it. <font color='red'>**Unfortunately, by doing so you get no guarantees that the mean and variance of your new dataset inside the BN layers will be similar to the ones of the original dataset. Remember that at the moment, during training your network will always use the mini-batch statistics either the BN layer is frozen or not; also during inference you will use the previously learned statistics of the frozen BN layers (ie. imagenet).**</font> As a result, if you fine-tune the top layers, their weights will be adjusted to the mean/variance of the new dataset. Nevertheless, during inference they will receive data which are scaled differently because the mean/variance of the original dataset will be used.\n",
        "\n",
        "-----------------------\n",
        "Professor mentioned about 'be careful with BatchNorm in transfer learning' in the last slide of session 5 'Attention'. Listen to Professor! `x=base_model(inputs, training=True)`. Even thouh I have a frozen pre-trined network, I stil need to set BatchNorm training - True. If False, it will use the old batch norm calcualted from pretrained old architecture, which may mess up the normalization.\n",
        "\n",
        "*Reference*:\n",
        "- Professor's lecture\n",
        "- [datumbox - the batch normalization layer of keras is broken](http://blog.datumbox.com/the-batch-normalization-layer-of-keras-is-broken/)\n",
        "- [stackoverflow - massive overfitting duruing resnet50 transfer learning](https://stackoverflow.com/questions/50364706/massive-overfit-during-resnet50-transfer-learning)\n",
        "- [github threads - Change BN layer to use moving mean/var if frozen](https://github.com/keras-team/keras/pull/9965)\n",
        "- [ResNet50](https://www.tensorflow.org/api_docs/python/tf/keras/applications/resnet50/ResNet50)\n",
        "- [Deep learning using transfer learning python code for resnet50](https://towardsdatascience.com/deep-learning-using-transfer-learning-python-code-for-resnet50-8acdfb3a2d38)\n",
        "- [BatchNorm for Transfer Learning](https://pub.towardsai.net/batchnorm-for-transfer-learning-df17d2897db6)\n",
        "- [Sanity Check Before Running the Neural Networkk](https://cs231n.github.io/neural-networks-3/#sanitycheck)"
      ]
    },
    {
      "cell_type": "markdown",
      "metadata": {
        "id": "tuIh_uFLzIRn"
      },
      "source": [
        "#### Create Model Architecture"
      ]
    },
    {
      "cell_type": "code",
      "execution_count": 47,
      "metadata": {
        "id": "L66PVidz2TAQ"
      },
      "outputs": [],
      "source": [
        "params = {\n",
        "          'RANDOM_STATE': seed,\n",
        "          'TRAINABLE': False,\n",
        "          'DENSE_ACTIVATION':'relu',\n",
        "          'DROPOUT_RATE':0.125,\n",
        "          'LEARNING_RATE':5e-4,\n",
        "          'LEARNING_RATE_DECAY':False,\n",
        "          'CHECKPOINT':True,\n",
        "          'EPOCHS':50,\n",
        "}"
      ]
    },
    {
      "cell_type": "markdown",
      "metadata": {
        "id": "oKXDwywzvhqp"
      },
      "source": [
        "Load pre-trained model"
      ]
    },
    {
      "cell_type": "code",
      "execution_count": 48,
      "metadata": {
        "id": "qwcHujWSmRls"
      },
      "outputs": [],
      "source": [
        "input_tensor = keras.Input(shape=(IMG_HEIGHT, IMG_WIDTH, 3))\n",
        "\n",
        "# load pre-trained model and remove top classifier head\n",
        "base_model = ResNet50(weights='imagenet', \n",
        "                     include_top=False, \n",
        "                     input_tensor = input_tensor\n",
        "                    )\n",
        "\n",
        "x = base_model.output"
      ]
    },
    {
      "cell_type": "code",
      "execution_count": 49,
      "metadata": {
        "id": "TBp_ET-cyAxW"
      },
      "outputs": [],
      "source": [
        "# We 'freeze' all layers except for the last block of the ResNet50.\n",
        "for layer in base_model.layers:\n",
        "    layer.trainable = params['TRAINABLE']"
      ]
    },
    {
      "cell_type": "code",
      "execution_count": 50,
      "metadata": {
        "id": "g3DGV0GBqJd7"
      },
      "outputs": [],
      "source": [
        "# un-freeze the BatchNorm layers\n",
        "for layer in base_model.layers:\n",
        "  if \"BatchNormalization\" in layer.__class__.__name__:\n",
        "      layer.trainable = True"
      ]
    },
    {
      "cell_type": "code",
      "execution_count": 51,
      "metadata": {
        "colab": {
          "base_uri": "https://localhost:8080/"
        },
        "id": "I-A3JhFrsX9_",
        "outputId": "36c522c6-aa22-4809-c494-8bf516fb0b5a"
      },
      "outputs": [
        {
          "output_type": "stream",
          "name": "stdout",
          "text": [
            "0 input_2 - False\n",
            "1 conv1_pad - False\n",
            "2 conv1_conv - False\n",
            "3 conv1_bn - True\n",
            "4 conv1_relu - False\n",
            "5 pool1_pad - False\n",
            "6 pool1_pool - False\n",
            "7 conv2_block1_1_conv - False\n",
            "8 conv2_block1_1_bn - True\n",
            "9 conv2_block1_1_relu - False\n",
            "10 conv2_block1_2_conv - False\n",
            "11 conv2_block1_2_bn - True\n",
            "12 conv2_block1_2_relu - False\n",
            "13 conv2_block1_0_conv - False\n",
            "14 conv2_block1_3_conv - False\n",
            "15 conv2_block1_0_bn - True\n",
            "16 conv2_block1_3_bn - True\n",
            "17 conv2_block1_add - False\n",
            "18 conv2_block1_out - False\n",
            "19 conv2_block2_1_conv - False\n",
            "20 conv2_block2_1_bn - True\n",
            "21 conv2_block2_1_relu - False\n",
            "22 conv2_block2_2_conv - False\n",
            "23 conv2_block2_2_bn - True\n",
            "24 conv2_block2_2_relu - False\n",
            "25 conv2_block2_3_conv - False\n",
            "26 conv2_block2_3_bn - True\n",
            "27 conv2_block2_add - False\n",
            "28 conv2_block2_out - False\n",
            "29 conv2_block3_1_conv - False\n",
            "30 conv2_block3_1_bn - True\n",
            "31 conv2_block3_1_relu - False\n",
            "32 conv2_block3_2_conv - False\n",
            "33 conv2_block3_2_bn - True\n",
            "34 conv2_block3_2_relu - False\n",
            "35 conv2_block3_3_conv - False\n",
            "36 conv2_block3_3_bn - True\n",
            "37 conv2_block3_add - False\n",
            "38 conv2_block3_out - False\n",
            "39 conv3_block1_1_conv - False\n",
            "40 conv3_block1_1_bn - True\n",
            "41 conv3_block1_1_relu - False\n",
            "42 conv3_block1_2_conv - False\n",
            "43 conv3_block1_2_bn - True\n",
            "44 conv3_block1_2_relu - False\n",
            "45 conv3_block1_0_conv - False\n",
            "46 conv3_block1_3_conv - False\n",
            "47 conv3_block1_0_bn - True\n",
            "48 conv3_block1_3_bn - True\n",
            "49 conv3_block1_add - False\n",
            "50 conv3_block1_out - False\n",
            "51 conv3_block2_1_conv - False\n",
            "52 conv3_block2_1_bn - True\n",
            "53 conv3_block2_1_relu - False\n",
            "54 conv3_block2_2_conv - False\n",
            "55 conv3_block2_2_bn - True\n",
            "56 conv3_block2_2_relu - False\n",
            "57 conv3_block2_3_conv - False\n",
            "58 conv3_block2_3_bn - True\n",
            "59 conv3_block2_add - False\n",
            "60 conv3_block2_out - False\n",
            "61 conv3_block3_1_conv - False\n",
            "62 conv3_block3_1_bn - True\n",
            "63 conv3_block3_1_relu - False\n",
            "64 conv3_block3_2_conv - False\n",
            "65 conv3_block3_2_bn - True\n",
            "66 conv3_block3_2_relu - False\n",
            "67 conv3_block3_3_conv - False\n",
            "68 conv3_block3_3_bn - True\n",
            "69 conv3_block3_add - False\n",
            "70 conv3_block3_out - False\n",
            "71 conv3_block4_1_conv - False\n",
            "72 conv3_block4_1_bn - True\n",
            "73 conv3_block4_1_relu - False\n",
            "74 conv3_block4_2_conv - False\n",
            "75 conv3_block4_2_bn - True\n",
            "76 conv3_block4_2_relu - False\n",
            "77 conv3_block4_3_conv - False\n",
            "78 conv3_block4_3_bn - True\n",
            "79 conv3_block4_add - False\n",
            "80 conv3_block4_out - False\n",
            "81 conv4_block1_1_conv - False\n",
            "82 conv4_block1_1_bn - True\n",
            "83 conv4_block1_1_relu - False\n",
            "84 conv4_block1_2_conv - False\n",
            "85 conv4_block1_2_bn - True\n",
            "86 conv4_block1_2_relu - False\n",
            "87 conv4_block1_0_conv - False\n",
            "88 conv4_block1_3_conv - False\n",
            "89 conv4_block1_0_bn - True\n",
            "90 conv4_block1_3_bn - True\n",
            "91 conv4_block1_add - False\n",
            "92 conv4_block1_out - False\n",
            "93 conv4_block2_1_conv - False\n",
            "94 conv4_block2_1_bn - True\n",
            "95 conv4_block2_1_relu - False\n",
            "96 conv4_block2_2_conv - False\n",
            "97 conv4_block2_2_bn - True\n",
            "98 conv4_block2_2_relu - False\n",
            "99 conv4_block2_3_conv - False\n",
            "100 conv4_block2_3_bn - True\n",
            "101 conv4_block2_add - False\n",
            "102 conv4_block2_out - False\n",
            "103 conv4_block3_1_conv - False\n",
            "104 conv4_block3_1_bn - True\n",
            "105 conv4_block3_1_relu - False\n",
            "106 conv4_block3_2_conv - False\n",
            "107 conv4_block3_2_bn - True\n",
            "108 conv4_block3_2_relu - False\n",
            "109 conv4_block3_3_conv - False\n",
            "110 conv4_block3_3_bn - True\n",
            "111 conv4_block3_add - False\n",
            "112 conv4_block3_out - False\n",
            "113 conv4_block4_1_conv - False\n",
            "114 conv4_block4_1_bn - True\n",
            "115 conv4_block4_1_relu - False\n",
            "116 conv4_block4_2_conv - False\n",
            "117 conv4_block4_2_bn - True\n",
            "118 conv4_block4_2_relu - False\n",
            "119 conv4_block4_3_conv - False\n",
            "120 conv4_block4_3_bn - True\n",
            "121 conv4_block4_add - False\n",
            "122 conv4_block4_out - False\n",
            "123 conv4_block5_1_conv - False\n",
            "124 conv4_block5_1_bn - True\n",
            "125 conv4_block5_1_relu - False\n",
            "126 conv4_block5_2_conv - False\n",
            "127 conv4_block5_2_bn - True\n",
            "128 conv4_block5_2_relu - False\n",
            "129 conv4_block5_3_conv - False\n",
            "130 conv4_block5_3_bn - True\n",
            "131 conv4_block5_add - False\n",
            "132 conv4_block5_out - False\n",
            "133 conv4_block6_1_conv - False\n",
            "134 conv4_block6_1_bn - True\n",
            "135 conv4_block6_1_relu - False\n",
            "136 conv4_block6_2_conv - False\n",
            "137 conv4_block6_2_bn - True\n",
            "138 conv4_block6_2_relu - False\n",
            "139 conv4_block6_3_conv - False\n",
            "140 conv4_block6_3_bn - True\n",
            "141 conv4_block6_add - False\n",
            "142 conv4_block6_out - False\n",
            "143 conv5_block1_1_conv - False\n",
            "144 conv5_block1_1_bn - True\n",
            "145 conv5_block1_1_relu - False\n",
            "146 conv5_block1_2_conv - False\n",
            "147 conv5_block1_2_bn - True\n",
            "148 conv5_block1_2_relu - False\n",
            "149 conv5_block1_0_conv - False\n",
            "150 conv5_block1_3_conv - False\n",
            "151 conv5_block1_0_bn - True\n",
            "152 conv5_block1_3_bn - True\n",
            "153 conv5_block1_add - False\n",
            "154 conv5_block1_out - False\n",
            "155 conv5_block2_1_conv - False\n",
            "156 conv5_block2_1_bn - True\n",
            "157 conv5_block2_1_relu - False\n",
            "158 conv5_block2_2_conv - False\n",
            "159 conv5_block2_2_bn - True\n",
            "160 conv5_block2_2_relu - False\n",
            "161 conv5_block2_3_conv - False\n",
            "162 conv5_block2_3_bn - True\n",
            "163 conv5_block2_add - False\n",
            "164 conv5_block2_out - False\n",
            "165 conv5_block3_1_conv - False\n",
            "166 conv5_block3_1_bn - True\n",
            "167 conv5_block3_1_relu - False\n",
            "168 conv5_block3_2_conv - False\n",
            "169 conv5_block3_2_bn - True\n",
            "170 conv5_block3_2_relu - False\n",
            "171 conv5_block3_3_conv - False\n",
            "172 conv5_block3_3_bn - True\n",
            "173 conv5_block3_add - False\n",
            "174 conv5_block3_out - False\n"
          ]
        }
      ],
      "source": [
        "for i, layer in enumerate(base_model.layers):\n",
        "  print(i, layer.name, \"-\", layer.trainable)"
      ]
    },
    {
      "cell_type": "code",
      "execution_count": 52,
      "metadata": {
        "colab": {
          "base_uri": "https://localhost:8080/"
        },
        "id": "yk7M1VwvCZIO",
        "outputId": "7f8c5a1c-99d9-47bb-8485-9108fd16887e"
      },
      "outputs": [
        {
          "output_type": "stream",
          "name": "stdout",
          "text": [
            "Model: \"model\"\n",
            "__________________________________________________________________________________________________\n",
            " Layer (type)                   Output Shape         Param #     Connected to                     \n",
            "==================================================================================================\n",
            " input_2 (InputLayer)           [(None, 224, 224, 3  0           []                               \n",
            "                                )]                                                                \n",
            "                                                                                                  \n",
            " conv1_pad (ZeroPadding2D)      (None, 230, 230, 3)  0           ['input_2[0][0]']                \n",
            "                                                                                                  \n",
            " conv1_conv (Conv2D)            (None, 112, 112, 64  9472        ['conv1_pad[0][0]']              \n",
            "                                )                                                                 \n",
            "                                                                                                  \n",
            " conv1_bn (BatchNormalization)  (None, 112, 112, 64  256         ['conv1_conv[0][0]']             \n",
            "                                )                                                                 \n",
            "                                                                                                  \n",
            " conv1_relu (Activation)        (None, 112, 112, 64  0           ['conv1_bn[0][0]']               \n",
            "                                )                                                                 \n",
            "                                                                                                  \n",
            " pool1_pad (ZeroPadding2D)      (None, 114, 114, 64  0           ['conv1_relu[0][0]']             \n",
            "                                )                                                                 \n",
            "                                                                                                  \n",
            " pool1_pool (MaxPooling2D)      (None, 56, 56, 64)   0           ['pool1_pad[0][0]']              \n",
            "                                                                                                  \n",
            " conv2_block1_1_conv (Conv2D)   (None, 56, 56, 64)   4160        ['pool1_pool[0][0]']             \n",
            "                                                                                                  \n",
            " conv2_block1_1_bn (BatchNormal  (None, 56, 56, 64)  256         ['conv2_block1_1_conv[0][0]']    \n",
            " ization)                                                                                         \n",
            "                                                                                                  \n",
            " conv2_block1_1_relu (Activatio  (None, 56, 56, 64)  0           ['conv2_block1_1_bn[0][0]']      \n",
            " n)                                                                                               \n",
            "                                                                                                  \n",
            " conv2_block1_2_conv (Conv2D)   (None, 56, 56, 64)   36928       ['conv2_block1_1_relu[0][0]']    \n",
            "                                                                                                  \n",
            " conv2_block1_2_bn (BatchNormal  (None, 56, 56, 64)  256         ['conv2_block1_2_conv[0][0]']    \n",
            " ization)                                                                                         \n",
            "                                                                                                  \n",
            " conv2_block1_2_relu (Activatio  (None, 56, 56, 64)  0           ['conv2_block1_2_bn[0][0]']      \n",
            " n)                                                                                               \n",
            "                                                                                                  \n",
            " conv2_block1_0_conv (Conv2D)   (None, 56, 56, 256)  16640       ['pool1_pool[0][0]']             \n",
            "                                                                                                  \n",
            " conv2_block1_3_conv (Conv2D)   (None, 56, 56, 256)  16640       ['conv2_block1_2_relu[0][0]']    \n",
            "                                                                                                  \n",
            " conv2_block1_0_bn (BatchNormal  (None, 56, 56, 256)  1024       ['conv2_block1_0_conv[0][0]']    \n",
            " ization)                                                                                         \n",
            "                                                                                                  \n",
            " conv2_block1_3_bn (BatchNormal  (None, 56, 56, 256)  1024       ['conv2_block1_3_conv[0][0]']    \n",
            " ization)                                                                                         \n",
            "                                                                                                  \n",
            " conv2_block1_add (Add)         (None, 56, 56, 256)  0           ['conv2_block1_0_bn[0][0]',      \n",
            "                                                                  'conv2_block1_3_bn[0][0]']      \n",
            "                                                                                                  \n",
            " conv2_block1_out (Activation)  (None, 56, 56, 256)  0           ['conv2_block1_add[0][0]']       \n",
            "                                                                                                  \n",
            " conv2_block2_1_conv (Conv2D)   (None, 56, 56, 64)   16448       ['conv2_block1_out[0][0]']       \n",
            "                                                                                                  \n",
            " conv2_block2_1_bn (BatchNormal  (None, 56, 56, 64)  256         ['conv2_block2_1_conv[0][0]']    \n",
            " ization)                                                                                         \n",
            "                                                                                                  \n",
            " conv2_block2_1_relu (Activatio  (None, 56, 56, 64)  0           ['conv2_block2_1_bn[0][0]']      \n",
            " n)                                                                                               \n",
            "                                                                                                  \n",
            " conv2_block2_2_conv (Conv2D)   (None, 56, 56, 64)   36928       ['conv2_block2_1_relu[0][0]']    \n",
            "                                                                                                  \n",
            " conv2_block2_2_bn (BatchNormal  (None, 56, 56, 64)  256         ['conv2_block2_2_conv[0][0]']    \n",
            " ization)                                                                                         \n",
            "                                                                                                  \n",
            " conv2_block2_2_relu (Activatio  (None, 56, 56, 64)  0           ['conv2_block2_2_bn[0][0]']      \n",
            " n)                                                                                               \n",
            "                                                                                                  \n",
            " conv2_block2_3_conv (Conv2D)   (None, 56, 56, 256)  16640       ['conv2_block2_2_relu[0][0]']    \n",
            "                                                                                                  \n",
            " conv2_block2_3_bn (BatchNormal  (None, 56, 56, 256)  1024       ['conv2_block2_3_conv[0][0]']    \n",
            " ization)                                                                                         \n",
            "                                                                                                  \n",
            " conv2_block2_add (Add)         (None, 56, 56, 256)  0           ['conv2_block1_out[0][0]',       \n",
            "                                                                  'conv2_block2_3_bn[0][0]']      \n",
            "                                                                                                  \n",
            " conv2_block2_out (Activation)  (None, 56, 56, 256)  0           ['conv2_block2_add[0][0]']       \n",
            "                                                                                                  \n",
            " conv2_block3_1_conv (Conv2D)   (None, 56, 56, 64)   16448       ['conv2_block2_out[0][0]']       \n",
            "                                                                                                  \n",
            " conv2_block3_1_bn (BatchNormal  (None, 56, 56, 64)  256         ['conv2_block3_1_conv[0][0]']    \n",
            " ization)                                                                                         \n",
            "                                                                                                  \n",
            " conv2_block3_1_relu (Activatio  (None, 56, 56, 64)  0           ['conv2_block3_1_bn[0][0]']      \n",
            " n)                                                                                               \n",
            "                                                                                                  \n",
            " conv2_block3_2_conv (Conv2D)   (None, 56, 56, 64)   36928       ['conv2_block3_1_relu[0][0]']    \n",
            "                                                                                                  \n",
            " conv2_block3_2_bn (BatchNormal  (None, 56, 56, 64)  256         ['conv2_block3_2_conv[0][0]']    \n",
            " ization)                                                                                         \n",
            "                                                                                                  \n",
            " conv2_block3_2_relu (Activatio  (None, 56, 56, 64)  0           ['conv2_block3_2_bn[0][0]']      \n",
            " n)                                                                                               \n",
            "                                                                                                  \n",
            " conv2_block3_3_conv (Conv2D)   (None, 56, 56, 256)  16640       ['conv2_block3_2_relu[0][0]']    \n",
            "                                                                                                  \n",
            " conv2_block3_3_bn (BatchNormal  (None, 56, 56, 256)  1024       ['conv2_block3_3_conv[0][0]']    \n",
            " ization)                                                                                         \n",
            "                                                                                                  \n",
            " conv2_block3_add (Add)         (None, 56, 56, 256)  0           ['conv2_block2_out[0][0]',       \n",
            "                                                                  'conv2_block3_3_bn[0][0]']      \n",
            "                                                                                                  \n",
            " conv2_block3_out (Activation)  (None, 56, 56, 256)  0           ['conv2_block3_add[0][0]']       \n",
            "                                                                                                  \n",
            " conv3_block1_1_conv (Conv2D)   (None, 28, 28, 128)  32896       ['conv2_block3_out[0][0]']       \n",
            "                                                                                                  \n",
            " conv3_block1_1_bn (BatchNormal  (None, 28, 28, 128)  512        ['conv3_block1_1_conv[0][0]']    \n",
            " ization)                                                                                         \n",
            "                                                                                                  \n",
            " conv3_block1_1_relu (Activatio  (None, 28, 28, 128)  0          ['conv3_block1_1_bn[0][0]']      \n",
            " n)                                                                                               \n",
            "                                                                                                  \n",
            " conv3_block1_2_conv (Conv2D)   (None, 28, 28, 128)  147584      ['conv3_block1_1_relu[0][0]']    \n",
            "                                                                                                  \n",
            " conv3_block1_2_bn (BatchNormal  (None, 28, 28, 128)  512        ['conv3_block1_2_conv[0][0]']    \n",
            " ization)                                                                                         \n",
            "                                                                                                  \n",
            " conv3_block1_2_relu (Activatio  (None, 28, 28, 128)  0          ['conv3_block1_2_bn[0][0]']      \n",
            " n)                                                                                               \n",
            "                                                                                                  \n",
            " conv3_block1_0_conv (Conv2D)   (None, 28, 28, 512)  131584      ['conv2_block3_out[0][0]']       \n",
            "                                                                                                  \n",
            " conv3_block1_3_conv (Conv2D)   (None, 28, 28, 512)  66048       ['conv3_block1_2_relu[0][0]']    \n",
            "                                                                                                  \n",
            " conv3_block1_0_bn (BatchNormal  (None, 28, 28, 512)  2048       ['conv3_block1_0_conv[0][0]']    \n",
            " ization)                                                                                         \n",
            "                                                                                                  \n",
            " conv3_block1_3_bn (BatchNormal  (None, 28, 28, 512)  2048       ['conv3_block1_3_conv[0][0]']    \n",
            " ization)                                                                                         \n",
            "                                                                                                  \n",
            " conv3_block1_add (Add)         (None, 28, 28, 512)  0           ['conv3_block1_0_bn[0][0]',      \n",
            "                                                                  'conv3_block1_3_bn[0][0]']      \n",
            "                                                                                                  \n",
            " conv3_block1_out (Activation)  (None, 28, 28, 512)  0           ['conv3_block1_add[0][0]']       \n",
            "                                                                                                  \n",
            " conv3_block2_1_conv (Conv2D)   (None, 28, 28, 128)  65664       ['conv3_block1_out[0][0]']       \n",
            "                                                                                                  \n",
            " conv3_block2_1_bn (BatchNormal  (None, 28, 28, 128)  512        ['conv3_block2_1_conv[0][0]']    \n",
            " ization)                                                                                         \n",
            "                                                                                                  \n",
            " conv3_block2_1_relu (Activatio  (None, 28, 28, 128)  0          ['conv3_block2_1_bn[0][0]']      \n",
            " n)                                                                                               \n",
            "                                                                                                  \n",
            " conv3_block2_2_conv (Conv2D)   (None, 28, 28, 128)  147584      ['conv3_block2_1_relu[0][0]']    \n",
            "                                                                                                  \n",
            " conv3_block2_2_bn (BatchNormal  (None, 28, 28, 128)  512        ['conv3_block2_2_conv[0][0]']    \n",
            " ization)                                                                                         \n",
            "                                                                                                  \n",
            " conv3_block2_2_relu (Activatio  (None, 28, 28, 128)  0          ['conv3_block2_2_bn[0][0]']      \n",
            " n)                                                                                               \n",
            "                                                                                                  \n",
            " conv3_block2_3_conv (Conv2D)   (None, 28, 28, 512)  66048       ['conv3_block2_2_relu[0][0]']    \n",
            "                                                                                                  \n",
            " conv3_block2_3_bn (BatchNormal  (None, 28, 28, 512)  2048       ['conv3_block2_3_conv[0][0]']    \n",
            " ization)                                                                                         \n",
            "                                                                                                  \n",
            " conv3_block2_add (Add)         (None, 28, 28, 512)  0           ['conv3_block1_out[0][0]',       \n",
            "                                                                  'conv3_block2_3_bn[0][0]']      \n",
            "                                                                                                  \n",
            " conv3_block2_out (Activation)  (None, 28, 28, 512)  0           ['conv3_block2_add[0][0]']       \n",
            "                                                                                                  \n",
            " conv3_block3_1_conv (Conv2D)   (None, 28, 28, 128)  65664       ['conv3_block2_out[0][0]']       \n",
            "                                                                                                  \n",
            " conv3_block3_1_bn (BatchNormal  (None, 28, 28, 128)  512        ['conv3_block3_1_conv[0][0]']    \n",
            " ization)                                                                                         \n",
            "                                                                                                  \n",
            " conv3_block3_1_relu (Activatio  (None, 28, 28, 128)  0          ['conv3_block3_1_bn[0][0]']      \n",
            " n)                                                                                               \n",
            "                                                                                                  \n",
            " conv3_block3_2_conv (Conv2D)   (None, 28, 28, 128)  147584      ['conv3_block3_1_relu[0][0]']    \n",
            "                                                                                                  \n",
            " conv3_block3_2_bn (BatchNormal  (None, 28, 28, 128)  512        ['conv3_block3_2_conv[0][0]']    \n",
            " ization)                                                                                         \n",
            "                                                                                                  \n",
            " conv3_block3_2_relu (Activatio  (None, 28, 28, 128)  0          ['conv3_block3_2_bn[0][0]']      \n",
            " n)                                                                                               \n",
            "                                                                                                  \n",
            " conv3_block3_3_conv (Conv2D)   (None, 28, 28, 512)  66048       ['conv3_block3_2_relu[0][0]']    \n",
            "                                                                                                  \n",
            " conv3_block3_3_bn (BatchNormal  (None, 28, 28, 512)  2048       ['conv3_block3_3_conv[0][0]']    \n",
            " ization)                                                                                         \n",
            "                                                                                                  \n",
            " conv3_block3_add (Add)         (None, 28, 28, 512)  0           ['conv3_block2_out[0][0]',       \n",
            "                                                                  'conv3_block3_3_bn[0][0]']      \n",
            "                                                                                                  \n",
            " conv3_block3_out (Activation)  (None, 28, 28, 512)  0           ['conv3_block3_add[0][0]']       \n",
            "                                                                                                  \n",
            " conv3_block4_1_conv (Conv2D)   (None, 28, 28, 128)  65664       ['conv3_block3_out[0][0]']       \n",
            "                                                                                                  \n",
            " conv3_block4_1_bn (BatchNormal  (None, 28, 28, 128)  512        ['conv3_block4_1_conv[0][0]']    \n",
            " ization)                                                                                         \n",
            "                                                                                                  \n",
            " conv3_block4_1_relu (Activatio  (None, 28, 28, 128)  0          ['conv3_block4_1_bn[0][0]']      \n",
            " n)                                                                                               \n",
            "                                                                                                  \n",
            " conv3_block4_2_conv (Conv2D)   (None, 28, 28, 128)  147584      ['conv3_block4_1_relu[0][0]']    \n",
            "                                                                                                  \n",
            " conv3_block4_2_bn (BatchNormal  (None, 28, 28, 128)  512        ['conv3_block4_2_conv[0][0]']    \n",
            " ization)                                                                                         \n",
            "                                                                                                  \n",
            " conv3_block4_2_relu (Activatio  (None, 28, 28, 128)  0          ['conv3_block4_2_bn[0][0]']      \n",
            " n)                                                                                               \n",
            "                                                                                                  \n",
            " conv3_block4_3_conv (Conv2D)   (None, 28, 28, 512)  66048       ['conv3_block4_2_relu[0][0]']    \n",
            "                                                                                                  \n",
            " conv3_block4_3_bn (BatchNormal  (None, 28, 28, 512)  2048       ['conv3_block4_3_conv[0][0]']    \n",
            " ization)                                                                                         \n",
            "                                                                                                  \n",
            " conv3_block4_add (Add)         (None, 28, 28, 512)  0           ['conv3_block3_out[0][0]',       \n",
            "                                                                  'conv3_block4_3_bn[0][0]']      \n",
            "                                                                                                  \n",
            " conv3_block4_out (Activation)  (None, 28, 28, 512)  0           ['conv3_block4_add[0][0]']       \n",
            "                                                                                                  \n",
            " conv4_block1_1_conv (Conv2D)   (None, 14, 14, 256)  131328      ['conv3_block4_out[0][0]']       \n",
            "                                                                                                  \n",
            " conv4_block1_1_bn (BatchNormal  (None, 14, 14, 256)  1024       ['conv4_block1_1_conv[0][0]']    \n",
            " ization)                                                                                         \n",
            "                                                                                                  \n",
            " conv4_block1_1_relu (Activatio  (None, 14, 14, 256)  0          ['conv4_block1_1_bn[0][0]']      \n",
            " n)                                                                                               \n",
            "                                                                                                  \n",
            " conv4_block1_2_conv (Conv2D)   (None, 14, 14, 256)  590080      ['conv4_block1_1_relu[0][0]']    \n",
            "                                                                                                  \n",
            " conv4_block1_2_bn (BatchNormal  (None, 14, 14, 256)  1024       ['conv4_block1_2_conv[0][0]']    \n",
            " ization)                                                                                         \n",
            "                                                                                                  \n",
            " conv4_block1_2_relu (Activatio  (None, 14, 14, 256)  0          ['conv4_block1_2_bn[0][0]']      \n",
            " n)                                                                                               \n",
            "                                                                                                  \n",
            " conv4_block1_0_conv (Conv2D)   (None, 14, 14, 1024  525312      ['conv3_block4_out[0][0]']       \n",
            "                                )                                                                 \n",
            "                                                                                                  \n",
            " conv4_block1_3_conv (Conv2D)   (None, 14, 14, 1024  263168      ['conv4_block1_2_relu[0][0]']    \n",
            "                                )                                                                 \n",
            "                                                                                                  \n",
            " conv4_block1_0_bn (BatchNormal  (None, 14, 14, 1024  4096       ['conv4_block1_0_conv[0][0]']    \n",
            " ization)                       )                                                                 \n",
            "                                                                                                  \n",
            " conv4_block1_3_bn (BatchNormal  (None, 14, 14, 1024  4096       ['conv4_block1_3_conv[0][0]']    \n",
            " ization)                       )                                                                 \n",
            "                                                                                                  \n",
            " conv4_block1_add (Add)         (None, 14, 14, 1024  0           ['conv4_block1_0_bn[0][0]',      \n",
            "                                )                                 'conv4_block1_3_bn[0][0]']      \n",
            "                                                                                                  \n",
            " conv4_block1_out (Activation)  (None, 14, 14, 1024  0           ['conv4_block1_add[0][0]']       \n",
            "                                )                                                                 \n",
            "                                                                                                  \n",
            " conv4_block2_1_conv (Conv2D)   (None, 14, 14, 256)  262400      ['conv4_block1_out[0][0]']       \n",
            "                                                                                                  \n",
            " conv4_block2_1_bn (BatchNormal  (None, 14, 14, 256)  1024       ['conv4_block2_1_conv[0][0]']    \n",
            " ization)                                                                                         \n",
            "                                                                                                  \n",
            " conv4_block2_1_relu (Activatio  (None, 14, 14, 256)  0          ['conv4_block2_1_bn[0][0]']      \n",
            " n)                                                                                               \n",
            "                                                                                                  \n",
            " conv4_block2_2_conv (Conv2D)   (None, 14, 14, 256)  590080      ['conv4_block2_1_relu[0][0]']    \n",
            "                                                                                                  \n",
            " conv4_block2_2_bn (BatchNormal  (None, 14, 14, 256)  1024       ['conv4_block2_2_conv[0][0]']    \n",
            " ization)                                                                                         \n",
            "                                                                                                  \n",
            " conv4_block2_2_relu (Activatio  (None, 14, 14, 256)  0          ['conv4_block2_2_bn[0][0]']      \n",
            " n)                                                                                               \n",
            "                                                                                                  \n",
            " conv4_block2_3_conv (Conv2D)   (None, 14, 14, 1024  263168      ['conv4_block2_2_relu[0][0]']    \n",
            "                                )                                                                 \n",
            "                                                                                                  \n",
            " conv4_block2_3_bn (BatchNormal  (None, 14, 14, 1024  4096       ['conv4_block2_3_conv[0][0]']    \n",
            " ization)                       )                                                                 \n",
            "                                                                                                  \n",
            " conv4_block2_add (Add)         (None, 14, 14, 1024  0           ['conv4_block1_out[0][0]',       \n",
            "                                )                                 'conv4_block2_3_bn[0][0]']      \n",
            "                                                                                                  \n",
            " conv4_block2_out (Activation)  (None, 14, 14, 1024  0           ['conv4_block2_add[0][0]']       \n",
            "                                )                                                                 \n",
            "                                                                                                  \n",
            " conv4_block3_1_conv (Conv2D)   (None, 14, 14, 256)  262400      ['conv4_block2_out[0][0]']       \n",
            "                                                                                                  \n",
            " conv4_block3_1_bn (BatchNormal  (None, 14, 14, 256)  1024       ['conv4_block3_1_conv[0][0]']    \n",
            " ization)                                                                                         \n",
            "                                                                                                  \n",
            " conv4_block3_1_relu (Activatio  (None, 14, 14, 256)  0          ['conv4_block3_1_bn[0][0]']      \n",
            " n)                                                                                               \n",
            "                                                                                                  \n",
            " conv4_block3_2_conv (Conv2D)   (None, 14, 14, 256)  590080      ['conv4_block3_1_relu[0][0]']    \n",
            "                                                                                                  \n",
            " conv4_block3_2_bn (BatchNormal  (None, 14, 14, 256)  1024       ['conv4_block3_2_conv[0][0]']    \n",
            " ization)                                                                                         \n",
            "                                                                                                  \n",
            " conv4_block3_2_relu (Activatio  (None, 14, 14, 256)  0          ['conv4_block3_2_bn[0][0]']      \n",
            " n)                                                                                               \n",
            "                                                                                                  \n",
            " conv4_block3_3_conv (Conv2D)   (None, 14, 14, 1024  263168      ['conv4_block3_2_relu[0][0]']    \n",
            "                                )                                                                 \n",
            "                                                                                                  \n",
            " conv4_block3_3_bn (BatchNormal  (None, 14, 14, 1024  4096       ['conv4_block3_3_conv[0][0]']    \n",
            " ization)                       )                                                                 \n",
            "                                                                                                  \n",
            " conv4_block3_add (Add)         (None, 14, 14, 1024  0           ['conv4_block2_out[0][0]',       \n",
            "                                )                                 'conv4_block3_3_bn[0][0]']      \n",
            "                                                                                                  \n",
            " conv4_block3_out (Activation)  (None, 14, 14, 1024  0           ['conv4_block3_add[0][0]']       \n",
            "                                )                                                                 \n",
            "                                                                                                  \n",
            " conv4_block4_1_conv (Conv2D)   (None, 14, 14, 256)  262400      ['conv4_block3_out[0][0]']       \n",
            "                                                                                                  \n",
            " conv4_block4_1_bn (BatchNormal  (None, 14, 14, 256)  1024       ['conv4_block4_1_conv[0][0]']    \n",
            " ization)                                                                                         \n",
            "                                                                                                  \n",
            " conv4_block4_1_relu (Activatio  (None, 14, 14, 256)  0          ['conv4_block4_1_bn[0][0]']      \n",
            " n)                                                                                               \n",
            "                                                                                                  \n",
            " conv4_block4_2_conv (Conv2D)   (None, 14, 14, 256)  590080      ['conv4_block4_1_relu[0][0]']    \n",
            "                                                                                                  \n",
            " conv4_block4_2_bn (BatchNormal  (None, 14, 14, 256)  1024       ['conv4_block4_2_conv[0][0]']    \n",
            " ization)                                                                                         \n",
            "                                                                                                  \n",
            " conv4_block4_2_relu (Activatio  (None, 14, 14, 256)  0          ['conv4_block4_2_bn[0][0]']      \n",
            " n)                                                                                               \n",
            "                                                                                                  \n",
            " conv4_block4_3_conv (Conv2D)   (None, 14, 14, 1024  263168      ['conv4_block4_2_relu[0][0]']    \n",
            "                                )                                                                 \n",
            "                                                                                                  \n",
            " conv4_block4_3_bn (BatchNormal  (None, 14, 14, 1024  4096       ['conv4_block4_3_conv[0][0]']    \n",
            " ization)                       )                                                                 \n",
            "                                                                                                  \n",
            " conv4_block4_add (Add)         (None, 14, 14, 1024  0           ['conv4_block3_out[0][0]',       \n",
            "                                )                                 'conv4_block4_3_bn[0][0]']      \n",
            "                                                                                                  \n",
            " conv4_block4_out (Activation)  (None, 14, 14, 1024  0           ['conv4_block4_add[0][0]']       \n",
            "                                )                                                                 \n",
            "                                                                                                  \n",
            " conv4_block5_1_conv (Conv2D)   (None, 14, 14, 256)  262400      ['conv4_block4_out[0][0]']       \n",
            "                                                                                                  \n",
            " conv4_block5_1_bn (BatchNormal  (None, 14, 14, 256)  1024       ['conv4_block5_1_conv[0][0]']    \n",
            " ization)                                                                                         \n",
            "                                                                                                  \n",
            " conv4_block5_1_relu (Activatio  (None, 14, 14, 256)  0          ['conv4_block5_1_bn[0][0]']      \n",
            " n)                                                                                               \n",
            "                                                                                                  \n",
            " conv4_block5_2_conv (Conv2D)   (None, 14, 14, 256)  590080      ['conv4_block5_1_relu[0][0]']    \n",
            "                                                                                                  \n",
            " conv4_block5_2_bn (BatchNormal  (None, 14, 14, 256)  1024       ['conv4_block5_2_conv[0][0]']    \n",
            " ization)                                                                                         \n",
            "                                                                                                  \n",
            " conv4_block5_2_relu (Activatio  (None, 14, 14, 256)  0          ['conv4_block5_2_bn[0][0]']      \n",
            " n)                                                                                               \n",
            "                                                                                                  \n",
            " conv4_block5_3_conv (Conv2D)   (None, 14, 14, 1024  263168      ['conv4_block5_2_relu[0][0]']    \n",
            "                                )                                                                 \n",
            "                                                                                                  \n",
            " conv4_block5_3_bn (BatchNormal  (None, 14, 14, 1024  4096       ['conv4_block5_3_conv[0][0]']    \n",
            " ization)                       )                                                                 \n",
            "                                                                                                  \n",
            " conv4_block5_add (Add)         (None, 14, 14, 1024  0           ['conv4_block4_out[0][0]',       \n",
            "                                )                                 'conv4_block5_3_bn[0][0]']      \n",
            "                                                                                                  \n",
            " conv4_block5_out (Activation)  (None, 14, 14, 1024  0           ['conv4_block5_add[0][0]']       \n",
            "                                )                                                                 \n",
            "                                                                                                  \n",
            " conv4_block6_1_conv (Conv2D)   (None, 14, 14, 256)  262400      ['conv4_block5_out[0][0]']       \n",
            "                                                                                                  \n",
            " conv4_block6_1_bn (BatchNormal  (None, 14, 14, 256)  1024       ['conv4_block6_1_conv[0][0]']    \n",
            " ization)                                                                                         \n",
            "                                                                                                  \n",
            " conv4_block6_1_relu (Activatio  (None, 14, 14, 256)  0          ['conv4_block6_1_bn[0][0]']      \n",
            " n)                                                                                               \n",
            "                                                                                                  \n",
            " conv4_block6_2_conv (Conv2D)   (None, 14, 14, 256)  590080      ['conv4_block6_1_relu[0][0]']    \n",
            "                                                                                                  \n",
            " conv4_block6_2_bn (BatchNormal  (None, 14, 14, 256)  1024       ['conv4_block6_2_conv[0][0]']    \n",
            " ization)                                                                                         \n",
            "                                                                                                  \n",
            " conv4_block6_2_relu (Activatio  (None, 14, 14, 256)  0          ['conv4_block6_2_bn[0][0]']      \n",
            " n)                                                                                               \n",
            "                                                                                                  \n",
            " conv4_block6_3_conv (Conv2D)   (None, 14, 14, 1024  263168      ['conv4_block6_2_relu[0][0]']    \n",
            "                                )                                                                 \n",
            "                                                                                                  \n",
            " conv4_block6_3_bn (BatchNormal  (None, 14, 14, 1024  4096       ['conv4_block6_3_conv[0][0]']    \n",
            " ization)                       )                                                                 \n",
            "                                                                                                  \n",
            " conv4_block6_add (Add)         (None, 14, 14, 1024  0           ['conv4_block5_out[0][0]',       \n",
            "                                )                                 'conv4_block6_3_bn[0][0]']      \n",
            "                                                                                                  \n",
            " conv4_block6_out (Activation)  (None, 14, 14, 1024  0           ['conv4_block6_add[0][0]']       \n",
            "                                )                                                                 \n",
            "                                                                                                  \n",
            " conv5_block1_1_conv (Conv2D)   (None, 7, 7, 512)    524800      ['conv4_block6_out[0][0]']       \n",
            "                                                                                                  \n",
            " conv5_block1_1_bn (BatchNormal  (None, 7, 7, 512)   2048        ['conv5_block1_1_conv[0][0]']    \n",
            " ization)                                                                                         \n",
            "                                                                                                  \n",
            " conv5_block1_1_relu (Activatio  (None, 7, 7, 512)   0           ['conv5_block1_1_bn[0][0]']      \n",
            " n)                                                                                               \n",
            "                                                                                                  \n",
            " conv5_block1_2_conv (Conv2D)   (None, 7, 7, 512)    2359808     ['conv5_block1_1_relu[0][0]']    \n",
            "                                                                                                  \n",
            " conv5_block1_2_bn (BatchNormal  (None, 7, 7, 512)   2048        ['conv5_block1_2_conv[0][0]']    \n",
            " ization)                                                                                         \n",
            "                                                                                                  \n",
            " conv5_block1_2_relu (Activatio  (None, 7, 7, 512)   0           ['conv5_block1_2_bn[0][0]']      \n",
            " n)                                                                                               \n",
            "                                                                                                  \n",
            " conv5_block1_0_conv (Conv2D)   (None, 7, 7, 2048)   2099200     ['conv4_block6_out[0][0]']       \n",
            "                                                                                                  \n",
            " conv5_block1_3_conv (Conv2D)   (None, 7, 7, 2048)   1050624     ['conv5_block1_2_relu[0][0]']    \n",
            "                                                                                                  \n",
            " conv5_block1_0_bn (BatchNormal  (None, 7, 7, 2048)  8192        ['conv5_block1_0_conv[0][0]']    \n",
            " ization)                                                                                         \n",
            "                                                                                                  \n",
            " conv5_block1_3_bn (BatchNormal  (None, 7, 7, 2048)  8192        ['conv5_block1_3_conv[0][0]']    \n",
            " ization)                                                                                         \n",
            "                                                                                                  \n",
            " conv5_block1_add (Add)         (None, 7, 7, 2048)   0           ['conv5_block1_0_bn[0][0]',      \n",
            "                                                                  'conv5_block1_3_bn[0][0]']      \n",
            "                                                                                                  \n",
            " conv5_block1_out (Activation)  (None, 7, 7, 2048)   0           ['conv5_block1_add[0][0]']       \n",
            "                                                                                                  \n",
            " conv5_block2_1_conv (Conv2D)   (None, 7, 7, 512)    1049088     ['conv5_block1_out[0][0]']       \n",
            "                                                                                                  \n",
            " conv5_block2_1_bn (BatchNormal  (None, 7, 7, 512)   2048        ['conv5_block2_1_conv[0][0]']    \n",
            " ization)                                                                                         \n",
            "                                                                                                  \n",
            " conv5_block2_1_relu (Activatio  (None, 7, 7, 512)   0           ['conv5_block2_1_bn[0][0]']      \n",
            " n)                                                                                               \n",
            "                                                                                                  \n",
            " conv5_block2_2_conv (Conv2D)   (None, 7, 7, 512)    2359808     ['conv5_block2_1_relu[0][0]']    \n",
            "                                                                                                  \n",
            " conv5_block2_2_bn (BatchNormal  (None, 7, 7, 512)   2048        ['conv5_block2_2_conv[0][0]']    \n",
            " ization)                                                                                         \n",
            "                                                                                                  \n",
            " conv5_block2_2_relu (Activatio  (None, 7, 7, 512)   0           ['conv5_block2_2_bn[0][0]']      \n",
            " n)                                                                                               \n",
            "                                                                                                  \n",
            " conv5_block2_3_conv (Conv2D)   (None, 7, 7, 2048)   1050624     ['conv5_block2_2_relu[0][0]']    \n",
            "                                                                                                  \n",
            " conv5_block2_3_bn (BatchNormal  (None, 7, 7, 2048)  8192        ['conv5_block2_3_conv[0][0]']    \n",
            " ization)                                                                                         \n",
            "                                                                                                  \n",
            " conv5_block2_add (Add)         (None, 7, 7, 2048)   0           ['conv5_block1_out[0][0]',       \n",
            "                                                                  'conv5_block2_3_bn[0][0]']      \n",
            "                                                                                                  \n",
            " conv5_block2_out (Activation)  (None, 7, 7, 2048)   0           ['conv5_block2_add[0][0]']       \n",
            "                                                                                                  \n",
            " conv5_block3_1_conv (Conv2D)   (None, 7, 7, 512)    1049088     ['conv5_block2_out[0][0]']       \n",
            "                                                                                                  \n",
            " conv5_block3_1_bn (BatchNormal  (None, 7, 7, 512)   2048        ['conv5_block3_1_conv[0][0]']    \n",
            " ization)                                                                                         \n",
            "                                                                                                  \n",
            " conv5_block3_1_relu (Activatio  (None, 7, 7, 512)   0           ['conv5_block3_1_bn[0][0]']      \n",
            " n)                                                                                               \n",
            "                                                                                                  \n",
            " conv5_block3_2_conv (Conv2D)   (None, 7, 7, 512)    2359808     ['conv5_block3_1_relu[0][0]']    \n",
            "                                                                                                  \n",
            " conv5_block3_2_bn (BatchNormal  (None, 7, 7, 512)   2048        ['conv5_block3_2_conv[0][0]']    \n",
            " ization)                                                                                         \n",
            "                                                                                                  \n",
            " conv5_block3_2_relu (Activatio  (None, 7, 7, 512)   0           ['conv5_block3_2_bn[0][0]']      \n",
            " n)                                                                                               \n",
            "                                                                                                  \n",
            " conv5_block3_3_conv (Conv2D)   (None, 7, 7, 2048)   1050624     ['conv5_block3_2_relu[0][0]']    \n",
            "                                                                                                  \n",
            " conv5_block3_3_bn (BatchNormal  (None, 7, 7, 2048)  8192        ['conv5_block3_3_conv[0][0]']    \n",
            " ization)                                                                                         \n",
            "                                                                                                  \n",
            " conv5_block3_add (Add)         (None, 7, 7, 2048)   0           ['conv5_block2_out[0][0]',       \n",
            "                                                                  'conv5_block3_3_bn[0][0]']      \n",
            "                                                                                                  \n",
            " conv5_block3_out (Activation)  (None, 7, 7, 2048)   0           ['conv5_block3_add[0][0]']       \n",
            "                                                                                                  \n",
            " flatten (Flatten)              (None, 100352)       0           ['conv5_block3_out[0][0]']       \n",
            "                                                                                                  \n",
            " dense (Dense)                  (None, 128)          12845184    ['flatten[0][0]']                \n",
            "                                                                                                  \n",
            " dropout (Dropout)              (None, 128)          0           ['dense[0][0]']                  \n",
            "                                                                                                  \n",
            " dense_1 (Dense)                (None, 11)           1419        ['dropout[0][0]']                \n",
            "                                                                                                  \n",
            "==================================================================================================\n",
            "Total params: 36,434,315\n",
            "Trainable params: 12,899,723\n",
            "Non-trainable params: 23,534,592\n",
            "__________________________________________________________________________________________________\n"
          ]
        }
      ],
      "source": [
        "x = layers.Flatten()(x)\n",
        "x = layers.Dense(128, activation=params['DENSE_ACTIVATION'])(x) \n",
        "x = layers.Dropout(rate=params['DROPOUT_RATE'])(x)\n",
        "outputs = keras.layers.Dense(NUM_CLASSES, activation='softmax')(x)\n",
        "model = keras.Model(inputs=input_tensor, outputs=outputs)\n",
        "\n",
        "model.summary()"
      ]
    },
    {
      "cell_type": "markdown",
      "metadata": {
        "id": "QtGkLGC4zhfL"
      },
      "source": [
        "#### Compile Model"
      ]
    },
    {
      "cell_type": "code",
      "execution_count": 53,
      "metadata": {
        "id": "cKNK9Y8Kzjxi"
      },
      "outputs": [],
      "source": [
        "optimizer = keras.optimizers.Adam(learning_rate=params['LEARNING_RATE']) \n",
        "loss = keras.losses.CategoricalCrossentropy(from_logits=False)\n",
        "\n",
        "model.compile(optimizer=optimizer,\n",
        "              loss=loss,\n",
        "              metrics=[\"accuracy\"]\n",
        "              )"
      ]
    },
    {
      "cell_type": "markdown",
      "metadata": {
        "id": "Q9z-3qxdzj6v"
      },
      "source": [
        "#### Train Model"
      ]
    },
    {
      "cell_type": "code",
      "execution_count": 54,
      "metadata": {
        "id": "3RHgQraZ4itO"
      },
      "outputs": [],
      "source": [
        "# early stopping \n",
        "early_stopping = EarlyStopping(\n",
        "    monitor='val_loss', \n",
        "    mode='min',\n",
        "    restore_best_weights=True,\n",
        "    patience=7, \n",
        "    verbose=1\n",
        ")\n",
        "\n",
        "# check point - save best model\n",
        "check_point = ModelCheckpoint(filepath='../model/resnet50_best_1.hdf5',\n",
        "                                          monitor='val_loss',\n",
        "                                          mode='min',\n",
        "                                          save_best_only=True\n",
        "                                          )\n",
        "\n",
        "\n",
        "# learning rate schedule\n",
        "lr_start = 0.01\n",
        "\n",
        "def exponential_decay(lr0, s):\n",
        "    def exponential_decay_fn(epoch):\n",
        "        return lr0 * 0.1 **(epoch / s)\n",
        "    return exponential_decay_fn\n",
        "\n",
        "exponential_decay_fn = exponential_decay(lr_start, params['EPOCHS'])\n",
        "lr_scheduler = LearningRateScheduler(exponential_decay_fn)"
      ]
    },
    {
      "cell_type": "code",
      "execution_count": 55,
      "metadata": {
        "colab": {
          "base_uri": "https://localhost:8080/"
        },
        "id": "V6qjQp7M4i0E",
        "outputId": "93667730-13b0-48cf-8733-52c69bdf380b"
      },
      "outputs": [
        {
          "output_type": "execute_result",
          "data": {
            "text/plain": [
              "[<tensorflow.python.keras.callbacks.EarlyStopping at 0x7f898d5997c0>,\n",
              " <tensorflow.python.keras.callbacks.ModelCheckpoint at 0x7f898d599640>]"
            ]
          },
          "metadata": {},
          "execution_count": 55
        }
      ],
      "source": [
        "callbacks = [early_stopping]\n",
        "\n",
        "if params['CHECKPOINT']:\n",
        "  callbacks.append(check_point)\n",
        "if params['LEARNING_RATE_DECAY']:\n",
        "  callbacks.append(lr_scheduler)\n",
        "\n",
        "callbacks"
      ]
    },
    {
      "cell_type": "code",
      "execution_count": 56,
      "metadata": {
        "colab": {
          "base_uri": "https://localhost:8080/"
        },
        "id": "O3lZRyeH4i20",
        "outputId": "7e5072fd-56d4-44e8-b2e5-ebfc80de12c6"
      },
      "outputs": [
        {
          "output_type": "stream",
          "name": "stdout",
          "text": [
            "Epoch 1/50\n",
            "806/806 [==============================] - 126s 120ms/step - loss: 1.0981 - accuracy: 0.6679 - val_loss: 0.5901 - val_accuracy: 0.8248\n",
            "Epoch 2/50\n",
            "806/806 [==============================] - 96s 119ms/step - loss: 0.5755 - accuracy: 0.8003 - val_loss: 0.4854 - val_accuracy: 0.8565\n",
            "Epoch 3/50\n",
            "806/806 [==============================] - 97s 119ms/step - loss: 0.4784 - accuracy: 0.8300 - val_loss: 0.3538 - val_accuracy: 0.8862\n",
            "Epoch 4/50\n",
            "806/806 [==============================] - 96s 118ms/step - loss: 0.3891 - accuracy: 0.8600 - val_loss: 0.3770 - val_accuracy: 0.8913\n",
            "Epoch 5/50\n",
            "806/806 [==============================] - 97s 120ms/step - loss: 0.3459 - accuracy: 0.8773 - val_loss: 0.3294 - val_accuracy: 0.8967\n",
            "Epoch 6/50\n",
            "806/806 [==============================] - 96s 119ms/step - loss: 0.3058 - accuracy: 0.8931 - val_loss: 0.2904 - val_accuracy: 0.9185\n",
            "Epoch 7/50\n",
            "806/806 [==============================] - 95s 117ms/step - loss: 0.2715 - accuracy: 0.9039 - val_loss: 0.2959 - val_accuracy: 0.9173\n",
            "Epoch 8/50\n",
            "806/806 [==============================] - 94s 116ms/step - loss: 0.2517 - accuracy: 0.9114 - val_loss: 0.3179 - val_accuracy: 0.9260\n",
            "Epoch 9/50\n",
            "806/806 [==============================] - 97s 120ms/step - loss: 0.2263 - accuracy: 0.9214 - val_loss: 0.2886 - val_accuracy: 0.9236\n",
            "Epoch 10/50\n",
            "806/806 [==============================] - 95s 118ms/step - loss: 0.2098 - accuracy: 0.9247 - val_loss: 0.3117 - val_accuracy: 0.9245\n",
            "Epoch 11/50\n",
            "806/806 [==============================] - 96s 119ms/step - loss: 0.1886 - accuracy: 0.9330 - val_loss: 0.2634 - val_accuracy: 0.9347\n",
            "Epoch 12/50\n",
            "806/806 [==============================] - 96s 119ms/step - loss: 0.1868 - accuracy: 0.9351 - val_loss: 0.2279 - val_accuracy: 0.9449\n",
            "Epoch 13/50\n",
            "806/806 [==============================] - 95s 118ms/step - loss: 0.1687 - accuracy: 0.9407 - val_loss: 0.2366 - val_accuracy: 0.9452\n",
            "Epoch 14/50\n",
            "806/806 [==============================] - 95s 117ms/step - loss: 0.1589 - accuracy: 0.9433 - val_loss: 0.2596 - val_accuracy: 0.9413\n",
            "Epoch 15/50\n",
            "806/806 [==============================] - 95s 118ms/step - loss: 0.1506 - accuracy: 0.9476 - val_loss: 0.2454 - val_accuracy: 0.9434\n",
            "Epoch 16/50\n",
            "806/806 [==============================] - 95s 117ms/step - loss: 0.1333 - accuracy: 0.9521 - val_loss: 0.2440 - val_accuracy: 0.9464\n",
            "Epoch 17/50\n",
            "806/806 [==============================] - 97s 120ms/step - loss: 0.1328 - accuracy: 0.9535 - val_loss: 0.2100 - val_accuracy: 0.9467\n",
            "Epoch 18/50\n",
            "806/806 [==============================] - 95s 118ms/step - loss: 0.1256 - accuracy: 0.9568 - val_loss: 0.2331 - val_accuracy: 0.9497\n",
            "Epoch 19/50\n",
            "806/806 [==============================] - 97s 119ms/step - loss: 0.1163 - accuracy: 0.9594 - val_loss: 0.1996 - val_accuracy: 0.9560\n",
            "Epoch 20/50\n",
            "806/806 [==============================] - 95s 118ms/step - loss: 0.1113 - accuracy: 0.9606 - val_loss: 0.2271 - val_accuracy: 0.9494\n",
            "Epoch 21/50\n",
            "806/806 [==============================] - 95s 118ms/step - loss: 0.1014 - accuracy: 0.9650 - val_loss: 0.2023 - val_accuracy: 0.9548\n",
            "Epoch 22/50\n",
            "806/806 [==============================] - 97s 120ms/step - loss: 0.0981 - accuracy: 0.9663 - val_loss: 0.1901 - val_accuracy: 0.9557\n",
            "Epoch 23/50\n",
            "806/806 [==============================] - 95s 117ms/step - loss: 0.0993 - accuracy: 0.9673 - val_loss: 0.2149 - val_accuracy: 0.9554\n",
            "Epoch 24/50\n",
            "806/806 [==============================] - 94s 117ms/step - loss: 0.0952 - accuracy: 0.9685 - val_loss: 0.2136 - val_accuracy: 0.9533\n",
            "Epoch 25/50\n",
            "806/806 [==============================] - 96s 119ms/step - loss: 0.0904 - accuracy: 0.9679 - val_loss: 0.1851 - val_accuracy: 0.9608\n",
            "Epoch 26/50\n",
            "806/806 [==============================] - 95s 117ms/step - loss: 0.0845 - accuracy: 0.9705 - val_loss: 0.1975 - val_accuracy: 0.9605\n",
            "Epoch 27/50\n",
            "806/806 [==============================] - 95s 118ms/step - loss: 0.0833 - accuracy: 0.9704 - val_loss: 0.1960 - val_accuracy: 0.9638\n",
            "Epoch 28/50\n",
            "806/806 [==============================] - 98s 121ms/step - loss: 0.0792 - accuracy: 0.9716 - val_loss: 0.1680 - val_accuracy: 0.9659\n",
            "Epoch 29/50\n",
            "806/806 [==============================] - 95s 118ms/step - loss: 0.0752 - accuracy: 0.9745 - val_loss: 0.1875 - val_accuracy: 0.9674\n",
            "Epoch 30/50\n",
            "806/806 [==============================] - 95s 117ms/step - loss: 0.0763 - accuracy: 0.9743 - val_loss: 0.2421 - val_accuracy: 0.9608\n",
            "Epoch 31/50\n",
            "806/806 [==============================] - 95s 117ms/step - loss: 0.0688 - accuracy: 0.9770 - val_loss: 0.2061 - val_accuracy: 0.9608\n",
            "Epoch 32/50\n",
            "806/806 [==============================] - 95s 117ms/step - loss: 0.0731 - accuracy: 0.9757 - val_loss: 0.2048 - val_accuracy: 0.9647\n",
            "Epoch 33/50\n",
            "806/806 [==============================] - 95s 118ms/step - loss: 0.0595 - accuracy: 0.9787 - val_loss: 0.2587 - val_accuracy: 0.9575\n",
            "Epoch 34/50\n",
            "806/806 [==============================] - 96s 119ms/step - loss: 0.0665 - accuracy: 0.9782 - val_loss: 0.1969 - val_accuracy: 0.9656\n",
            "Epoch 35/50\n",
            "806/806 [==============================] - ETA: 0s - loss: 0.0584 - accuracy: 0.9801Restoring model weights from the end of the best epoch.\n",
            "806/806 [==============================] - 96s 118ms/step - loss: 0.0584 - accuracy: 0.9801 - val_loss: 0.2314 - val_accuracy: 0.9650\n",
            "Epoch 00035: early stopping\n"
          ]
        }
      ],
      "source": [
        "history = model.fit(\n",
        "    train_ds,\n",
        "    validation_data = valid_ds,\n",
        "    epochs = params['EPOCHS'],\n",
        "    callbacks = callbacks\n",
        ")"
      ]
    },
    {
      "cell_type": "code",
      "execution_count": 57,
      "metadata": {
        "colab": {
          "base_uri": "https://localhost:8080/",
          "height": 526
        },
        "id": "jHin6AX14i5n",
        "outputId": "a4aefdbe-f81c-4d27-9faa-8e4b11d863d4"
      },
      "outputs": [
        {
          "output_type": "display_data",
          "data": {
            "text/plain": [
              "<Figure size 1440x576 with 2 Axes>"
            ],
            "image/png": "[encoded data removed]"
          },
          "metadata": {}
        }
      ],
      "source": [
        "plot_training(history)"
      ]
    },
    {
      "cell_type": "code",
      "execution_count": 58,
      "metadata": {
        "colab": {
          "base_uri": "https://localhost:8080/"
        },
        "id": "gC5lnJue7IuC",
        "outputId": "c986fe32-acb9-490b-af7b-36462f2ea091"
      },
      "outputs": [
        {
          "output_type": "stream",
          "name": "stdout",
          "text": [
            "105/105 [==============================] - 3s 28ms/step - loss: 0.1659 - accuracy: 0.9643\n",
            "test loss: 0.16590461134910583 and test accuracy: 0.9643499255180359\n"
          ]
        }
      ],
      "source": [
        "test_loss, test_accuracy = model.evaluate(test_ds)\n",
        "\n",
        "print(\"test loss: {} and test accuracy: {}\".format(test_loss, test_accuracy))"
      ]
    },
    {
      "cell_type": "code",
      "execution_count": 59,
      "metadata": {
        "colab": {
          "base_uri": "https://localhost:8080/"
        },
        "id": "rR1-3zik7Iws",
        "outputId": "f803db98-d38f-4992-9f7c-d18d77677327"
      },
      "outputs": [
        {
          "output_type": "stream",
          "name": "stdout",
          "text": [
            "806/806 [==============================] - 89s 108ms/step - loss: 0.0159 - accuracy: 0.9941\n",
            "105/105 [==============================] - 3s 28ms/step - loss: 0.1680 - accuracy: 0.9659\n",
            "training loss: 0.01593056321144104 and training accuracy: 0.9941055774688721\n",
            "validation loss: 0.16795438528060913 and validation accuracy: 0.9658580422401428\n"
          ]
        }
      ],
      "source": [
        "train_loss, train_accuracy = model.evaluate(train_ds)\n",
        "valid_loss, valid_accuracy = model.evaluate(valid_ds)\n",
        "\n",
        "print(\"training loss: {} and training accuracy: {}\".format(train_loss, train_accuracy))\n",
        "print(\"validation loss: {} and validation accuracy: {}\".format(valid_loss, valid_accuracy))"
      ]
    },
    {
      "cell_type": "code",
      "execution_count": 60,
      "metadata": {
        "colab": {
          "base_uri": "https://localhost:8080/"
        },
        "id": "HjsBSr_s7IzW",
        "outputId": "5cbc4f79-7425-4688-aaa1-33e884febe61"
      },
      "outputs": [
        {
          "output_type": "stream",
          "name": "stdout",
          "text": [
            "1/1 [==============================] - 1s 1s/step\n",
            "1/1 [==============================] - 0s 40ms/step\n",
            "1/1 [==============================] - 0s 42ms/step\n",
            "1/1 [==============================] - 0s 41ms/step\n",
            "1/1 [==============================] - 0s 43ms/step\n",
            "1/1 [==============================] - 0s 41ms/step\n",
            "1/1 [==============================] - 0s 43ms/step\n",
            "1/1 [==============================] - 0s 40ms/step\n",
            "1/1 [==============================] - 0s 41ms/step\n",
            "1/1 [==============================] - 0s 43ms/step\n",
            "1/1 [==============================] - 0s 40ms/step\n",
            "1/1 [==============================] - 0s 41ms/step\n",
            "1/1 [==============================] - 0s 43ms/step\n",
            "1/1 [==============================] - 0s 40ms/step\n",
            "1/1 [==============================] - 0s 40ms/step\n",
            "1/1 [==============================] - 0s 40ms/step\n",
            "1/1 [==============================] - 0s 40ms/step\n",
            "1/1 [==============================] - 0s 43ms/step\n",
            "1/1 [==============================] - 0s 41ms/step\n",
            "1/1 [==============================] - 0s 41ms/step\n",
            "1/1 [==============================] - 0s 40ms/step\n",
            "1/1 [==============================] - 0s 41ms/step\n",
            "1/1 [==============================] - 0s 40ms/step\n",
            "1/1 [==============================] - 0s 42ms/step\n",
            "1/1 [==============================] - 0s 40ms/step\n",
            "1/1 [==============================] - 0s 40ms/step\n",
            "1/1 [==============================] - 0s 41ms/step\n",
            "1/1 [==============================] - 0s 43ms/step\n",
            "1/1 [==============================] - 0s 42ms/step\n",
            "1/1 [==============================] - 0s 41ms/step\n",
            "1/1 [==============================] - 0s 40ms/step\n",
            "1/1 [==============================] - 0s 43ms/step\n",
            "1/1 [==============================] - 0s 39ms/step\n",
            "1/1 [==============================] - 0s 43ms/step\n",
            "1/1 [==============================] - 0s 42ms/step\n",
            "1/1 [==============================] - 0s 40ms/step\n",
            "1/1 [==============================] - 0s 43ms/step\n",
            "1/1 [==============================] - 0s 40ms/step\n",
            "1/1 [==============================] - 0s 40ms/step\n",
            "1/1 [==============================] - 0s 41ms/step\n",
            "1/1 [==============================] - 0s 40ms/step\n",
            "1/1 [==============================] - 0s 41ms/step\n",
            "1/1 [==============================] - 0s 41ms/step\n",
            "1/1 [==============================] - 0s 41ms/step\n",
            "1/1 [==============================] - 0s 40ms/step\n",
            "1/1 [==============================] - 0s 41ms/step\n",
            "1/1 [==============================] - 0s 42ms/step\n",
            "1/1 [==============================] - 0s 41ms/step\n",
            "1/1 [==============================] - 0s 40ms/step\n",
            "1/1 [==============================] - 0s 46ms/step\n",
            "1/1 [==============================] - 0s 40ms/step\n",
            "1/1 [==============================] - 0s 45ms/step\n",
            "1/1 [==============================] - 0s 40ms/step\n",
            "1/1 [==============================] - 0s 44ms/step\n",
            "1/1 [==============================] - 0s 41ms/step\n",
            "1/1 [==============================] - 0s 40ms/step\n",
            "1/1 [==============================] - 0s 40ms/step\n",
            "1/1 [==============================] - 0s 40ms/step\n",
            "1/1 [==============================] - 0s 40ms/step\n",
            "1/1 [==============================] - 0s 39ms/step\n",
            "1/1 [==============================] - 0s 40ms/step\n",
            "1/1 [==============================] - 0s 39ms/step\n",
            "1/1 [==============================] - 0s 39ms/step\n",
            "1/1 [==============================] - 0s 53ms/step\n",
            "1/1 [==============================] - 0s 42ms/step\n",
            "1/1 [==============================] - 0s 42ms/step\n",
            "1/1 [==============================] - 0s 40ms/step\n",
            "1/1 [==============================] - 0s 42ms/step\n",
            "1/1 [==============================] - 0s 41ms/step\n",
            "1/1 [==============================] - 0s 40ms/step\n",
            "1/1 [==============================] - 0s 39ms/step\n",
            "1/1 [==============================] - 0s 39ms/step\n",
            "1/1 [==============================] - 0s 39ms/step\n",
            "1/1 [==============================] - 0s 41ms/step\n",
            "1/1 [==============================] - 0s 41ms/step\n",
            "1/1 [==============================] - 0s 40ms/step\n",
            "1/1 [==============================] - 0s 40ms/step\n",
            "1/1 [==============================] - 0s 41ms/step\n",
            "1/1 [==============================] - 0s 39ms/step\n",
            "1/1 [==============================] - 0s 40ms/step\n",
            "1/1 [==============================] - 0s 40ms/step\n",
            "1/1 [==============================] - 0s 40ms/step\n",
            "1/1 [==============================] - 0s 47ms/step\n",
            "1/1 [==============================] - 0s 42ms/step\n",
            "1/1 [==============================] - 0s 40ms/step\n",
            "1/1 [==============================] - 0s 41ms/step\n",
            "1/1 [==============================] - 0s 39ms/step\n",
            "1/1 [==============================] - 0s 41ms/step\n",
            "1/1 [==============================] - 0s 40ms/step\n",
            "1/1 [==============================] - 0s 42ms/step\n",
            "1/1 [==============================] - 0s 41ms/step\n",
            "1/1 [==============================] - 0s 41ms/step\n",
            "1/1 [==============================] - 0s 39ms/step\n",
            "1/1 [==============================] - 0s 41ms/step\n",
            "1/1 [==============================] - 0s 39ms/step\n",
            "1/1 [==============================] - 0s 39ms/step\n",
            "1/1 [==============================] - 0s 39ms/step\n",
            "1/1 [==============================] - 0s 38ms/step\n",
            "1/1 [==============================] - 0s 38ms/step\n",
            "1/1 [==============================] - 0s 39ms/step\n",
            "1/1 [==============================] - 0s 39ms/step\n",
            "1/1 [==============================] - 0s 40ms/step\n",
            "1/1 [==============================] - 0s 39ms/step\n",
            "1/1 [==============================] - 0s 39ms/step\n",
            "1/1 [==============================] - 1s 955ms/step\n"
          ]
        }
      ],
      "source": [
        "y_true = np.array([])\n",
        "y_pred = np.array([])\n",
        "for x, y in test_ds:\n",
        "    y_true = np.concatenate([y_true, np.argmax(y, axis=-1)], axis=0)\n",
        "    y_pred = np.concatenate([y_pred, np.argmax(model.predict(x), axis=-1)], axis=0)"
      ]
    },
    {
      "cell_type": "code",
      "execution_count": 61,
      "metadata": {
        "colab": {
          "base_uri": "https://localhost:8080/",
          "height": 928
        },
        "id": "ZvY-XFEW7I2B",
        "outputId": "01f1707b-19cf-4b94-8767-f3c1147f1978"
      },
      "outputs": [
        {
          "output_type": "display_data",
          "data": {
            "text/plain": [
              "<Figure size 1008x1008 with 2 Axes>"
            ],
            "image/png": "[encoded data removed]"
          },
          "metadata": {}
        }
      ],
      "source": [
        "cf = confusion_matrix(y_true, y_pred)\n",
        "make_confusion_matrix(cf, CLASS_NAMES ,figsize=(14,14))"
      ]
    },
    {
      "cell_type": "code",
      "execution_count": null,
      "metadata": {
        "id": "GLVSVxfQ7JA5"
      },
      "outputs": [],
      "source": []
    },
    {
      "cell_type": "code",
      "execution_count": null,
      "metadata": {
        "id": "YrdKPjon-vMq"
      },
      "outputs": [],
      "source": []
    }
  ],
  "metadata": {
    "accelerator": "GPU",
    "colab": {
      "provenance": []
    },
    "gpuClass": "premium",
    "kernelspec": {
      "display_name": "Python 3",
      "name": "python3"
    },
    "language_info": {
      "name": "python"
    }
  },
  "nbformat": 4,
  "nbformat_minor": 0
}