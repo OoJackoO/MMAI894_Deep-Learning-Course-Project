{
  "nbformat": 4,
  "nbformat_minor": 0,
  "metadata": {
    "colab": {
      "provenance": [],
      "authorship_tag": "ABX9TyP1R2Xw9bWU7Nqm8rV6Ps9V",
      "include_colab_link": true
    },
    "kernelspec": {
      "name": "python3",
      "display_name": "Python 3"
    },
    "language_info": {
      "name": "python"
    }
  },
  "cells": [
    {
      "cell_type": "markdown",
      "metadata": {
        "id": "view-in-github",
        "colab_type": "text"
      },
      "source": [
        "<a href=\"https://colab.research.google.com/github/OoJackoO/MMAI894_Deep-Learning-Course-Project/blob/Nancy_notebook/Data_Input.ipynb\" target=\"_parent\"><img src=\"https://colab.research.google.com/assets/colab-badge.svg\" alt=\"Open In Colab\"/></a>"
      ]
    },
    {
      "cell_type": "code",
      "execution_count": null,
      "metadata": {
        "colab": {
          "base_uri": "https://localhost:8080/"
        },
        "id": "lSYwAaZGnp9M",
        "outputId": "664ad0c8-87d9-472d-bc03-51e88499155c"
      },
      "outputs": [
        {
          "output_type": "stream",
          "name": "stdout",
          "text": [
            "Mounted at /content/drive/\n"
          ]
        }
      ],
      "source": [
        "from google.colab import drive\n",
        "drive.mount('/content/drive/')"
      ]
    },
    {
      "cell_type": "code",
      "source": [
        "%cd /content/drive/MyDrive/MMAI_valid/  "
      ],
      "metadata": {
        "colab": {
          "base_uri": "https://localhost:8080/"
        },
        "id": "0Hv0QKX1oSV0",
        "outputId": "f472dae6-c05b-4faa-9002-2a626ee78d2f"
      },
      "execution_count": null,
      "outputs": [
        {
          "output_type": "stream",
          "name": "stdout",
          "text": [
            "/content/drive/MyDrive/MMAI_valid\n"
          ]
        }
      ]
    },
    {
      "cell_type": "code",
      "source": [
        "%cd /content/drive/MyDrive/MMAI_Train/  "
      ],
      "metadata": {
        "colab": {
          "base_uri": "https://localhost:8080/"
        },
        "id": "0_lPFKU-s6n4",
        "outputId": "cc03fee0-bfdc-4cee-f681-0324d9e67999"
      },
      "execution_count": null,
      "outputs": [
        {
          "output_type": "stream",
          "name": "stdout",
          "text": [
            "/content/drive/MyDrive/MMAI_Train\n"
          ]
        }
      ]
    },
    {
      "cell_type": "code",
      "source": [
        "!unzip '/content/drive/MyDrive/MMAI_Train/train.zip' -d '/content/drive/MyDrive/MMAI_Train'\n",
        "!unzip '/content/drive/MyDrive/MMAR_valid/valid.zip' -d '/content/drive/MyDrive/MMAI_valid'"
      ],
      "metadata": {
        "id": "c3yJ6kGAtMQl"
      },
      "execution_count": null,
      "outputs": []
    },
    {
      "cell_type": "code",
      "source": [
        "!unzip '/content/drive/MyDrive/MMAI_valid/valid.zip' -d '/content/drive/MyDrive/MMAI_valid'"
      ],
      "metadata": {
        "id": "que2wVCFvM3i"
      },
      "execution_count": null,
      "outputs": []
    },
    {
      "cell_type": "code",
      "source": [
        "import tensorflow as tf\n",
        "from tensorflow.keras.preprocessing.image import ImageDataGenerator"
      ],
      "metadata": {
        "id": "08eVPN5Tsg81"
      },
      "execution_count": null,
      "outputs": []
    },
    {
      "cell_type": "code",
      "source": [
        "train_datagen = ImageDataGenerator(rescale=1./255)\n",
        "train_generator = train_datagen.flow_from_directory('/content/drive/MyDrive/MMAI_Train/',\n",
        "                                                    target_size=(224, 224),\n",
        "                                                    batch_size=32,\n",
        "                                                    class_mode='categorical')\n",
        "\n",
        "valid_datagen = ImageDataGenerator(rescale=1./255)\n",
        "valid_generator = valid_datagen.flow_from_directory('/content/drive/MyDrive/MMAI_valid/',\n",
        "                                                    target_size=(224, 224),\n",
        "                                                    batch_size=32,\n",
        "                                                    class_mode='categorical')"
      ],
      "metadata": {
        "colab": {
          "base_uri": "https://localhost:8080/"
        },
        "id": "jnW-JEEppkv_",
        "outputId": "ee81c1dc-fa5a-4dc3-df6d-821ef5810b19"
      },
      "execution_count": null,
      "outputs": [
        {
          "output_type": "stream",
          "name": "stdout",
          "text": [
            "Found 25851 images belonging to 11 classes.\n",
            "Found 6684 images belonging to 11 classes.\n"
          ]
        }
      ]
    },
    {
      "cell_type": "code",
      "source": [
        " import os\n",
        "\n",
        "# Path to the directory containing the classes\n",
        "path_to_dir_train = \"/content/drive/MyDrive/MMAI_Train/\"\n",
        "path_to_dir_valid = \"/content/drive/MyDrive/MMAI_valid/\"\n",
        "\n",
        "# Get the list of classes\n",
        "classes1 = os.listdir(path_to_dir_train)\n",
        "classes2 = os.listdir(path_to_dir_valid)\n",
        "\n",
        "# Print the classes\n",
        "print(classes1)\n",
        "print(classes2)"
      ],
      "metadata": {
        "colab": {
          "base_uri": "https://localhost:8080/"
        },
        "id": "lghWI8kyw3Zo",
        "outputId": "c2461fa3-7f5e-4aa1-f9d3-55ccbc29b23f"
      },
      "execution_count": null,
      "outputs": [
        {
          "output_type": "stream",
          "name": "stdout",
          "text": [
            "['train.zip', 'Bacterial_spot', 'Early_blight', 'Late_blight', 'Leaf_Mold', 'Septoria_leaf_spot', 'Spider_mites Two-spotted_spider_mite', 'Target_Spot', 'Tomato_Yellow_Leaf_Curl_Virus', 'Tomato_mosaic_virus', 'healthy', 'powdery_mildew']\n",
            "['valid.zip', 'Bacterial_spot', 'Early_blight', 'Late_blight', 'Leaf_Mold', 'Septoria_leaf_spot', 'Spider_mites Two-spotted_spider_mite', 'Target_Spot', 'Tomato_Yellow_Leaf_Curl_Virus', 'Tomato_mosaic_virus', 'healthy', 'powdery_mildew']\n"
          ]
        }
      ]
    },
    {
      "cell_type": "code",
      "source": [
        "import os\n",
        "import glob\n",
        "\n",
        "# specify the root directory\n",
        "root_dir = '/content/drive/MyDrive/MMAI_Train/'\n",
        "\n",
        "# iterate over the subdirectories\n",
        "for subdir in os.listdir(root_dir):\n",
        "    subdir_path = os.path.join(root_dir, subdir)\n",
        "    if os.path.isdir(subdir_path):\n",
        "        # get the image file types in the subdirectory\n",
        "        image_types = list(set([os.path.splitext(filename)[1] for filename in glob.glob(subdir_path + '/*') if os.path.isfile(filename)]))\n",
        "        print(f'Subdirectory {subdir} contains images of types {image_types}')\n"
      ],
      "metadata": {
        "colab": {
          "base_uri": "https://localhost:8080/"
        },
        "id": "kcCjz1AOvDk_",
        "outputId": "fa82f46f-f376-445f-f8d8-44c6c9b277f5"
      },
      "execution_count": null,
      "outputs": [
        {
          "output_type": "stream",
          "name": "stdout",
          "text": [
            "Subdirectory Bacterial_spot contains images of types ['.JPG', '.jpg']\n",
            "Subdirectory Early_blight contains images of types ['.JPG', '.jpeg', '.jpg']\n",
            "Subdirectory Late_blight contains images of types ['.png', '.JPG', '.jpg']\n",
            "Subdirectory Leaf_Mold contains images of types ['.JPG', '.jpg']\n",
            "Subdirectory Septoria_leaf_spot contains images of types ['.JPG', '.jpeg', '.jpg']\n",
            "Subdirectory Spider_mites Two-spotted_spider_mite contains images of types ['.JPG', '.jpg']\n",
            "Subdirectory Target_Spot contains images of types ['.JPG']\n",
            "Subdirectory Tomato_Yellow_Leaf_Curl_Virus contains images of types ['.JPG', '.jpg']\n",
            "Subdirectory Tomato_mosaic_virus contains images of types ['.png', '.JPG', '.jpg']\n",
            "Subdirectory healthy contains images of types ['.png', '.JPG', '.jpg']\n",
            "Subdirectory powdery_mildew contains images of types ['.jpg', '.JPG']\n"
          ]
        }
      ]
    },
    {
      "cell_type": "code",
      "source": [
        "import os\n",
        "import glob\n",
        "\n",
        "# specify the root directory\n",
        "root_dir = '/content/drive/MyDrive/MMAI_valid/'\n",
        "\n",
        "# iterate over the subdirectories\n",
        "for subdir in os.listdir(root_dir):\n",
        "    subdir_path = os.path.join(root_dir, subdir)\n",
        "    if os.path.isdir(subdir_path):\n",
        "        # get the image file types in the subdirectory\n",
        "        image_types = list(set([os.path.splitext(filename)[1] for filename in glob.glob(subdir_path + '/*') if os.path.isfile(filename)]))\n",
        "        print(f'Subdirectory {subdir} contains images of types {image_types}')"
      ],
      "metadata": {
        "id": "OiZLgbOt0Qq0"
      },
      "execution_count": null,
      "outputs": []
    },
    {
      "cell_type": "code",
      "source": [],
      "metadata": {
        "id": "Pjk28ftn2pXb"
      },
      "execution_count": null,
      "outputs": []
    }
  ]
}