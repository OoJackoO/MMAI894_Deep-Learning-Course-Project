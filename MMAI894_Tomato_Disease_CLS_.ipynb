{
  "nbformat": 4,
  "nbformat_minor": 0,
  "metadata": {
    "colab": {
      "provenance": [],
      "machine_shape": "hm",
      "mount_file_id": "14wjkwrpLbg2ttoFqXGJJAU3YGNmX5ttN",
      "authorship_tag": "ABX9TyNjFo+fE3i/qKwNyWlfrL3Q",
      "include_colab_link": true
    },
    "kernelspec": {
      "name": "python3",
      "display_name": "Python 3"
    },
    "language_info": {
      "name": "python"
    },
    "accelerator": "GPU",
    "gpuClass": "standard"
  },
  "cells": [
    {
      "cell_type": "markdown",
      "metadata": {
        "id": "view-in-github",
        "colab_type": "text"
      },
      "source": [
        "<a href=\"https://colab.research.google.com/github/OoJackoO/MMAI894_Deep-Learning-Course-Project/blob/Amir-Notebook/MMAI894_Tomato_Disease_CLS_.ipynb\" target=\"_parent\"><img src=\"https://colab.research.google.com/assets/colab-badge.svg\" alt=\"Open In Colab\"/></a>"
      ]
    },
    {
      "cell_type": "markdown",
      "source": [
        "# Downloading & Loading the Dataset"
      ],
      "metadata": {
        "id": "IUAQ4aubCBAt"
      }
    },
    {
      "cell_type": "code",
      "execution_count": null,
      "metadata": {
        "id": "huUQr-u5TjX7"
      },
      "outputs": [],
      "source": [
        "# !pip install -q kaggle\n",
        "# ! mkdir ~/content/drive/My Drive/Colab Notebooks/MMAI 894\n",
        "# ! cp kaggle.json ~/content/drive/My Drive/Colab Notebooks/MMAI 894/\n",
        "# ! chmod 600 ~/kaggle/kaggle.json"
      ]
    },
    {
      "cell_type": "code",
      "source": [
        "# from google.colab import drive\n",
        "# drive.mount('/gdrive')"
      ],
      "metadata": {
        "id": "jYk09u_GOBvV"
      },
      "execution_count": null,
      "outputs": []
    },
    {
      "cell_type": "code",
      "source": [
        "# Set the directory to where you want to have your dataset & jason authentication file\n",
        "# import os\n",
        "# os.environ['KAGGLE_CONFIG_DIR'] = \"/content/drive/My Drive/Colab Notebooks/MMAI 894/Dataset\"\n",
        "# %cd /content/drive/My Drive/Colab Notebooks/MMAI 894/Dataset/"
      ],
      "metadata": {
        "id": "vab1_pq12dls"
      },
      "execution_count": null,
      "outputs": []
    },
    {
      "cell_type": "code",
      "source": [
        "# from kaggle.api.kaggle_api_extended import KaggleApi\n",
        "# import zipfile"
      ],
      "metadata": {
        "id": "wRkviHwaz4X2"
      },
      "execution_count": null,
      "outputs": []
    },
    {
      "cell_type": "code",
      "source": [
        "# # this will prompt you to upload the kaggle.json\n",
        "# from google.colab import files\n",
        "\n",
        "# files.upload() "
      ],
      "metadata": {
        "id": "E5xsEk5c6n6A"
      },
      "execution_count": null,
      "outputs": []
    },
    {
      "cell_type": "code",
      "source": [
        "# # Check if your jason file is there and authentication is successful\n",
        "# api = KaggleApi()\n",
        "# api.authenticate()\n",
        "# !ls -lha kaggle.json"
      ],
      "metadata": {
        "id": "r1qTUG5p6a-g"
      },
      "execution_count": null,
      "outputs": []
    },
    {
      "cell_type": "code",
      "source": [
        "# # ! kaggle competitions download google-smartphone-decimeter-challenge\n",
        "# !kaggle datasets download -d cookiefinder/tomato-disease-multiple-sources\n",
        "# with zipfile.ZipFile('tomato-disease-multiple-sources.zip', 'r') as zip_ref:\n",
        "#         zip_ref.extractall('./')"
      ],
      "metadata": {
        "id": "X1oTWsRp2qHf"
      },
      "execution_count": null,
      "outputs": []
    },
    {
      "cell_type": "markdown",
      "source": [
        "# Tomato Leaf Disease"
      ],
      "metadata": {
        "id": "g5aOVPfnEP3p"
      }
    },
    {
      "cell_type": "code",
      "source": [
        "import os\n",
        "import numpy as np\n",
        "import pandas as pd\n",
        "\n",
        "import tensorflow as tf\n",
        "import matplotlib.pyplot as plt\n",
        "import matplotlib.image as img\n",
        "import seaborn as sns\n",
        "import glob\n",
        "import cv2\n",
        "\n",
        "from skimage.io import imread\n",
        "from skimage.transform import resize\n",
        "import random\n",
        "\n",
        "from sklearn.model_selection import train_test_split\n",
        "from tensorflow.keras.preprocessing.image import ImageDataGenerator\n",
        "\n",
        "import warnings\n",
        "warnings.filterwarnings('ignore')\n",
        "\n",
        "import zipfile\n",
        "from google.colab import drive\n",
        "from PIL import ImageFile"
      ],
      "metadata": {
        "id": "1z7McUjE9XhX"
      },
      "execution_count": 2,
      "outputs": []
    },
    {
      "cell_type": "code",
      "source": [
        "# Mount Google Drive\n",
        "drive.mount('/content/drive')\n",
        "\n",
        "# Set the directory to your specific folder in Google Drive\n",
        "folder_path = \"/content/drive/My Drive/Colab Notebooks/MMAI 894/Dataset/\"\n",
        "\n",
        "# Check if the directory exists and print the list of files and folders inside it\n",
        "if os.path.exists(folder_path):\n",
        "    files = os.listdir(folder_path)\n",
        "    print(files)\n",
        "else:\n",
        "    print(\"Directory does not exist.\")\n",
        "\n",
        "root_dir = \"/content/drive/My Drive/\" \n",
        "# choose where you want your project files to be saved\n",
        "project_folder = \"Colab Notebooks/MMAI 894/Dataset/\"\n",
        "os.chdir(root_dir + project_folder)"
      ],
      "metadata": {
        "colab": {
          "base_uri": "https://localhost:8080/"
        },
        "id": "AqxH1ym3fuiw",
        "outputId": "601835ca-7784-4ca2-b98d-91bfcc21770e"
      },
      "execution_count": 3,
      "outputs": [
        {
          "output_type": "stream",
          "name": "stdout",
          "text": [
            "Mounted at /content/drive\n",
            "['kaggle.json', 'tomato-disease-multiple-sources.zip', 'new_file_in_working_directory.txt', 'train', 'valid']\n"
          ]
        }
      ]
    },
    {
      "cell_type": "code",
      "source": [
        "!pwd"
      ],
      "metadata": {
        "colab": {
          "base_uri": "https://localhost:8080/"
        },
        "id": "HlxUiPzph8xS",
        "outputId": "f595e10d-c4ac-4e94-e31d-1e3d746e09ce"
      },
      "execution_count": 4,
      "outputs": [
        {
          "output_type": "stream",
          "name": "stdout",
          "text": [
            "/content/drive/My Drive/Colab Notebooks/MMAI 894/Dataset\n"
          ]
        }
      ]
    },
    {
      "cell_type": "code",
      "source": [
        "main_dir = os.getcwd()\n",
        "train_dir = os.path.join(main_dir, 'train')\n",
        "val_dir = os.path.join(main_dir, 'valid')"
      ],
      "metadata": {
        "id": "7I6a7weA2Cl6"
      },
      "execution_count": 5,
      "outputs": []
    },
    {
      "cell_type": "code",
      "source": [
        "# This function returns the image location with its label\n",
        "def define_paths(dir):\n",
        "    filepaths = []\n",
        "    labels = []\n",
        "    disease_names = os.listdir(dir)\n",
        "    # iterate through each folder of disease\n",
        "    for disease in disease_names:\n",
        "        disease_path = os.path.join(dir, disease)\n",
        "        filelist = os.listdir(disease_path) # list of all images in each disease folder\n",
        "        #iterate through the folders and save the path and label from folder name\n",
        "        for file in filelist:\n",
        "            fpath = os.path.join(disease_path, file)\n",
        "            filepaths.append(fpath)\n",
        "            labels.append(disease)\n",
        "    return filepaths, labels"
      ],
      "metadata": {
        "id": "sWbRqYxHKyDR"
      },
      "execution_count": 6,
      "outputs": []
    },
    {
      "cell_type": "code",
      "source": [
        "os.path.join(train_dir, 'Bacterial_spot')"
      ],
      "metadata": {
        "colab": {
          "base_uri": "https://localhost:8080/",
          "height": 35
        },
        "id": "ZGmBmU0JMU9I",
        "outputId": "62e54ff0-d4b8-4665-f494-ea75a4d45612"
      },
      "execution_count": 31,
      "outputs": [
        {
          "output_type": "execute_result",
          "data": {
            "text/plain": [
              "'/content/drive/My Drive/Colab Notebooks/MMAI 894/Dataset/train/Bacterial_spot'"
            ],
            "application/vnd.google.colaboratory.intrinsic+json": {
              "type": "string"
            }
          },
          "metadata": {},
          "execution_count": 31
        }
      ]
    },
    {
      "cell_type": "code",
      "source": [
        "a = define_paths(train_dir)"
      ],
      "metadata": {
        "id": "Znv3uoWfevke"
      },
      "execution_count": 9,
      "outputs": []
    },
    {
      "cell_type": "code",
      "source": [
        "a[0][2]"
      ],
      "metadata": {
        "colab": {
          "base_uri": "https://localhost:8080/",
          "height": 35
        },
        "id": "dkhhq8hFfEv0",
        "outputId": "3e396613-c1a1-4e6e-ea53-7ade8be4d940"
      },
      "execution_count": 32,
      "outputs": [
        {
          "output_type": "execute_result",
          "data": {
            "text/plain": [
              "'/content/drive/My Drive/Colab Notebooks/MMAI 894/Dataset/train/Bacterial_spot/Bs69_change_90.jpg'"
            ],
            "application/vnd.google.colaboratory.intrinsic+json": {
              "type": "string"
            }
          },
          "metadata": {},
          "execution_count": 32
        }
      ]
    },
    {
      "cell_type": "code",
      "source": [
        "# Number of images in \"Bacterial_spot\"\n",
        "len(os.listdir(os.path.join(train_dir, 'Bacterial_spot')))"
      ],
      "metadata": {
        "colab": {
          "base_uri": "https://localhost:8080/"
        },
        "id": "BIZzS_-1MeNZ",
        "outputId": "fd0bc0bd-23c7-4b35-feb7-d5a7dc2692eb"
      },
      "execution_count": 33,
      "outputs": [
        {
          "output_type": "execute_result",
          "data": {
            "text/plain": [
              "2826"
            ]
          },
          "metadata": {},
          "execution_count": 33
        }
      ]
    },
    {
      "cell_type": "code",
      "source": [
        "#puts the path and lables into one dataframe \n",
        "def define_df(filepaths, labels):\n",
        "    File_path = pd.Series(filepaths, name= 'filepaths')\n",
        "    Label_name = pd.Series(labels, name='labels')\n",
        "    return pd.concat([File_path, Label_name], axis= 1)"
      ],
      "metadata": {
        "id": "pBt5sq5fKz_5"
      },
      "execution_count": 39,
      "outputs": []
    },
    {
      "cell_type": "code",
      "source": [
        "def create_df(train_dir, val_dir):\n",
        "    # train dataframe\n",
        "    filepaths, labels = define_paths(train_dir)\n",
        "    train_df = define_df(filepaths, labels)\n",
        "    \n",
        "    # valid and test dataframe, we divide the valid dataset into test and validatio with 50% split\n",
        "    filepaths, labels = define_paths(val_dir)\n",
        "    dummy_df = define_df(filepaths, labels)\n",
        "    strat = dummy_df['labels']\n",
        "    valid_df, test_df = train_test_split(dummy_df,  train_size= 0.5, shuffle= True, random_state= 24, stratify= strat)\n",
        "    return train_df, valid_df, test_df"
      ],
      "metadata": {
        "id": "SOJmPHASK1ei"
      },
      "execution_count": 67,
      "outputs": []
    },
    {
      "cell_type": "code",
      "source": [
        "def create_gens(train_df, valid_df, test_df, batch_size):\n",
        "    img_size = (224, 224)\n",
        "    channels = 3\n",
        "    img_shape = (img_size[0], img_size[1], channels)\n",
        "    ts_length = len(test_df)\n",
        "    test_batch_size = test_batch_size = max(sorted([ts_length // n for n in range(1, ts_length + 1) if ts_length%n == 0 and ts_length/n <= 80]))\n",
        "    test_steps = ts_length // test_batch_size\n",
        "    def scalar(img):\n",
        "        return img\n",
        "    tr_gen = ImageDataGenerator(preprocessing_function= scalar, horizontal_flip= True)\n",
        "    ts_gen = ImageDataGenerator(preprocessing_function= scalar)\n",
        "    train_gen = tr_gen.flow_from_dataframe( train_df, x_col= 'filepaths', y_col= 'labels', target_size= img_size, class_mode= 'categorical',\n",
        "                                        color_mode= 'rgb', shuffle= True, batch_size= batch_size)\n",
        "    valid_gen = ts_gen.flow_from_dataframe( valid_df, x_col= 'filepaths', y_col= 'labels', target_size= img_size, class_mode= 'categorical',\n",
        "                                        color_mode= 'rgb', shuffle= True, batch_size= batch_size)\n",
        "    test_gen = ts_gen.flow_from_dataframe( test_df, x_col= 'filepaths', y_col= 'labels', target_size= img_size, class_mode= 'categorical',\n",
        "                                        color_mode= 'rgb', shuffle= False, batch_size= test_batch_size)\n",
        "    return train_gen, valid_gen, test_gen"
      ],
      "metadata": {
        "id": "qBWaw3eQoO8O"
      },
      "execution_count": 68,
      "outputs": []
    },
    {
      "cell_type": "code",
      "source": [
        "def show_images(gen):\n",
        "    g_dict = gen.class_indices\n",
        "    classes = list(g_dict.keys())\n",
        "    images, labels = next(gen)\n",
        "    plt.figure(figsize= (20, 20))\n",
        "    length = len(labels)\n",
        "    sample = min(length, 25)\n",
        "    for i in range(sample):\n",
        "        plt.subplot(5, 5, i + 1)\n",
        "        image = images[i] / 255\n",
        "        plt.imshow(image)\n",
        "        index = np.argmax(labels[i])\n",
        "        class_name = classes[index]\n",
        "        plt.title(class_name, color= 'blue', fontsize= 12)\n",
        "        plt.axis('off')\n",
        "    plt.show()"
      ],
      "metadata": {
        "id": "5Aj8lbPKpHZn"
      },
      "execution_count": 69,
      "outputs": []
    },
    {
      "cell_type": "code",
      "source": [
        "train_df, valid_df, test_df = create_df(train_dir, val_dir)"
      ],
      "metadata": {
        "id": "X5UkyjQtibTw"
      },
      "execution_count": 72,
      "outputs": []
    },
    {
      "cell_type": "code",
      "source": [
        "train_df.labels.value_counts()"
      ],
      "metadata": {
        "colab": {
          "base_uri": "https://localhost:8080/"
        },
        "id": "Z6VxZuZbjEVZ",
        "outputId": "1cae404a-f6cd-4fb4-fdd8-def8c597b983"
      },
      "execution_count": 73,
      "outputs": [
        {
          "output_type": "execute_result",
          "data": {
            "text/plain": [
              "Late_blight                             3113\n",
              "healthy                                 3051\n",
              "Septoria_leaf_spot                      2882\n",
              "Bacterial_spot                          2826\n",
              "Leaf_Mold                               2754\n",
              "Early_blight                            2514\n",
              "Tomato_mosaic_virus                     2153\n",
              "Tomato_Yellow_Leaf_Curl_Virus           2039\n",
              "Target_Spot                             1827\n",
              "Spider_mites Two-spotted_spider_mite    1747\n",
              "powdery_mildew                          1004\n",
              "Name: labels, dtype: int64"
            ]
          },
          "metadata": {},
          "execution_count": 73
        }
      ]
    },
    {
      "cell_type": "code",
      "source": [
        "valid_df.labels.value_counts()"
      ],
      "metadata": {
        "colab": {
          "base_uri": "https://localhost:8080/"
        },
        "id": "1ohxeHdDjR7r",
        "outputId": "b1057af9-66a8-4dc5-a7f3-33bb45075cd7"
      },
      "execution_count": 74,
      "outputs": [
        {
          "output_type": "execute_result",
          "data": {
            "text/plain": [
              "healthy                                 403\n",
              "Late_blight                             396\n",
              "Septoria_leaf_spot                      373\n",
              "Leaf_Mold                               370\n",
              "Bacterial_spot                          366\n",
              "Early_blight                            321\n",
              "Tomato_mosaic_virus                     292\n",
              "Tomato_Yellow_Leaf_Curl_Virus           249\n",
              "Target_Spot                             228\n",
              "Spider_mites Two-spotted_spider_mite    218\n",
              "powdery_mildew                          126\n",
              "Name: labels, dtype: int64"
            ]
          },
          "metadata": {},
          "execution_count": 74
        }
      ]
    },
    {
      "cell_type": "code",
      "source": [
        "test_df.labels.value_counts()"
      ],
      "metadata": {
        "colab": {
          "base_uri": "https://localhost:8080/"
        },
        "id": "qeqo4oA6jXPh",
        "outputId": "dc293f75-11af-4bad-fb8d-8e1dae503489"
      },
      "execution_count": 75,
      "outputs": [
        {
          "output_type": "execute_result",
          "data": {
            "text/plain": [
              "healthy                                 403\n",
              "Late_blight                             396\n",
              "Septoria_leaf_spot                      373\n",
              "Leaf_Mold                               369\n",
              "Bacterial_spot                          366\n",
              "Early_blight                            322\n",
              "Tomato_mosaic_virus                     292\n",
              "Tomato_Yellow_Leaf_Curl_Virus           249\n",
              "Target_Spot                             229\n",
              "Spider_mites Two-spotted_spider_mite    217\n",
              "powdery_mildew                          126\n",
              "Name: labels, dtype: int64"
            ]
          },
          "metadata": {},
          "execution_count": 75
        }
      ]
    },
    {
      "cell_type": "code",
      "source": [
        "# # Get Generators\n",
        "# batch_size = 40\n",
        "# train_gen, valid_gen, test_gen = create_gens(train_df, valid_df, test_df, batch_size)\n",
        "\n",
        "# show_images(train_gen)"
      ],
      "metadata": {
        "id": "hdwTo3mDoemq"
      },
      "execution_count": 65,
      "outputs": []
    },
    {
      "cell_type": "code",
      "source": [
        "# Check how many images are in each folder, read through each folder and count the number of images in it\n",
        "for disease in os.listdir(train_dir):\n",
        "    disease_dir = os.path.join(train_dir, disease)\n",
        "    image_list = os.listdir(disease_dir)\n",
        "    print(disease + ': ' + str(len(image_list)))"
      ],
      "metadata": {
        "colab": {
          "base_uri": "https://localhost:8080/"
        },
        "id": "lAihBN8f2WLX",
        "outputId": "24e010b3-4700-4f75-899e-e4424a40cd71"
      },
      "execution_count": null,
      "outputs": [
        {
          "output_type": "stream",
          "name": "stdout",
          "text": [
            "Bacterial_spot: 2826\n",
            "Early_blight: 2514\n",
            "Late_blight: 3113\n",
            "Leaf_Mold: 2754\n",
            "Septoria_leaf_spot: 2882\n",
            "Spider_mites Two-spotted_spider_mite: 1747\n",
            "Target_Spot: 1827\n",
            "Tomato_Yellow_Leaf_Curl_Virus: 2039\n",
            "Tomato_mosaic_virus: 2153\n",
            "healthy: 3051\n",
            "powdery_mildew: 1004\n"
          ]
        }
      ]
    },
    {
      "cell_type": "code",
      "source": [
        "for disease in os.listdir(train_dir):\n",
        "    disease_dir = os.path.join(val_dir, disease)\n",
        "    image_list = os.listdir(disease_dir)\n",
        "    print(disease + ': ' + str(len(image_list)))"
      ],
      "metadata": {
        "colab": {
          "base_uri": "https://localhost:8080/"
        },
        "id": "Y60iUMkZ22Yu",
        "outputId": "ef4db24e-e608-4c91-a91f-d2c9bf2e5c92"
      },
      "execution_count": 66,
      "outputs": [
        {
          "output_type": "stream",
          "name": "stdout",
          "text": [
            "Bacterial_spot: 732\n",
            "Early_blight: 643\n",
            "Late_blight: 792\n",
            "Leaf_Mold: 739\n",
            "Septoria_leaf_spot: 746\n",
            "Spider_mites Two-spotted_spider_mite: 435\n",
            "Target_Spot: 457\n",
            "Tomato_Yellow_Leaf_Curl_Virus: 498\n",
            "Tomato_mosaic_virus: 584\n",
            "healthy: 806\n",
            "powdery_mildew: 252\n"
          ]
        }
      ]
    }
  ]
}