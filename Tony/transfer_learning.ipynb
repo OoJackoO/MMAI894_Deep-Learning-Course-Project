{
  "cells": [
    {
      "cell_type": "markdown",
      "metadata": {
        "id": "view-in-github",
        "colab_type": "text"
      },
      "source": [
        "<a href=\"https://colab.research.google.com/github/OoJackoO/MMAI894_Deep-Learning-Course-Project/blob/dev/Tony/transfer_learning.ipynb\" target=\"_parent\"><img src=\"https://colab.research.google.com/assets/colab-badge.svg\" alt=\"Open In Colab\"/></a>"
      ]
    },
    {
      "cell_type": "markdown",
      "metadata": {
        "id": "gxhcfRIN0BJH"
      },
      "source": [
        "# **1: Do the preparation for transfer learning**"
      ]
    },
    {
      "cell_type": "code",
      "execution_count": null,
      "metadata": {
        "id": "GydYHpmL0AdC",
        "colab": {
          "base_uri": "https://localhost:8080/"
        },
        "outputId": "503bddd2-85d4-471a-a4ce-f6c37a5d4ceb"
      },
      "outputs": [
        {
          "output_type": "stream",
          "name": "stdout",
          "text": [
            "Mounted at /content/NewDrive\n"
          ]
        }
      ],
      "source": [
        "# data manipulation\n",
        "import numpy as np\n",
        "import pandas as pd\n",
        "\n",
        "# image processing\n",
        "import cv2\n",
        "import matplotlib.pyplot as plt\n",
        "import seaborn as sns\n",
        "import plotly.express as px\n",
        "sns.set_style('darkgrid')\n",
        "\n",
        "# data preprocessing and modeling\n",
        "import tensorflow as tf\n",
        "from tensorflow import keras\n",
        "from keras.preprocessing.image import ImageDataGenerator\n",
        "from tensorflow.keras.layers import Conv2D, MaxPooling2D, Flatten, Dense, Activation, Dropout, BatchNormalization\n",
        "from tensorflow.keras.models import Model, load_model, Sequential\n",
        "from tensorflow.keras import layers\n",
        "from tensorflow.keras.callbacks import EarlyStopping\n",
        "from tensorflow.keras.applications.vgg16 import VGG16\n",
        "from pathlib import Path\n",
        "import imghdr\n",
        "\n",
        "# sklearn utility functions\n",
        "from sklearn.model_selection import train_test_split\n",
        "from sklearn.metrics import confusion_matrix, classification_report\n",
        "\n",
        "# others\n",
        "import os, gc, time\n",
        "import tqdm, re, json\n",
        "import glob \n",
        "from skimage import io \n",
        "\n",
        "# set up random seed\n",
        "import random\n",
        "seed = 24\n",
        "\n",
        "# customize printing\n",
        "from IPython.core.interactiveshell import InteractiveShell\n",
        "InteractiveShell.ast_node_interactivity = \"all\"\n",
        "pd.set_option('display.max_columns', None)\n",
        "pd.set_option('display.max_rows', 200)\n",
        "pd.set_option('max_colwidth', 200)\n",
        "     \n",
        "\n",
        "# mount Google Drive to Google Colab notebook\n",
        "from google.colab import drive\n",
        "drive.mount('/content/NewDrive')\n",
        "     \n",
        "\n",
        "\n"
      ]
    },
    {
      "cell_type": "code",
      "execution_count": null,
      "metadata": {
        "id": "AVelj5H_1jt9"
      },
      "outputs": [],
      "source": [
        "TRAIN_DATA_PATH = '/content/NewDrive/MyDrive/MMAI894TeamProject/train'\n",
        "VALID_DATA_PATH = '/content/NewDrive/MyDrive/MMAI894TeamProject/valid'\n",
        "\n",
        "CLASS_NAMES = sorted(os.listdir(TRAIN_DATA_PATH))\n",
        "NUM_CLASSES = len(CLASS_NAMES)"
      ]
    },
    {
      "cell_type": "markdown",
      "metadata": {
        "id": "jX2I2nrG1wor"
      },
      "source": [
        "Define utility functions\n",
        "\n",
        "\n",
        "*   training history plot\n",
        "*   confusion matrix\n"
      ]
    },
    {
      "cell_type": "code",
      "execution_count": null,
      "metadata": {
        "id": "ketFaBaz120J"
      },
      "outputs": [],
      "source": [
        "def plot_training(hist):\n",
        "  '''\n",
        "  This function plots training history. (ie training loss vs validation loss)\n",
        "  '''\n",
        "  tr_acc = hist.history['accuracy']\n",
        "  tr_loss = hist.history['loss']\n",
        "  val_acc = hist.history['val_accuracy']\n",
        "  val_loss = hist.history['val_loss']\n",
        "  index_loss = np.argmin(val_loss)\n",
        "  val_lowest = val_loss[index_loss]\n",
        "  index_acc = np.argmax(val_acc)\n",
        "  acc_highest = val_acc[index_acc]\n",
        "\n",
        "  plt.figure(figsize= (20, 8))\n",
        "  plt.style.use('fivethirtyeight')\n",
        "  Epochs = [i+1 for i in range(len(tr_acc))]\n",
        "  loss_label = f'best epoch= {str(index_loss + 1)}'\n",
        "  acc_label = f'best epoch= {str(index_acc + 1)}'\n",
        "\n",
        "  plt.subplot(1, 2, 1)\n",
        "  plt.plot(Epochs, tr_loss, 'r', label= 'Training loss')\n",
        "  plt.plot(Epochs, val_loss, 'g', label= 'Validation loss')\n",
        "  plt.scatter(index_loss + 1, val_lowest, s= 150, c= 'blue', label= loss_label)\n",
        "  plt.title('Training and Validation Loss')\n",
        "  plt.xlabel('Epochs')\n",
        "  plt.ylabel('Loss')\n",
        "  plt.legend()\n",
        "\n",
        "  plt.subplot(1, 2, 2)\n",
        "  plt.plot(Epochs, tr_acc, 'r', label= 'Training Accuracy')\n",
        "  plt.plot(Epochs, val_acc, 'g', label= 'Validation Accuracy')\n",
        "  plt.scatter(index_acc + 1 , acc_highest, s= 150, c= 'blue', label= acc_label)\n",
        "  plt.title('Training and Validation Accuracy')\n",
        "  plt.xlabel('Epochs')\n",
        "  plt.ylabel('Accuracy')\n",
        "  plt.legend()\n",
        "  plt.tight_layout\n",
        "  plt.show()"
      ]
    },
    {
      "cell_type": "code",
      "execution_count": null,
      "metadata": {
        "id": "3UhkTEit15Xl"
      },
      "outputs": [],
      "source": [
        "def make_confusion_matrix(cf, group_names=None,categories='auto', count=True,percent=False,cbar=True, \n",
        "                          xyticks=True,xyplotlabels=True,sum_stats=True,figsize=None,\n",
        "                          cmap='Blues',title=None):\n",
        "    '''\n",
        "    This function will make a pretty plot of an sklearn Confusion Matrix cm using a Seaborn heatmap visualization.\n",
        "    Arguments\n",
        "    ---------\n",
        "    cf:            confusion matrix to be passed in\n",
        "    group_names:   List of strings that represent the labels row by row to be shown in each square.\n",
        "    categories:    List of strings containing the categories to be displayed on the x,y axis. Default is 'auto'\n",
        "    count:         If True, show the raw number in the confusion matrix. Default is True.\n",
        "    normalize:     If True, show the proportions for each category. Default is True.\n",
        "    cbar:          If True, show the color bar. The cbar values are based off the values in the confusion matrix.\n",
        "                   Default is True.\n",
        "    xyticks:       If True, show x and y ticks. Default is True.\n",
        "    xyplotlabels:  If True, show 'True Label' and 'Predicted Label' on the figure. Default is True.\n",
        "    sum_stats:     If True, display summary statistics below the figure. Default is True.\n",
        "    figsize:       Tuple representing the figure size. Default will be the matplotlib rcParams value.\n",
        "    cmap:          Colormap of the values displayed from matplotlib.pyplot.cm. Default is 'Blues'\n",
        "                   See http://matplotlib.org/examples/color/colormaps_reference.html\n",
        "                   \n",
        "    title:         Title for the heatmap. Default is None.\n",
        "    '''\n",
        "\n",
        "\n",
        "    # CODE TO GENERATE TEXT INSIDE EACH SQUARE\n",
        "    blanks = ['' for i in range(cf.size)]\n",
        "\n",
        "    if group_names and len(group_names)==cf.size:\n",
        "        group_labels = [\"{}\\n\".format(value) for value in group_names]\n",
        "    else:\n",
        "        group_labels = blanks\n",
        "\n",
        "    if count:\n",
        "        group_counts = [\"{0:0.0f}\\n\".format(value) for value in cf.flatten()]\n",
        "    else:\n",
        "        group_counts = blanks\n",
        "\n",
        "    if percent:\n",
        "        group_percentages = [\"{0:.2%}\".format(value) for value in cf.flatten()/np.sum(cf)]\n",
        "    else:\n",
        "        group_percentages = blanks\n",
        "\n",
        "    box_labels = [f\"{v1}{v2}{v3}\".strip() for v1, v2, v3 in zip(group_labels,group_counts,group_percentages)]\n",
        "    box_labels = np.asarray(box_labels).reshape(cf.shape[0],cf.shape[1])\n",
        "\n",
        "\n",
        "    # CODE TO GENERATE SUMMARY STATISTICS & TEXT FOR SUMMARY STATS\n",
        "    if sum_stats:\n",
        "        #Accuracy is sum of diagonal divided by total observations\n",
        "        accuracy  = np.trace(cf) / float(np.sum(cf))\n",
        "\n",
        "        #if it is a binary confusion matrix, show some more stats\n",
        "        if len(cf)==2:\n",
        "            #Metrics for Binary Confusion Matrices\n",
        "            precision = cf[1,1] / sum(cf[:,1])\n",
        "            recall    = cf[1,1] / sum(cf[1,:])\n",
        "            f1_score  = 2*precision*recall / (precision + recall)\n",
        "            stats_text = \"\\n\\nAccuracy={:0.3f}\\nPrecision={:0.3f}\\nRecall={:0.3f}\\nF1 Score={:0.3f}\".format(\n",
        "                accuracy,precision,recall,f1_score)\n",
        "        else:\n",
        "            stats_text = \"\\n\\nAccuracy={:0.3f}\".format(accuracy)\n",
        "    else:\n",
        "        stats_text = \"\"\n",
        "\n",
        "\n",
        "    # SET FIGURE PARAMETERS ACCORDING TO OTHER ARGUMENTS\n",
        "    if figsize==None:\n",
        "        #Get default figure size if not set\n",
        "        figsize = plt.rcParams.get('figure.figsize')\n",
        "\n",
        "    if xyticks==False:\n",
        "        #Do not show categories if xyticks is False\n",
        "        categories=False\n",
        "\n",
        "\n",
        "    # MAKE THE HEATMAP VISUALIZATION\n",
        "    plt.figure(figsize=figsize)\n",
        "    sns.heatmap(cf,annot=box_labels,fmt=\"\",cmap=cmap,cbar=cbar,xticklabels=categories,yticklabels=categories)\n",
        "\n",
        "    if xyplotlabels:\n",
        "        plt.ylabel('True label')\n",
        "        plt.xlabel('Predicted label' + stats_text)\n",
        "    else:\n",
        "        plt.xlabel(stats_text)\n",
        "    \n",
        "    if title:\n",
        "        plt.title(title)\n",
        "     "
      ]
    },
    {
      "cell_type": "code",
      "execution_count": null,
      "metadata": {
        "id": "nG_Y_msQ2I_4"
      },
      "outputs": [],
      "source": [
        "def error_analysis(model, test_data):\n",
        "  plt.figure(figsize=(18,12))\n",
        "  for image_batch,label_batch in test_data.take(1):\n",
        "      predictions = model.predict(image_batch)\n",
        "      predictions = np.argmax(predictions, axis=-1)\n",
        "      for i in range(0,len(predictions) if len(predictions)<12 else 12):\n",
        "          plt.subplot(3,4,i+1)\n",
        "          plt.imshow(image_batch[i].numpy().astype(\"uint32\"))\n",
        "          true_class = test_data.class_names[np.argmax(label_batch[i])]\n",
        "          predict_class = test_data.class_names[predictions[i]]\n",
        "          title = f\"\"\"True: {true_class}\\n Predict: {predict_class}\"\"\"\n",
        "          plt.title(title, color='g' if true_class==predict_class else 'r')\n",
        "          plt.axis(\"off\")\n",
        "     "
      ]
    },
    {
      "cell_type": "markdown",
      "metadata": {
        "id": "YV8yJYIm2Jnf"
      },
      "source": [
        "# **2.Delete the useless images**"
      ]
    },
    {
      "cell_type": "code",
      "execution_count": null,
      "metadata": {
        "id": "MHYHvE5D26wM"
      },
      "outputs": [],
      "source": [
        "def image_quality_check(image_dir):\n",
        "  '''\n",
        "  This functions checks whether file formats accepted by Tensorflow ( JPEG, PNG, GIF, BMP), or may be corrupted.\n",
        "  '''\n",
        "  from pathlib import Path\n",
        "  import imghdr\n",
        "\n",
        "  image_extensions = ['.jpg', '.png', '.jpeg', '.PNG', '.JPG', '.JPEG']\n",
        "  img_type_accepted_by_tf = [\"bmp\", \"gif\", \"jpeg\", \"png\"]\n",
        "  bad_images = []\n",
        "\n",
        "  for filepath in Path(image_dir).rglob(\"*\"):\n",
        "    if filepath.suffix.lower() in image_extensions:\n",
        "        img_type = imghdr.what(filepath)\n",
        "        if img_type is None:\n",
        "            print(f\"{filepath} is not an image\")\n",
        "            bad_images.append(filepath)\n",
        "        elif img_type not in img_type_accepted_by_tf:\n",
        "            print(f\"{filepath} is a {img_type}, not accepted by TensorFlow\")\n",
        "            bad_images.append(filepath)\n",
        "  return bad_images\n"
      ]
    },
    {
      "cell_type": "code",
      "execution_count": null,
      "metadata": {
        "id": "whdKFGPT8OOx"
      },
      "outputs": [],
      "source": [
        "def image_quality_check2(image_dir):\n",
        "  '''\n",
        "  This function captures corrupted image files (jpg and png) that may missed by first QA function.\n",
        "  '''\n",
        "  import os, glob\n",
        "\n",
        "  # validate directory\n",
        "  assert os.path.exists(image_dir), \"Error: directory does not exist\"\n",
        "\n",
        "  bad_images = []\n",
        "  classes = sorted([c for c in os.listdir(image_dir) if os.path.isdir(os.path.join(image_dir, c))])\n",
        "\n",
        "  def is_valid_jpg(jpg_file):\n",
        "    with open(jpg_file, 'rb') as f:\n",
        "      f.seek(-2,2)\n",
        "      buf = f.read()\n",
        "      return buf == b'\\xff\\xd9'\n",
        "\n",
        "  def is_valid_png(png_file):\n",
        "    with open(png_file, 'rb') as f:\n",
        "      f.seek(-2,2)\n",
        "      but = f.read()\n",
        "      return but == b'\\x60\\x82'\n",
        "\n",
        "  for f_class in classes:\n",
        "    class_path = os.path.join(image_dir, f_class)\n",
        "    file_list = os.listdir(class_path)\n",
        "    desc = f'{f_class:23s}'\n",
        "    for file in tqdm.tqdm(file_list, ncols=110, desc=desc, unit='file', colour='blue'):\n",
        "      fpath = os.path.join(class_path, file)\n",
        "      index = file.rfind('.')\n",
        "      if file[index:] in ['.jpg', '.jpeg','.JPG', '.JPEG']:\n",
        "        if not is_valid_jpg(fpath):\n",
        "          print(fpath)\n",
        "          bad_images.append(fpath)\n",
        "      \n",
        "      if file[index:] in ['.png', '.PNG']:\n",
        "        if not is_valid_png(fpath):\n",
        "          print(fpath)\n",
        "          bad_images.append(fpath)\n",
        "\n",
        "  return bad_images\n",
        "     "
      ]
    },
    {
      "cell_type": "code",
      "execution_count": null,
      "metadata": {
        "id": "o_kC2RyW8aAP"
      },
      "outputs": [],
      "source": [
        "def image_quality_check3(image_dir):\n",
        "  '''\n",
        "  This function focuses on identifying corrupted png images that may be missed by the QA1 and QA2.\n",
        "  '''\n",
        "  assert os.path.exists(image_dir), \"Error: directory does not exist\"\n",
        "\n",
        "  bad_images = []\n",
        "  classes = sorted([c for c in os.listdir(image_dir) if os.path.isdir(os.path.join(image_dir, c))])\n",
        "\n",
        "  for f_class in classes:\n",
        "    class_path = os.path.join(image_dir, f_class)\n",
        "    file_list = os.listdir(class_path)\n",
        "    desc = f'{f_class:23s}'\n",
        "    for file in tqdm.tqdm(file_list, ncols=110, desc=desc, unit='file', colour='blue'):\n",
        "      fpath = os.path.join(class_path, file)\n",
        "      index = file.rfind('.')\n",
        "      if file[index:] in ['.png', '.PNG']:\n",
        "        try:\n",
        "          image = tf.io.read_file(fpath)\n",
        "          image = tf.image.decode_png(image, channels=3)\n",
        "        except:\n",
        "          bad_images.append(fpath)\n",
        "          print('defective image file: ', fpath)\n",
        "  return bad_images"
      ]
    },
    {
      "cell_type": "code",
      "execution_count": null,
      "metadata": {
        "colab": {
          "base_uri": "https://localhost:8080/"
        },
        "id": "2oNF-Oij8iFt",
        "outputId": "ddd1828e-2660-47ff-fd31-9c219fa83311"
      },
      "outputs": [
        {
          "name": "stdout",
          "output_type": "stream",
          "text": [
            "CPU times: user 2 µs, sys: 1 µs, total: 3 µs\n",
            "Wall time: 5.01 µs\n",
            "-------------------- check training set image quality. --------------------\n",
            "/content/NewDrive/MyDrive/MMAI894TeamProject/train/Early_blight/early-blight-tomato-causal-agents-260nw-1746486380.jpg is not an image\n",
            "/content/NewDrive/MyDrive/MMAI894TeamProject/train/Early_blight/EB_(976).jpg is not an image\n",
            "/content/NewDrive/MyDrive/MMAI894TeamProject/train/Early_blight/220px-Alternaria_solani_-_leaf_lesions.jpg is not an image\n",
            "/content/NewDrive/MyDrive/MMAI894TeamProject/train/Leaf_Mold/BM_(7).jpg is not an image\n",
            "/content/NewDrive/MyDrive/MMAI894TeamProject/train/Leaf_Mold/BM_(6).jpg is not an image\n",
            "/content/NewDrive/MyDrive/MMAI894TeamProject/train/Leaf_Mold/BM_(975).jpg is not an image\n",
            "/content/NewDrive/MyDrive/MMAI894TeamProject/train/Leaf_Mold/BM_(98).jpg is not an image\n",
            "/content/NewDrive/MyDrive/MMAI894TeamProject/train/Leaf_Mold/BM_(976).jpg is not an image\n",
            "/content/NewDrive/MyDrive/MMAI894TeamProject/train/Leaf_Mold/607-155-1.jpg is not an image\n",
            "/content/NewDrive/MyDrive/MMAI894TeamProject/train/Septoria_leaf_spot/SS_ (51).jpg is not an image\n",
            "/content/NewDrive/MyDrive/MMAI894TeamProject/train/healthy/tomato-leaf-isolated-on-white-260nw-580281301.jpg is not an image\n",
            "/content/NewDrive/MyDrive/MMAI894TeamProject/train/healthy/edible-tomato-leaves.jpg is a webp, not accepted by TensorFlow\n",
            "/content/NewDrive/MyDrive/MMAI894TeamProject/train/healthy/branch-tomato-leaves-iaolsted-on-260nw-1025727106.jpg is not an image\n",
            "-------------------- check test and validation set image quality. --------------------\n",
            "/content/NewDrive/MyDrive/MMAI894TeamProject/valid/Leaf_Mold/607-155-0.jpg is not an image\n",
            "/content/NewDrive/MyDrive/MMAI894TeamProject/valid/healthy/2013-08-20-05.jpg is a webp, not accepted by TensorFlow\n",
            "/content/NewDrive/MyDrive/MMAI894TeamProject/valid/healthy/tomato-leaves-isolated-on-white-260nw-1251320371.jpg is not an image\n",
            "/content/NewDrive/MyDrive/MMAI894TeamProject/valid/healthy/tomato-leaves-isolated-on-white-260nw-1313938871.jpg is not an image\n",
            "/content/NewDrive/MyDrive/MMAI894TeamProject/valid/healthy/tomato-leaf-isolated-on-white-260nw-1167806389.jpg is not an image\n"
          ]
        }
      ],
      "source": [
        "# check image quality\n",
        "%time\n",
        "print(\"-\"*20, \"check training set image quality.\",\"-\"*20)\n",
        "bad_images_train = image_quality_check(TRAIN_DATA_PATH)\n",
        "print(\"-\"*20, \"check test and validation set image quality.\",\"-\"*20)\n",
        "bad_images_val_test = image_quality_check(VALID_DATA_PATH)\n",
        "     "
      ]
    },
    {
      "cell_type": "code",
      "execution_count": null,
      "metadata": {
        "colab": {
          "base_uri": "https://localhost:8080/"
        },
        "id": "e-TW16Bz8iZB",
        "outputId": "bb319072-bee9-4199-a8ba-f956b1abc590"
      },
      "outputs": [
        {
          "name": "stdout",
          "output_type": "stream",
          "text": [
            "CPU times: user 2 µs, sys: 2 µs, total: 4 µs\n",
            "Wall time: 7.63 µs\n",
            "-------------------- check training set image quality. --------------------\n"
          ]
        },
        {
          "name": "stderr",
          "output_type": "stream",
          "text": [
            "Bacterial_spot         :  29%|\u001b[34m████████████                              \u001b[0m| 808/2826 [00:01<00:02, 995.37file/s]\u001b[0m"
          ]
        },
        {
          "name": "stdout",
          "output_type": "stream",
          "text": [
            "/content/NewDrive/MyDrive/MMAI894TeamProject/train/Bacterial_spot/bacterialspotontomatoXant.JPG\n"
          ]
        },
        {
          "name": "stderr",
          "output_type": "stream",
          "text": [
            "Bacterial_spot         : 100%|\u001b[34m█████████████████████████████████████████\u001b[0m| 2826/2826 [00:04<00:00, 627.78file/s]\u001b[0m\n",
            "Early_blight           :  42%|\u001b[34m████████████████▊                       \u001b[0m| 1029/2455 [00:01<00:01, 1200.06file/s]\u001b[0m"
          ]
        },
        {
          "name": "stdout",
          "output_type": "stream",
          "text": [
            "/content/NewDrive/MyDrive/MMAI894TeamProject/train/Early_blight/earlyblighthttp___wwwlsuagcenter.jpg\n"
          ]
        },
        {
          "name": "stderr",
          "output_type": "stream",
          "text": [
            "Early_blight           : 100%|\u001b[34m█████████████████████████████████████████\u001b[0m| 2455/2455 [00:03<00:00, 692.91file/s]\u001b[0m\n",
            "Late_blight            : 100%|\u001b[34m█████████████████████████████████████████\u001b[0m| 3113/3113 [00:04<00:00, 644.82file/s]\u001b[0m\n",
            "Leaf_Mold              : 100%|\u001b[34m█████████████████████████████████████████\u001b[0m| 2754/2754 [00:03<00:00, 802.60file/s]\u001b[0m\n",
            "Septoria_leaf_spot     : 100%|\u001b[34m█████████████████████████████████████████\u001b[0m| 2882/2882 [00:07<00:00, 395.62file/s]\u001b[0m\n",
            "Spider_mites Two-spotted_spider_mite: 100%|\u001b[34m████████████████████████████\u001b[0m| 1747/1747 [00:01<00:00, 978.67file/s]\u001b[0m\n",
            "Target_Spot            : 100%|\u001b[34m█████████████████████████████████████████\u001b[0m| 1827/1827 [00:02<00:00, 902.98file/s]\u001b[0m\n",
            "Tomato_Yellow_Leaf_Curl_Virus: 100%|\u001b[34m██████████████████████████████████\u001b[0m| 2039/2039 [00:02<00:00, 1015.58file/s]\u001b[0m\n",
            "Tomato_mosaic_virus    : 100%|\u001b[34m█████████████████████████████████████████\u001b[0m| 2153/2153 [00:16<00:00, 132.69file/s]\u001b[0m\n",
            "healthy                :  24%|\u001b[34m██████████                                \u001b[0m| 730/3051 [00:02<00:02, 814.92file/s]\u001b[0m"
          ]
        },
        {
          "name": "stdout",
          "output_type": "stream",
          "text": [
            "/content/NewDrive/MyDrive/MMAI894TeamProject/train/healthy/edible-tomato-leaves.jpg\n"
          ]
        },
        {
          "name": "stderr",
          "output_type": "stream",
          "text": [
            "healthy                :  96%|\u001b[34m██████████████████████████████████████▍ \u001b[0m| 2932/3051 [00:06<00:00, 1124.91file/s]\u001b[0m"
          ]
        },
        {
          "name": "stdout",
          "output_type": "stream",
          "text": [
            "/content/NewDrive/MyDrive/MMAI894TeamProject/train/healthy/A-Healthy-leaves-of-tomato-plants-and-B-Leaves-of-tomato-plants-inoculated-with.png\n"
          ]
        },
        {
          "name": "stderr",
          "output_type": "stream",
          "text": [
            "healthy                : 100%|\u001b[34m█████████████████████████████████████████\u001b[0m| 3051/3051 [00:06<00:00, 449.53file/s]\u001b[0m\n",
            "powdery_mildew         : 100%|\u001b[34m█████████████████████████████████████████\u001b[0m| 1004/1004 [00:01<00:00, 938.43file/s]\u001b[0m\n"
          ]
        },
        {
          "name": "stdout",
          "output_type": "stream",
          "text": [
            "-------------------- check test and validation set image quality. --------------------\n"
          ]
        },
        {
          "name": "stderr",
          "output_type": "stream",
          "text": [
            "Bacterial_spot         : 100%|\u001b[34m███████████████████████████████████████████\u001b[0m| 732/732 [00:05<00:00, 129.16file/s]\u001b[0m\n",
            "Early_blight           : 100%|\u001b[34m██████████████████████████████████████████\u001b[0m| 643/643 [00:00<00:00, 1344.57file/s]\u001b[0m\n",
            "Late_blight            : 100%|\u001b[34m███████████████████████████████████████████\u001b[0m| 792/792 [00:01<00:00, 757.92file/s]\u001b[0m\n",
            "Leaf_Mold              : 100%|\u001b[34m██████████████████████████████████████████\u001b[0m| 739/739 [00:00<00:00, 1590.98file/s]\u001b[0m\n"
          ]
        },
        {
          "name": "stdout",
          "output_type": "stream",
          "text": [
            "/content/NewDrive/MyDrive/MMAI894TeamProject/valid/Leaf_Mold/BM_(9).jpg\n"
          ]
        },
        {
          "name": "stderr",
          "output_type": "stream",
          "text": [
            "Septoria_leaf_spot     : 100%|\u001b[34m██████████████████████████████████████████\u001b[0m| 746/746 [00:00<00:00, 1475.71file/s]\u001b[0m\n",
            "Spider_mites Two-spotted_spider_mite: 100%|\u001b[34m█████████████████████████████\u001b[0m| 435/435 [00:00<00:00, 1667.08file/s]\u001b[0m\n",
            "Target_Spot            : 100%|\u001b[34m██████████████████████████████████████████\u001b[0m| 457/457 [00:00<00:00, 1414.29file/s]\u001b[0m\n",
            "Tomato_Yellow_Leaf_Curl_Virus: 100%|\u001b[34m████████████████████████████████████\u001b[0m| 498/498 [00:00<00:00, 1451.70file/s]\u001b[0m\n",
            "Tomato_mosaic_virus    : 100%|\u001b[34m███████████████████████████████████████████\u001b[0m| 584/584 [00:00<00:00, 645.19file/s]\u001b[0m\n",
            "healthy                :  77%|\u001b[34m████████████████████████████████▎         \u001b[0m| 621/806 [00:00<00:00, 1236.18file/s]\u001b[0m"
          ]
        },
        {
          "name": "stdout",
          "output_type": "stream",
          "text": [
            "/content/NewDrive/MyDrive/MMAI894TeamProject/valid/healthy/2013-08-20-05.jpg\n",
            "/content/NewDrive/MyDrive/MMAI894TeamProject/valid/healthy/HL_(336).png\n"
          ]
        },
        {
          "name": "stderr",
          "output_type": "stream",
          "text": [
            "healthy                : 100%|\u001b[34m██████████████████████████████████████████\u001b[0m| 806/806 [00:00<00:00, 1024.66file/s]\u001b[0m\n",
            "powdery_mildew         : 100%|\u001b[34m██████████████████████████████████████████\u001b[0m| 252/252 [00:00<00:00, 1576.06file/s]\u001b[0m\n"
          ]
        }
      ],
      "source": [
        "# check image quality 2\n",
        "%time\n",
        "print(\"-\"*20, \"check training set image quality.\",\"-\"*20)\n",
        "bad_images_train2 = image_quality_check2(TRAIN_DATA_PATH)\n",
        "print(\"-\"*20, \"check test and validation set image quality.\",\"-\"*20)\n",
        "bad_images_val_test2 = image_quality_check2(VALID_DATA_PATH)"
      ]
    },
    {
      "cell_type": "code",
      "execution_count": null,
      "metadata": {
        "colab": {
          "base_uri": "https://localhost:8080/"
        },
        "id": "z1wXiv228lVJ",
        "outputId": "cd184c4d-e615-40a2-983d-16a01c609ba8"
      },
      "outputs": [
        {
          "name": "stdout",
          "output_type": "stream",
          "text": [
            "CPU times: user 1e+03 ns, sys: 1e+03 ns, total: 2 µs\n",
            "Wall time: 5.48 µs\n",
            "-------------------- check training set image quality. --------------------\n"
          ]
        },
        {
          "name": "stderr",
          "output_type": "stream",
          "text": [
            "Bacterial_spot         : 100%|\u001b[34m██████████████████████████████████████\u001b[0m| 2826/2826 [00:00<00:00, 606855.58file/s]\u001b[0m\n",
            "Early_blight           : 100%|\u001b[34m██████████████████████████████████████\u001b[0m| 2455/2455 [00:00<00:00, 567704.06file/s]\u001b[0m\n",
            "Late_blight            : 100%|\u001b[34m█████████████████████████████████████████\u001b[0m| 3113/3113 [00:07<00:00, 406.78file/s]\u001b[0m\n",
            "Leaf_Mold              : 100%|\u001b[34m██████████████████████████████████████\u001b[0m| 2754/2754 [00:00<00:00, 609557.43file/s]\u001b[0m\n",
            "Septoria_leaf_spot     : 100%|\u001b[34m██████████████████████████████████████\u001b[0m| 2882/2882 [00:00<00:00, 598741.10file/s]\u001b[0m\n",
            "Spider_mites Two-spotted_spider_mite: 100%|\u001b[34m█████████████████████████\u001b[0m| 1747/1747 [00:00<00:00, 622817.60file/s]\u001b[0m\n",
            "Target_Spot            : 100%|\u001b[34m██████████████████████████████████████\u001b[0m| 1827/1827 [00:00<00:00, 599749.03file/s]\u001b[0m\n",
            "Tomato_Yellow_Leaf_Curl_Virus: 100%|\u001b[34m████████████████████████████████\u001b[0m| 2039/2039 [00:00<00:00, 648433.23file/s]\u001b[0m\n",
            "Tomato_mosaic_virus    : 100%|\u001b[34m████████████████████████████████████████\u001b[0m| 2153/2153 [00:00<00:00, 3797.12file/s]\u001b[0m\n",
            "healthy                : 100%|\u001b[34m█████████████████████████████████████████\u001b[0m| 3051/3051 [00:06<00:00, 493.25file/s]\u001b[0m\n",
            "powdery_mildew         : 100%|\u001b[34m██████████████████████████████████████\u001b[0m| 1004/1004 [00:00<00:00, 340950.63file/s]\u001b[0m\n"
          ]
        },
        {
          "name": "stdout",
          "output_type": "stream",
          "text": [
            "-------------------- check test and validation set image quality. --------------------\n"
          ]
        },
        {
          "name": "stderr",
          "output_type": "stream",
          "text": [
            "Bacterial_spot         : 100%|\u001b[34m████████████████████████████████████████\u001b[0m| 732/732 [00:00<00:00, 469526.00file/s]\u001b[0m\n",
            "Early_blight           : 100%|\u001b[34m█████████████████████████████████████████\u001b[0m| 643/643 [00:00<00:00, 28075.55file/s]\u001b[0m\n",
            "Late_blight            : 100%|\u001b[34m███████████████████████████████████████████\u001b[0m| 792/792 [00:02<00:00, 382.17file/s]\u001b[0m\n",
            "Leaf_Mold              : 100%|\u001b[34m████████████████████████████████████████\u001b[0m| 739/739 [00:00<00:00, 553300.72file/s]\u001b[0m\n",
            "Septoria_leaf_spot     : 100%|\u001b[34m████████████████████████████████████████\u001b[0m| 746/746 [00:00<00:00, 597812.53file/s]\u001b[0m\n",
            "Spider_mites Two-spotted_spider_mite: 100%|\u001b[34m███████████████████████████\u001b[0m| 435/435 [00:00<00:00, 594500.57file/s]\u001b[0m\n",
            "Target_Spot            : 100%|\u001b[34m████████████████████████████████████████\u001b[0m| 457/457 [00:00<00:00, 486003.28file/s]\u001b[0m\n",
            "Tomato_Yellow_Leaf_Curl_Virus: 100%|\u001b[34m██████████████████████████████████\u001b[0m| 498/498 [00:00<00:00, 389549.31file/s]\u001b[0m\n",
            "Tomato_mosaic_virus    : 100%|\u001b[34m████████████████████████████████████████\u001b[0m| 584/584 [00:00<00:00, 461033.98file/s]\u001b[0m\n",
            "healthy                : 100%|\u001b[34m███████████████████████████████████████████\u001b[0m| 806/806 [00:01<00:00, 525.86file/s]\u001b[0m\n"
          ]
        },
        {
          "name": "stdout",
          "output_type": "stream",
          "text": [
            "defective image file:  /content/NewDrive/MyDrive/MMAI894TeamProject/valid/healthy/HL_(336).png\n"
          ]
        },
        {
          "name": "stderr",
          "output_type": "stream",
          "text": [
            "powdery_mildew         : 100%|\u001b[34m████████████████████████████████████████\u001b[0m| 252/252 [00:00<00:00, 200296.50file/s]\u001b[0m\n"
          ]
        }
      ],
      "source": [
        "# check image quality 3\n",
        "%time\n",
        "print(\"-\"*20, \"check training set image quality.\",\"-\"*20)\n",
        "bad_images_train3 = image_quality_check3(TRAIN_DATA_PATH)\n",
        "print(\"-\"*20, \"check test and validation set image quality.\",\"-\"*20)\n",
        "bad_images_val_test3 = image_quality_check3(VALID_DATA_PATH)"
      ]
    },
    {
      "cell_type": "code",
      "execution_count": null,
      "metadata": {
        "colab": {
          "base_uri": "https://localhost:8080/"
        },
        "id": "pThrIg078n0W",
        "outputId": "25200e40-4de3-4d36-d5fd-7d901d1efc70"
      },
      "outputs": [
        {
          "data": {
            "text/plain": [
              "{'/content/NewDrive/MyDrive/MMAI894TeamProject/train/Bacterial_spot/bacterialspotontomatoXant.JPG',\n",
              " PosixPath('/content/NewDrive/MyDrive/MMAI894TeamProject/train/Early_blight/220px-Alternaria_solani_-_leaf_lesions.jpg'),\n",
              " PosixPath('/content/NewDrive/MyDrive/MMAI894TeamProject/train/Early_blight/EB_(976).jpg'),\n",
              " PosixPath('/content/NewDrive/MyDrive/MMAI894TeamProject/train/Early_blight/early-blight-tomato-causal-agents-260nw-1746486380.jpg'),\n",
              " '/content/NewDrive/MyDrive/MMAI894TeamProject/train/Early_blight/earlyblighthttp___wwwlsuagcenter.jpg',\n",
              " PosixPath('/content/NewDrive/MyDrive/MMAI894TeamProject/train/Leaf_Mold/607-155-1.jpg'),\n",
              " PosixPath('/content/NewDrive/MyDrive/MMAI894TeamProject/train/Leaf_Mold/BM_(6).jpg'),\n",
              " PosixPath('/content/NewDrive/MyDrive/MMAI894TeamProject/train/Leaf_Mold/BM_(7).jpg'),\n",
              " PosixPath('/content/NewDrive/MyDrive/MMAI894TeamProject/train/Leaf_Mold/BM_(975).jpg'),\n",
              " PosixPath('/content/NewDrive/MyDrive/MMAI894TeamProject/train/Leaf_Mold/BM_(976).jpg'),\n",
              " PosixPath('/content/NewDrive/MyDrive/MMAI894TeamProject/train/Leaf_Mold/BM_(98).jpg'),\n",
              " PosixPath('/content/NewDrive/MyDrive/MMAI894TeamProject/train/Septoria_leaf_spot/SS_ (51).jpg'),\n",
              " '/content/NewDrive/MyDrive/MMAI894TeamProject/train/healthy/A-Healthy-leaves-of-tomato-plants-and-B-Leaves-of-tomato-plants-inoculated-with.png',\n",
              " PosixPath('/content/NewDrive/MyDrive/MMAI894TeamProject/train/healthy/branch-tomato-leaves-iaolsted-on-260nw-1025727106.jpg'),\n",
              " '/content/NewDrive/MyDrive/MMAI894TeamProject/train/healthy/edible-tomato-leaves.jpg',\n",
              " PosixPath('/content/NewDrive/MyDrive/MMAI894TeamProject/train/healthy/edible-tomato-leaves.jpg'),\n",
              " PosixPath('/content/NewDrive/MyDrive/MMAI894TeamProject/train/healthy/tomato-leaf-isolated-on-white-260nw-580281301.jpg'),\n",
              " PosixPath('/content/NewDrive/MyDrive/MMAI894TeamProject/valid/Leaf_Mold/607-155-0.jpg'),\n",
              " '/content/NewDrive/MyDrive/MMAI894TeamProject/valid/Leaf_Mold/BM_(9).jpg',\n",
              " '/content/NewDrive/MyDrive/MMAI894TeamProject/valid/healthy/2013-08-20-05.jpg',\n",
              " PosixPath('/content/NewDrive/MyDrive/MMAI894TeamProject/valid/healthy/2013-08-20-05.jpg'),\n",
              " '/content/NewDrive/MyDrive/MMAI894TeamProject/valid/healthy/HL_(336).png',\n",
              " PosixPath('/content/NewDrive/MyDrive/MMAI894TeamProject/valid/healthy/tomato-leaf-isolated-on-white-260nw-1167806389.jpg'),\n",
              " PosixPath('/content/NewDrive/MyDrive/MMAI894TeamProject/valid/healthy/tomato-leaves-isolated-on-white-260nw-1251320371.jpg'),\n",
              " PosixPath('/content/NewDrive/MyDrive/MMAI894TeamProject/valid/healthy/tomato-leaves-isolated-on-white-260nw-1313938871.jpg')}"
            ]
          },
          "execution_count": 12,
          "metadata": {},
          "output_type": "execute_result"
        },
        {
          "name": "stdout",
          "output_type": "stream",
          "text": [
            "Move 25 images with bad quality.\n"
          ]
        }
      ],
      "source": [
        "move_bad_images = True\n",
        "bad_images = set(bad_images_train + bad_images_val_test + bad_images_train2 + bad_images_val_test2 + bad_images_train3 + bad_images_val_test3)\n",
        "bad_images\n",
        "\n",
        "if move_bad_images:\n",
        "  for link in bad_images:\n",
        "    if os.path.exists(link):\n",
        "      os.remove(str(link))\n",
        "\n",
        "print('Move {} images with bad quality.'.format(len(bad_images)))"
      ]
    },
    {
      "cell_type": "code",
      "execution_count": null,
      "metadata": {
        "colab": {
          "base_uri": "https://localhost:8080/"
        },
        "id": "S2WIJyZW8pNx",
        "outputId": "973f0487-0926-4109-a74d-a6fcc053b94f"
      },
      "outputs": [
        {
          "name": "stdout",
          "output_type": "stream",
          "text": [
            "25835\n",
            "6677\n"
          ]
        }
      ],
      "source": [
        "# check number of images remained\n",
        "train_len, test_len = 0, 0\n",
        "for f in os.listdir(TRAIN_DATA_PATH):\n",
        "  train_len += len(os.listdir(os.path.join(TRAIN_DATA_PATH, f)))\n",
        "  test_len += len(os.listdir(os.path.join(VALID_DATA_PATH, f)))\n",
        "print(train_len);print(test_len)"
      ]
    },
    {
      "cell_type": "markdown",
      "metadata": {
        "id": "Hz-lsMM4xlC4"
      },
      "source": [
        "# **3.Load the data and do train test valid spilt**"
      ]
    },
    {
      "cell_type": "code",
      "execution_count": null,
      "metadata": {
        "id": "GSImsYIZxrXB"
      },
      "outputs": [],
      "source": [
        "IMG_HEIGHT, IMG_WIDTH = 224, 224 \n",
        "BATCH_SIZE = 32\n",
        "LABEL_MODE = 'categorical'  # labels: one-hot encoded, a float32 tensor of shape (batch_size, num_classes). loss: categorical_crossentropy\n",
        "COLOR_MODE = 'rgb'\n",
        "VALID_TEST_RATIO = 0.5"
      ]
    },
    {
      "cell_type": "code",
      "execution_count": null,
      "metadata": {
        "colab": {
          "base_uri": "https://localhost:8080/"
        },
        "id": "Ir-HIC7axxuI",
        "outputId": "2d55f686-70df-4efb-b308-b0f78664f195"
      },
      "outputs": [
        {
          "output_type": "stream",
          "name": "stdout",
          "text": [
            "Found 25835 files belonging to 11 classes.\n"
          ]
        }
      ],
      "source": [
        "# training set - expect 25,851 (25,837) images\n",
        "train_ds = keras.utils.image_dataset_from_directory(\n",
        "        directory=TRAIN_DATA_PATH,\n",
        "        batch_size = BATCH_SIZE, \n",
        "        image_size = (IMG_HEIGHT, IMG_WIDTH), \n",
        "        label_mode=LABEL_MODE,\n",
        "        color_mode=COLOR_MODE,\n",
        "        shuffle=True,\n",
        "        seed = seed\n",
        "        )"
      ]
    },
    {
      "cell_type": "code",
      "execution_count": null,
      "metadata": {
        "colab": {
          "base_uri": "https://localhost:8080/"
        },
        "id": "0I9lPcfxx1dM",
        "outputId": "f496100c-8f76-4422-f460-66a6f0e9a8f0"
      },
      "outputs": [
        {
          "output_type": "stream",
          "name": "stdout",
          "text": [
            "Found 6677 files belonging to 11 classes.\n",
            "Using 3339 files for training.\n",
            "Using 3338 files for validation.\n"
          ]
        }
      ],
      "source": [
        "# validation and test sets - expect 6684 (6,677) images\n",
        "val_test_ds = keras.utils.image_dataset_from_directory(\n",
        "        directory=VALID_DATA_PATH,\n",
        "        batch_size = BATCH_SIZE, \n",
        "        image_size = (IMG_HEIGHT, IMG_WIDTH), \n",
        "        label_mode=LABEL_MODE,\n",
        "        color_mode=COLOR_MODE,\n",
        "        shuffle=True,\n",
        "        seed = seed,\n",
        "        validation_split = VALID_TEST_RATIO, \n",
        "        subset = 'both',\n",
        "        )\n",
        "\n",
        "valid_ds = val_test_ds[0]\n",
        "test_ds = val_test_ds[1]"
      ]
    },
    {
      "cell_type": "code",
      "execution_count": null,
      "metadata": {
        "id": "0Pc52PStyDzZ"
      },
      "outputs": [],
      "source": [
        "# audit - make sure validation and test sets are approximately follow same distribution\n",
        "assert((train_ds.class_names == valid_ds.class_names) and (train_ds.class_names == test_ds.class_names)), 'Labels in training, validation, and test does not match'\n",
        "     "
      ]
    },
    {
      "cell_type": "markdown",
      "metadata": {
        "id": "pCn3rKaWyKu7"
      },
      "source": [
        "# **4.Data Argumentation**"
      ]
    },
    {
      "cell_type": "code",
      "execution_count": null,
      "metadata": {
        "colab": {
          "base_uri": "https://localhost:8080/"
        },
        "id": "9k6hPYxhyNvx",
        "outputId": "106bdf0c-a92a-4182-f105-7218e9a9e3a6"
      },
      "outputs": [
        {
          "name": "stderr",
          "output_type": "stream",
          "text": [
            "WARNING:tensorflow:Using a while_loop for converting RngReadAndSkip cause there is no registered converter for this op.\n",
            "WARNING:tensorflow:Using a while_loop for converting Bitcast cause there is no registered converter for this op.\n",
            "WARNING:tensorflow:Using a while_loop for converting Bitcast cause there is no registered converter for this op.\n",
            "WARNING:tensorflow:Using a while_loop for converting StatelessRandomUniformV2 cause there is no registered converter for this op.\n",
            "WARNING:tensorflow:Using a while_loop for converting ImageProjectiveTransformV3 cause there is no registered converter for this op.\n",
            "WARNING:tensorflow:Using a while_loop for converting RngReadAndSkip cause there is no registered converter for this op.\n",
            "WARNING:tensorflow:Using a while_loop for converting Bitcast cause there is no registered converter for this op.\n",
            "WARNING:tensorflow:Using a while_loop for converting Bitcast cause there is no registered converter for this op.\n",
            "WARNING:tensorflow:Using a while_loop for converting StatelessRandomUniformV2 cause there is no registered converter for this op.\n",
            "WARNING:tensorflow:Using a while_loop for converting ImageProjectiveTransformV3 cause there is no registered converter for this op.\n"
          ]
        }
      ],
      "source": [
        "data_augmentation = keras.Sequential(\n",
        "    [\n",
        "      layers.RandomFlip(\"horizontal\", input_shape=(IMG_HEIGHT, IMG_WIDTH, 3)),\n",
        "      layers.RandomRotation(0.1),\n",
        "      layers.RandomZoom(0.1),\n",
        "      # layers.RandomHeight(0.2),\n",
        "      # layers.RandomWidth(0.2),\n",
        "    ], name = 'data_augmentation'\n",
        ")\n",
        "     "
      ]
    },
    {
      "cell_type": "markdown",
      "metadata": {
        "id": "N4BHOZ9Kyptf"
      },
      "source": [
        "# **5.Data preprocessing**"
      ]
    },
    {
      "cell_type": "code",
      "execution_count": null,
      "metadata": {
        "id": "zl8vQBhOys_L"
      },
      "outputs": [],
      "source": [
        "preprocessing = keras.Sequential(\n",
        "    [\n",
        "      # layers.Resizing(IMG_HEIGHT, IMG_WIDTH), \n",
        "      layers.Rescaling((1./255), input_shape=(IMG_HEIGHT, IMG_WIDTH, 3)) # some pre-trained model requires [-1, 1] like MobileNet, I would pass `scale=1./127.5, offset=-1`      \n",
        "    ], name='preprocessing'\n",
        ")"
      ]
    },
    {
      "cell_type": "markdown",
      "metadata": {
        "id": "SyvHmEWzyw6N"
      },
      "source": [
        "# **6.Transfer learning with VGG**"
      ]
    },
    {
      "cell_type": "code",
      "execution_count": null,
      "metadata": {
        "colab": {
          "base_uri": "https://localhost:8080/"
        },
        "id": "p8svQW5M5Gmt",
        "outputId": "415ff9dc-f8d9-4a04-c310-ac512c294553"
      },
      "outputs": [
        {
          "output_type": "stream",
          "name": "stdout",
          "text": [
            "Downloading data from https://storage.googleapis.com/tensorflow/keras-applications/vgg16/vgg16_weights_tf_dim_ordering_tf_kernels_notop.h5\n",
            "58889256/58889256 [==============================] - 0s 0us/step\n"
          ]
        }
      ],
      "source": [
        "#Load the VGG model\n",
        "model_VGG = VGG16(weights='imagenet', include_top=False, input_shape=(224, 224, 3))"
      ]
    },
    {
      "cell_type": "code",
      "execution_count": null,
      "metadata": {
        "colab": {
          "base_uri": "https://localhost:8080/"
        },
        "id": "elP6z8m66eiA",
        "outputId": "5ad0f3f4-f3a3-4e82-ac84-9cdcb9d3ba4b"
      },
      "outputs": [
        {
          "output_type": "stream",
          "name": "stdout",
          "text": [
            "Model: \"sequential\"\n",
            "_________________________________________________________________\n",
            " Layer (type)                Output Shape              Param #   \n",
            "=================================================================\n",
            " preprocessing (Sequential)  (None, 224, 224, 3)       0         \n",
            "                                                                 \n",
            " vgg16 (Functional)          (None, 7, 7, 512)         14714688  \n",
            "                                                                 \n",
            " global_average_pooling2d (G  (None, 512)              0         \n",
            " lobalAveragePooling2D)                                          \n",
            "                                                                 \n",
            " dense (Dense)               (None, 256)               131328    \n",
            "                                                                 \n",
            " dropout (Dropout)           (None, 256)               0         \n",
            "                                                                 \n",
            " dense_1 (Dense)             (None, 11)                2827      \n",
            "                                                                 \n",
            " softmax (Softmax)           (None, 11)                0         \n",
            "                                                                 \n",
            "=================================================================\n",
            "Total params: 14,848,843\n",
            "Trainable params: 14,848,843\n",
            "Non-trainable params: 0\n",
            "_________________________________________________________________\n"
          ]
        }
      ],
      "source": [
        "#Add some other layers \n",
        "VGG_model = tf.keras.Sequential([\n",
        "                preprocessing,\n",
        "                model_VGG,\n",
        "\n",
        "                tf.keras.layers.GlobalAveragePooling2D(),\n",
        "                tf.keras.layers.Dense(256, activation='relu'),\n",
        "                tf.keras.layers.Dropout(rate=0.5),\n",
        "                tf.keras.layers.Dense(NUM_CLASSES),\n",
        "                tf.keras.layers.Softmax()])\n",
        "\n",
        "VGG_model.summary()"
      ]
    },
    {
      "cell_type": "code",
      "execution_count": null,
      "metadata": {
        "id": "1DavEXtu6hZb"
      },
      "outputs": [],
      "source": [
        "#Compile the model\n",
        "VGG_model.compile(optimizer=tf.keras.optimizers.Adam(learning_rate=0.0001),\n",
        "       loss=tf.keras.losses.CategoricalCrossentropy(from_logits=False),\n",
        "       metrics=[\"accuracy\"])"
      ]
    },
    {
      "cell_type": "markdown",
      "metadata": {
        "id": "MwHmqIh38kkZ"
      },
      "source": [
        "Early Stopping"
      ]
    },
    {
      "cell_type": "code",
      "execution_count": null,
      "metadata": {
        "id": "X028Sgl98fMj"
      },
      "outputs": [],
      "source": [
        "early_stopping = keras.callbacks.EarlyStopping(\n",
        "    monitor='val_loss', \n",
        "    mode='min',\n",
        "    restore_best_weights=True,\n",
        "    patience=5, \n",
        "    verbose=1\n",
        ")"
      ]
    },
    {
      "cell_type": "markdown",
      "metadata": {
        "id": "k24oLTRW8nDH"
      },
      "source": [
        "Model Training"
      ]
    },
    {
      "cell_type": "code",
      "execution_count": null,
      "metadata": {
        "colab": {
          "base_uri": "https://localhost:8080/"
        },
        "id": "9iCM6oi38mYY",
        "outputId": "5598406a-d838-4430-ed15-b52f976c1e4f"
      },
      "outputs": [
        {
          "output_type": "stream",
          "name": "stdout",
          "text": [
            "Epoch 1/50\n",
            "808/808 [==============================] - 638s 748ms/step - loss: 1.1891 - accuracy: 0.5848 - val_loss: 0.4162 - val_accuracy: 0.8541\n",
            "Epoch 2/50\n",
            "808/808 [==============================] - 51s 63ms/step - loss: 0.4473 - accuracy: 0.8495 - val_loss: 0.3203 - val_accuracy: 0.8919\n",
            "Epoch 3/50\n",
            "808/808 [==============================] - 51s 63ms/step - loss: 0.3082 - accuracy: 0.8970 - val_loss: 0.2399 - val_accuracy: 0.9134\n",
            "Epoch 4/50\n",
            "808/808 [==============================] - 51s 63ms/step - loss: 0.2295 - accuracy: 0.9240 - val_loss: 0.2385 - val_accuracy: 0.9251\n",
            "Epoch 5/50\n",
            "808/808 [==============================] - 51s 63ms/step - loss: 0.2045 - accuracy: 0.9324 - val_loss: 0.2073 - val_accuracy: 0.9284\n",
            "Epoch 6/50\n",
            "808/808 [==============================] - 51s 63ms/step - loss: 0.1602 - accuracy: 0.9465 - val_loss: 0.2023 - val_accuracy: 0.9383\n",
            "Epoch 7/50\n",
            "808/808 [==============================] - 51s 63ms/step - loss: 0.1369 - accuracy: 0.9544 - val_loss: 0.1907 - val_accuracy: 0.9422\n",
            "Epoch 8/50\n",
            "808/808 [==============================] - 51s 63ms/step - loss: 0.1095 - accuracy: 0.9646 - val_loss: 0.1413 - val_accuracy: 0.9521\n",
            "Epoch 9/50\n",
            "808/808 [==============================] - 51s 63ms/step - loss: 0.1025 - accuracy: 0.9685 - val_loss: 0.2363 - val_accuracy: 0.9251\n",
            "Epoch 10/50\n",
            "808/808 [==============================] - 51s 62ms/step - loss: 0.0799 - accuracy: 0.9736 - val_loss: 0.4598 - val_accuracy: 0.9069\n",
            "Epoch 11/50\n",
            "808/808 [==============================] - 51s 63ms/step - loss: 0.0796 - accuracy: 0.9749 - val_loss: 0.1989 - val_accuracy: 0.9464\n",
            "Epoch 12/50\n",
            "808/808 [==============================] - 51s 63ms/step - loss: 0.0701 - accuracy: 0.9792 - val_loss: 0.1154 - val_accuracy: 0.9656\n",
            "Epoch 13/50\n",
            "808/808 [==============================] - 51s 63ms/step - loss: 0.0606 - accuracy: 0.9801 - val_loss: 0.2051 - val_accuracy: 0.9419\n",
            "Epoch 14/50\n",
            "808/808 [==============================] - 51s 62ms/step - loss: 0.0590 - accuracy: 0.9817 - val_loss: 0.1764 - val_accuracy: 0.9464\n",
            "Epoch 15/50\n",
            "808/808 [==============================] - 51s 63ms/step - loss: 0.0543 - accuracy: 0.9831 - val_loss: 0.1739 - val_accuracy: 0.9482\n",
            "Epoch 16/50\n",
            "808/808 [==============================] - 51s 63ms/step - loss: 0.0512 - accuracy: 0.9851 - val_loss: 0.1316 - val_accuracy: 0.9638\n",
            "Epoch 17/50\n",
            "807/808 [============================>.] - ETA: 0s - loss: 0.0496 - accuracy: 0.9851Restoring model weights from the end of the best epoch: 12.\n",
            "808/808 [==============================] - 51s 63ms/step - loss: 0.0496 - accuracy: 0.9851 - val_loss: 0.1996 - val_accuracy: 0.9413\n",
            "Epoch 17: early stopping\n"
          ]
        }
      ],
      "source": [
        "EPOCHS = 50\n",
        "\n",
        "history = VGG_model.fit(\n",
        "    train_ds,\n",
        "    validation_data = valid_ds,\n",
        "    epochs = EPOCHS,\n",
        "    callbacks = [early_stopping]\n",
        ")\n"
      ]
    },
    {
      "cell_type": "code",
      "execution_count": null,
      "metadata": {
        "id": "G2N9yua_8_xV",
        "colab": {
          "base_uri": "https://localhost:8080/",
          "height": 526
        },
        "outputId": "26136d7b-5ce1-4d34-8e31-e3affb16fea8"
      },
      "outputs": [
        {
          "output_type": "display_data",
          "data": {
            "text/plain": [
              "<Figure size 1440x576 with 2 Axes>"
            ],
            "image/png": "[encoded data removed]"
          },
          "metadata": {}
        }
      ],
      "source": [
        "plot_training(history)"
      ]
    },
    {
      "cell_type": "code",
      "execution_count": null,
      "metadata": {
        "id": "C5KdeHdP9Gju",
        "colab": {
          "base_uri": "https://localhost:8080/"
        },
        "outputId": "0ae51b4d-98f3-4439-fdfa-75824c5e80f1"
      },
      "outputs": [
        {
          "output_type": "stream",
          "name": "stdout",
          "text": [
            "105/105 [==============================] - 69s 654ms/step - loss: 0.1257 - accuracy: 0.9691\n"
          ]
        }
      ],
      "source": [
        "test_loss, test_accuracy = VGG_model.evaluate(test_ds)"
      ]
    },
    {
      "cell_type": "code",
      "source": [
        "y_true = np.array([])\n",
        "y_pred = np.array([])\n",
        "for x, y in test_ds:\n",
        "    y_true = np.concatenate([y_true, np.argmax(y, axis=-1)], axis=0)\n",
        "    y_pred = np.concatenate([y_pred, np.argmax(VGG_model.predict(x), axis=-1)], axis=0)"
      ],
      "metadata": {
        "colab": {
          "base_uri": "https://localhost:8080/"
        },
        "id": "5wGsqji6L_2a",
        "outputId": "b5a24c84-7f4c-4fa4-dc12-9ad4d2b76780"
      },
      "execution_count": null,
      "outputs": [
        {
          "output_type": "stream",
          "name": "stdout",
          "text": [
            "1/1 [==============================] - 0s 202ms/step\n",
            "1/1 [==============================] - 0s 32ms/step\n",
            "1/1 [==============================] - 0s 32ms/step\n",
            "1/1 [==============================] - 0s 32ms/step\n",
            "1/1 [==============================] - 0s 31ms/step\n",
            "1/1 [==============================] - 0s 31ms/step\n",
            "1/1 [==============================] - 0s 31ms/step\n",
            "1/1 [==============================] - 0s 31ms/step\n",
            "1/1 [==============================] - 0s 31ms/step\n",
            "1/1 [==============================] - 0s 31ms/step\n",
            "1/1 [==============================] - 0s 31ms/step\n",
            "1/1 [==============================] - 0s 31ms/step\n",
            "1/1 [==============================] - 0s 32ms/step\n",
            "1/1 [==============================] - 0s 40ms/step\n",
            "1/1 [==============================] - 0s 31ms/step\n",
            "1/1 [==============================] - 0s 32ms/step\n",
            "1/1 [==============================] - 0s 31ms/step\n",
            "1/1 [==============================] - 0s 32ms/step\n",
            "1/1 [==============================] - 0s 31ms/step\n",
            "1/1 [==============================] - 0s 33ms/step\n",
            "1/1 [==============================] - 0s 31ms/step\n",
            "1/1 [==============================] - 0s 32ms/step\n",
            "1/1 [==============================] - 0s 38ms/step\n",
            "1/1 [==============================] - 0s 31ms/step\n",
            "1/1 [==============================] - 0s 31ms/step\n",
            "1/1 [==============================] - 0s 30ms/step\n",
            "1/1 [==============================] - 0s 30ms/step\n",
            "1/1 [==============================] - 0s 30ms/step\n",
            "1/1 [==============================] - 0s 30ms/step\n",
            "1/1 [==============================] - 0s 31ms/step\n",
            "1/1 [==============================] - 0s 32ms/step\n",
            "1/1 [==============================] - 0s 33ms/step\n",
            "1/1 [==============================] - 0s 31ms/step\n",
            "1/1 [==============================] - 0s 31ms/step\n",
            "1/1 [==============================] - 0s 30ms/step\n",
            "1/1 [==============================] - 0s 30ms/step\n",
            "1/1 [==============================] - 0s 31ms/step\n",
            "1/1 [==============================] - 0s 31ms/step\n",
            "1/1 [==============================] - 0s 31ms/step\n",
            "1/1 [==============================] - 0s 31ms/step\n",
            "1/1 [==============================] - 0s 31ms/step\n",
            "1/1 [==============================] - 0s 31ms/step\n",
            "1/1 [==============================] - 0s 30ms/step\n",
            "1/1 [==============================] - 0s 30ms/step\n",
            "1/1 [==============================] - 0s 31ms/step\n",
            "1/1 [==============================] - 0s 30ms/step\n",
            "1/1 [==============================] - 0s 30ms/step\n",
            "1/1 [==============================] - 0s 30ms/step\n",
            "1/1 [==============================] - 0s 30ms/step\n",
            "1/1 [==============================] - 0s 31ms/step\n",
            "1/1 [==============================] - 0s 32ms/step\n",
            "1/1 [==============================] - 0s 31ms/step\n",
            "1/1 [==============================] - 0s 30ms/step\n",
            "1/1 [==============================] - 0s 30ms/step\n",
            "1/1 [==============================] - 0s 31ms/step\n",
            "1/1 [==============================] - 0s 30ms/step\n",
            "1/1 [==============================] - 0s 29ms/step\n",
            "1/1 [==============================] - 0s 32ms/step\n",
            "1/1 [==============================] - 0s 30ms/step\n",
            "1/1 [==============================] - 0s 31ms/step\n",
            "1/1 [==============================] - 0s 31ms/step\n",
            "1/1 [==============================] - 0s 31ms/step\n",
            "1/1 [==============================] - 0s 31ms/step\n",
            "1/1 [==============================] - 0s 30ms/step\n",
            "1/1 [==============================] - 0s 30ms/step\n",
            "1/1 [==============================] - 0s 30ms/step\n",
            "1/1 [==============================] - 0s 30ms/step\n",
            "1/1 [==============================] - 0s 31ms/step\n",
            "1/1 [==============================] - 0s 31ms/step\n",
            "1/1 [==============================] - 0s 31ms/step\n",
            "1/1 [==============================] - 0s 30ms/step\n",
            "1/1 [==============================] - 0s 33ms/step\n",
            "1/1 [==============================] - 0s 29ms/step\n",
            "1/1 [==============================] - 0s 32ms/step\n",
            "1/1 [==============================] - 0s 31ms/step\n",
            "1/1 [==============================] - 0s 33ms/step\n",
            "1/1 [==============================] - 0s 30ms/step\n",
            "1/1 [==============================] - 0s 31ms/step\n",
            "1/1 [==============================] - 0s 30ms/step\n",
            "1/1 [==============================] - 0s 30ms/step\n",
            "1/1 [==============================] - 0s 32ms/step\n",
            "1/1 [==============================] - 0s 33ms/step\n",
            "1/1 [==============================] - 0s 30ms/step\n",
            "1/1 [==============================] - 0s 33ms/step\n",
            "1/1 [==============================] - 0s 33ms/step\n",
            "1/1 [==============================] - 0s 31ms/step\n",
            "1/1 [==============================] - 0s 31ms/step\n",
            "1/1 [==============================] - 0s 31ms/step\n",
            "1/1 [==============================] - 0s 31ms/step\n",
            "1/1 [==============================] - 0s 30ms/step\n",
            "1/1 [==============================] - 0s 32ms/step\n",
            "1/1 [==============================] - 0s 30ms/step\n",
            "1/1 [==============================] - 0s 30ms/step\n",
            "1/1 [==============================] - 0s 30ms/step\n",
            "1/1 [==============================] - 0s 32ms/step\n",
            "1/1 [==============================] - 0s 31ms/step\n",
            "1/1 [==============================] - 0s 33ms/step\n",
            "1/1 [==============================] - 0s 33ms/step\n",
            "1/1 [==============================] - 0s 32ms/step\n",
            "1/1 [==============================] - 0s 31ms/step\n",
            "1/1 [==============================] - 0s 31ms/step\n",
            "1/1 [==============================] - 0s 31ms/step\n",
            "1/1 [==============================] - 0s 34ms/step\n",
            "1/1 [==============================] - 0s 31ms/step\n",
            "1/1 [==============================] - 0s 153ms/step\n"
          ]
        }
      ]
    },
    {
      "cell_type": "code",
      "source": [
        "cf = confusion_matrix(y_true, y_pred)\n",
        "make_confusion_matrix(cf, test_ds.class_names,figsize=(14,14))"
      ],
      "metadata": {
        "colab": {
          "base_uri": "https://localhost:8080/",
          "height": 928
        },
        "id": "ffJra6fMK5zx",
        "outputId": "282c3b6a-b6c3-4a98-8806-83e44024f7c6"
      },
      "execution_count": null,
      "outputs": [
        {
          "output_type": "display_data",
          "data": {
            "text/plain": [
              "<Figure size 1008x1008 with 2 Axes>"
            ],
            "image/png": "[encoded data removed]"
          },
          "metadata": {}
        }
      ]
    }
  ],
  "metadata": {
    "colab": {
      "provenance": [],
      "authorship_tag": "ABX9TyOYh8fjj2O56zJFCvfD132o",
      "include_colab_link": true
    },
    "gpuClass": "premium",
    "kernelspec": {
      "display_name": "Python 3",
      "name": "python3"
    },
    "language_info": {
      "name": "python"
    },
    "accelerator": "GPU"
  },
  "nbformat": 4,
  "nbformat_minor": 0
}